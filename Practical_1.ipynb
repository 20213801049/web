{
  "cells": [
    {
      "cell_type": "markdown",
      "metadata": {
        "id": "9ufViJ1z1Csl"
      },
      "source": [
        "# Machine Learning (JC3509) - Practical 1\n",
        "\n",
        "### Module Coordinator:\n",
        "Aiden Durrant (aiden.durrant@abdn.ac.uk)\n",
        "\n",
        "### Teaching Assistant:\n",
        "Goujing Zhou (guojing.zhou@abdn.ac.uk)\n",
        "\n"
      ]
    },
    {
      "cell_type": "markdown",
      "source": [
        "# Introduction\n",
        "\n",
        "In today's practical session we will spend some time getting familiar with the environments and libraries we will be using throughout the module.\n",
        "\n",
        "<br>\n",
        "\n",
        "Read the tutorial below to learn some of the key features, properties, and functions of the libraries, there are some useful examples to help you.\n",
        "\n",
        "<br>\n",
        "\n",
        "Once you have read the tutorial (remember to run all the cells), complete the questions below.\n",
        "\n",
        "<br>\n",
        "\n",
        "If you have any questions, feel free to ask."
      ],
      "metadata": {
        "id": "4bbTram63Kub"
      }
    },
    {
      "cell_type": "markdown",
      "metadata": {
        "id": "_NzztDcO1Csn"
      },
      "source": [
        "# Codio"
      ]
    },
    {
      "cell_type": "markdown",
      "metadata": {
        "id": "cOqIvxDb1Cso"
      },
      "source": [
        "You should have this file opened in the Codio editor. However, you are free to run this code however you wish.\n",
        "\n",
        "If you would like more information on working within Codio, see the material on Blackboard:\n",
        "\n",
        "`Lectures & Practicals / Day 1 / Practical / Codio Tutorial`"
      ]
    },
    {
      "cell_type": "markdown",
      "source": [
        "### Installing Packages\n",
        "\n",
        "1. Open a terminal via `Tools --> Terminal` or `Shift+Alt+T`\n",
        "\n",
        "2. Install the following packages line by line\n",
        "\n",
        "`pip install pandas`\n",
        "\n",
        "`pip install seaborn`\n",
        "\n",
        "`pip install scikit-learn`\n",
        "\n",
        "`pip install torch torchvision --index-url https://download.pytorch.org/whl/cpu`\n",
        "\n",
        "If the final command to install torch does not load, do not worry about installing for now, instead refer back to this command once we arrive to the later practicals."
      ],
      "metadata": {
        "id": "t7y18hCX49YJ"
      }
    },
    {
      "cell_type": "markdown",
      "metadata": {
        "id": "T7OUMhOz1Csm"
      },
      "source": [
        "# Working with Python"
      ]
    },
    {
      "cell_type": "markdown",
      "metadata": {
        "id": "7LYO375P1Cso"
      },
      "source": [
        "## IPython / Jupyter environment"
      ]
    },
    {
      "cell_type": "markdown",
      "metadata": {
        "id": "hAScwHHK1Cso"
      },
      "source": [
        "Basic knowledge of `python` is assumed for this course. If you haven't used python before, you are strongly advised to familiarise yourselves with basic python syntax and working in the Jupyter environment. There are many excellent tutorials available on the web and you can choose the ones you like the most. If you are not sure which ones to choose, these are good starting points:\n",
        "\n",
        "[Introduction to Python for scientific computing](http://bebi103.caltech.edu/2015/tutorials/t1a_intro_to_python.html)\n",
        "\n",
        "[Introduction to Jupyter notebooks](http://bebi103.caltech.edu/2015/tutorials/t0b_intro_to_jupyter_notebooks.html)"
      ]
    },
    {
      "cell_type": "markdown",
      "metadata": {
        "id": "15kzA9_21Cso"
      },
      "source": [
        "**IMPORTANT**\n",
        "\n",
        "Many of the practicals will be completed in Jupyter Notebooks, so do ask questions if you're struggling with using Jupyter Notebooks."
      ]
    },
    {
      "cell_type": "markdown",
      "metadata": {
        "id": "R-MXjtEj1Csp"
      },
      "source": [
        "### Basic operation and shortcuts"
      ]
    },
    {
      "cell_type": "markdown",
      "metadata": {
        "id": "Y7f3sYUG1Csp"
      },
      "source": [
        "There are two modes of selection when inside a Jupyter Notebook:\n",
        "    1. Command Mode - When you hit up/down arrows you select different cells. Hit enter to enter edit mode.\n",
        "    2. Edit Mode (Markdown) - You can edit the cell. Hit Esc to enter Command Mode again."
      ]
    },
    {
      "cell_type": "markdown",
      "metadata": {
        "id": "fL8rRM591Csp"
      },
      "source": [
        "In Command Mode (cell highlighted blue):\n",
        "```\n",
        "                h - bring up help window (contains full list of shortcuts!)\n",
        "          <enter> - Enter Edit Mode\n",
        "                a - create new cell above selected\n",
        "                b - create cell below selected\n",
        "             d, d - delete selected cell\n",
        "```\n",
        "\n",
        "In Edit Mode (cell highlighted green):\n",
        "```\n",
        "            <esc> - Enter Command Mode\n",
        "<shift> + <enter> - Run cell and move to cell below in Command Mode\n",
        " <ctrl> + <enter> - Run cell in place\n",
        "\n",
        "```"
      ]
    },
    {
      "cell_type": "markdown",
      "metadata": {
        "id": "fpgScTi31Csp"
      },
      "source": [
        "### Printing and cell output"
      ]
    },
    {
      "cell_type": "markdown",
      "metadata": {
        "id": "hb-1IWcK1Csp"
      },
      "source": [
        "A Jupyter notebook is a collection of code and text cells. Each code cell can be run and the output is given below the cell. A number appears at the side of the cell to indicate the order in which the cells were run.\n",
        "\n",
        "All objects created by running cells are stored in the kernel running in the background. You can restart the kernel by using the Kernel menu at the top of the notebook.\n",
        "\n",
        "You'll notice that the notebook will try to display the last thing in the cell, even if you don't use a print statement. However, if you want to print multiple things from one cell, you need to use multiple print statements (or multiple cells)."
      ]
    },
    {
      "cell_type": "code",
      "execution_count": null,
      "metadata": {
        "id": "jbECtUim1Csp",
        "outputId": "0cd01bcd-7471-452a-d376-ecf1d6dc6d4d"
      },
      "outputs": [
        {
          "data": {
            "text/plain": [
              "11"
            ]
          },
          "execution_count": 2,
          "metadata": {},
          "output_type": "execute_result"
        }
      ],
      "source": [
        "x = 11\n",
        "y = 22\n",
        "x"
      ]
    },
    {
      "cell_type": "code",
      "execution_count": null,
      "metadata": {
        "id": "w8pQkEI41Csq",
        "outputId": "99fe1003-9952-4812-936f-9080962a14a2"
      },
      "outputs": [
        {
          "data": {
            "text/plain": [
              "22"
            ]
          },
          "execution_count": 2,
          "metadata": {},
          "output_type": "execute_result"
        }
      ],
      "source": [
        "x\n",
        "y"
      ]
    },
    {
      "cell_type": "code",
      "execution_count": null,
      "metadata": {
        "id": "7k-5nSpe1Csq",
        "outputId": "c6f16e43-bbd8-4465-df0c-2e7b5ec47eff"
      },
      "outputs": [
        {
          "name": "stdout",
          "output_type": "stream",
          "text": [
            "11\n",
            "22\n"
          ]
        }
      ],
      "source": [
        "print(x)\n",
        "print(y)"
      ]
    },
    {
      "cell_type": "markdown",
      "metadata": {
        "id": "o88y-8uo1Csr"
      },
      "source": [
        "### Connecting to the Kernel"
      ]
    },
    {
      "cell_type": "markdown",
      "metadata": {
        "id": "gpmRT_011Csr"
      },
      "source": [
        "Sometimes we might want to connect to the same notebook kernel from multiple frontends. This is useful for excecuting quick calculations, or checking objects currently stored in the kernel, without having to create a new cell in the notebook.\n",
        "\n",
        "The `%connect_info` line magic displays the information necessary to connect another frontend to the Notebook kernel."
      ]
    },
    {
      "cell_type": "code",
      "execution_count": null,
      "metadata": {
        "id": "HAQ_gFgy1Csr",
        "outputId": "3fcab1bb-3b2c-4cf7-e402-c97dfa4e3a94"
      },
      "outputs": [
        {
          "name": "stdout",
          "output_type": "stream",
          "text": [
            "{\n",
            "  \"shell_port\": 65131,\n",
            "  \"iopub_port\": 65132,\n",
            "  \"stdin_port\": 65133,\n",
            "  \"control_port\": 65135,\n",
            "  \"hb_port\": 65134,\n",
            "  \"ip\": \"127.0.0.1\",\n",
            "  \"key\": \"ac7dd8c4-33a0b23774f68dd2902ce7ac\",\n",
            "  \"transport\": \"tcp\",\n",
            "  \"signature_scheme\": \"hmac-sha256\",\n",
            "  \"kernel_name\": \"\"\n",
            "}\n",
            "\n",
            "Paste the above JSON into a file, and connect with:\n",
            "    $> jupyter <app> --existing <file>\n",
            "or, if you are local, you can connect with just:\n",
            "    $> jupyter <app> --existing kernel-c0aff468-c93d-4843-ad7e-ba5d2ffe4791.json\n",
            "or even just:\n",
            "    $> jupyter <app> --existing\n",
            "if this is the most recent Jupyter kernel you have started.\n"
          ]
        }
      ],
      "source": [
        "%connect_info"
      ]
    },
    {
      "cell_type": "markdown",
      "metadata": {
        "id": "ocZSCW4f1Csr"
      },
      "source": [
        "For example, if this is the only kernel you have started, go to your terminal and execute:\n",
        "\n",
        "* `jupyter console --existing`\n",
        "\n",
        "This will bring up a console that is connected to the same kernel as this notebook. This can be handy if you want to do some exploration of objects without creating new cells in the workbook."
      ]
    },
    {
      "cell_type": "markdown",
      "metadata": {
        "id": "GEgsz67d1Csr"
      },
      "source": [
        "#### **WARNING**"
      ]
    },
    {
      "cell_type": "markdown",
      "metadata": {
        "id": "T6i7QdRw1Css"
      },
      "source": [
        "If you connect to a kernel via the console, be careful you do not kill the kernel when quitting the console. You must use:\n",
        "\n",
        "* `<ctrl> + d`\n",
        "* or `exit(keep_kernel=True)`"
      ]
    },
    {
      "cell_type": "markdown",
      "metadata": {
        "id": "CDDnghdq1Css"
      },
      "source": [
        "### Built-in magic commands"
      ]
    },
    {
      "cell_type": "markdown",
      "metadata": {
        "id": "lwefsy7p1Css"
      },
      "source": [
        "There are [many built-in magic commands](http://ipython.readthedocs.io/en/stable/interactive/magics.html) (like `%connect_info`) which allow you to do other fun things with notebooks. Check them out."
      ]
    },
    {
      "cell_type": "markdown",
      "metadata": {
        "id": "Vl7cBCbb1Css"
      },
      "source": [
        "### Tab completion"
      ]
    },
    {
      "cell_type": "markdown",
      "metadata": {
        "id": "vEnZO7ix1Css"
      },
      "source": [
        "Tab completion is a powerful method for viewing object attributes and available methods.\n",
        "\n",
        "Let's see an example of this by using a Python [list](http://www.tutorialspoint.com/python/python_lists.htm). We will create a list and then you can see what methods are available by typing the list name followed by `.` and then hitting the &lt;tab&gt; key. Then you can access any method's help documentation by hitting the method's name followed by `?`; this opens a 'pager' at the bottom of the screen, you can hit &lt;esc&gt; to exit it."
      ]
    },
    {
      "cell_type": "code",
      "execution_count": null,
      "metadata": {
        "id": "Yul4OC1H1Css",
        "outputId": "ed0f322b-9982-4891-e7cf-d5eda3585a35"
      },
      "outputs": [
        {
          "data": {
            "text/plain": [
              "[3, 1.5, 'example']"
            ]
          },
          "execution_count": 5,
          "metadata": {},
          "output_type": "execute_result"
        }
      ],
      "source": [
        "a = [3, 1.5, 'example']\n",
        "a"
      ]
    },
    {
      "cell_type": "code",
      "execution_count": null,
      "metadata": {
        "id": "hAIob3mO1Css"
      },
      "outputs": [],
      "source": [
        "# type a. then hit <tab>"
      ]
    },
    {
      "cell_type": "code",
      "execution_count": null,
      "metadata": {
        "id": "aws6-K9L1Css"
      },
      "outputs": [],
      "source": [
        "a.append?"
      ]
    },
    {
      "cell_type": "markdown",
      "metadata": {
        "id": "ZDtPeqpy1Cso"
      },
      "source": [
        "## Main packages to be used in this course"
      ]
    },
    {
      "cell_type": "markdown",
      "metadata": {
        "id": "EDMsarE-1Cso"
      },
      "source": [
        "The following are the main **packages** that we would be using in this course. If you are already familiar with them, please just move to the exercises at the end of this notebook.\n",
        "\n",
        "The packages that we will use are the following:\n",
        "* [numpy](http://www.numpy.org/): scientific computing by using array objects\n",
        "\n",
        "\n",
        "* [pandas](http://pandas.pydata.org/): data structures and data analysis tools\n",
        "\n",
        "\n",
        "* [matplotlib](http://matplotlib.org/): plotting library (similar to MATLAB's plot interface)\n",
        "\n",
        "\n",
        "* [seaborn](https://seaborn.github.io/index.html): data visualisation library which works on top of matplotlib\n",
        "\n",
        "\n",
        "* [PyTorch](https://pytorch.org/): the core open source library to help you develop and train ML models.\n",
        "\n",
        "\n",
        "* [scikit-learn](http://scikit-learn.org/stable/): a machine learning library implementing many learning algorithms and useful tools."
      ]
    },
    {
      "cell_type": "markdown",
      "metadata": {
        "id": "OGn2S3JS1Css"
      },
      "source": [
        "## Import packages"
      ]
    },
    {
      "cell_type": "markdown",
      "metadata": {
        "id": "9x9yv3Oc1Cst"
      },
      "source": [
        "It's generally good practice to import all your packages at the top of a file. We will do so in future tutorials."
      ]
    },
    {
      "cell_type": "markdown",
      "metadata": {
        "id": "dFS1cqiw1Cst"
      },
      "source": [
        "Before we start, we need to import the packages that we will be using later. If you are having trouble importing any of these packages make sure that these are properly installed. If you still encounter issues, refer to Installing instructions."
      ]
    },
    {
      "cell_type": "code",
      "execution_count": null,
      "metadata": {
        "id": "TzKR_4ce1Cst"
      },
      "outputs": [],
      "source": [
        "#from __future__ import division, print_function\n",
        "import os\n",
        "import sys\n",
        "import numpy as np\n",
        "import pandas as pd\n",
        "from matplotlib import pyplot as plt\n",
        "import seaborn as sns"
      ]
    },
    {
      "cell_type": "markdown",
      "metadata": {
        "id": "ICtDvbYW1Cst"
      },
      "source": [
        "# Numpy introduction"
      ]
    },
    {
      "cell_type": "markdown",
      "metadata": {
        "id": "WmpLmR7h1Cst"
      },
      "source": [
        "Numpy is a powerful scientific computing library. The fundmental object is the (n-dimensional) numpy array and the library provides a collection of tools for working with such arrays. If you are already familiar with MATLAB you might find this [tutorial](https://docs.scipy.org/doc/numpy-dev/user/numpy-for-matlab-users.html) useful.\n",
        "\n",
        "The following Numpy introduction is largely based on this [tutorial](http://cs231n.github.io/python-numpy-tutorial/#numpy)."
      ]
    },
    {
      "cell_type": "markdown",
      "metadata": {
        "id": "929jo46k1Cst"
      },
      "source": [
        "### Arrays"
      ]
    },
    {
      "cell_type": "markdown",
      "metadata": {
        "id": "-LSdRddj1Cst"
      },
      "source": [
        "A numpy array is a grid of values, all of the same type, and is indexed by a [tuple](http://www.tutorialspoint.com/python/python_tuples.htm) of nonnegative integers. The number of dimensions is the rank of the array; the shape of an array is a tuple of integers giving the size of the array along each dimension. *N.B. this use of the word 'rank' is not the same as the meaning in linear algebra.*\n",
        "\n",
        "We can initialize numpy arrays from nested Python [lists](http://www.tutorialspoint.com/python/python_lists.htm), and access elements using square brackets:"
      ]
    },
    {
      "cell_type": "code",
      "execution_count": null,
      "metadata": {
        "id": "nHpTstUJ1Csv",
        "outputId": "4e1cf09c-e5bd-465f-f93f-d65f80fb73fc"
      },
      "outputs": [
        {
          "data": {
            "text/plain": [
              "array([1, 2, 3])"
            ]
          },
          "execution_count": 9,
          "metadata": {},
          "output_type": "execute_result"
        }
      ],
      "source": [
        "#import numpy as np\n",
        "a = np.array([1, 2, 3])  # Creates a rank 1 array (i.e. vector)\n",
        "a"
      ]
    },
    {
      "cell_type": "code",
      "execution_count": null,
      "metadata": {
        "id": "2LFGQrdd1Csw",
        "outputId": "4bd698a4-d9cc-4c6c-957c-06c84356f04c"
      },
      "outputs": [
        {
          "data": {
            "text/plain": [
              "numpy.ndarray"
            ]
          },
          "execution_count": 10,
          "metadata": {},
          "output_type": "execute_result"
        }
      ],
      "source": [
        "type(a)  # Prints the type of object a (array)"
      ]
    },
    {
      "cell_type": "code",
      "execution_count": null,
      "metadata": {
        "id": "Za8uv7k91Csw",
        "outputId": "5316707e-96fc-477a-d449-88b2712717bf"
      },
      "outputs": [
        {
          "data": {
            "text/plain": [
              "(3,)"
            ]
          },
          "execution_count": 11,
          "metadata": {},
          "output_type": "execute_result"
        }
      ],
      "source": [
        "a.shape  # Prints the number of elements for each dimension"
      ]
    },
    {
      "cell_type": "code",
      "execution_count": null,
      "metadata": {
        "id": "agCC6zNQ1Csw",
        "outputId": "81dfabd1-1b53-40c4-87e1-c32b24c9fdf3"
      },
      "outputs": [
        {
          "name": "stdout",
          "output_type": "stream",
          "text": [
            "1 2 3 3 2 1\n"
          ]
        }
      ],
      "source": [
        "print(a[0], a[1], a[2], a[-1], a[-2], a[-3])  # Select array elements by index (starts at 0)"
      ]
    },
    {
      "cell_type": "code",
      "execution_count": null,
      "metadata": {
        "id": "RohnMKDh1Csw",
        "outputId": "1a4d51f0-6a01-4c1e-85a6-1dc12edba117"
      },
      "outputs": [
        {
          "name": "stdout",
          "output_type": "stream",
          "text": [
            "index 3 is out of bounds for axis 0 with size 3\n"
          ]
        }
      ],
      "source": [
        "try:\n",
        "    a[3]  # Will error\n",
        "except IndexError as e:\n",
        "    print('{}'.format(e))\n",
        "except:\n",
        "    print(\"Unexpected error:\", sys.exc_info()[0])\n",
        "    raise"
      ]
    },
    {
      "cell_type": "code",
      "execution_count": null,
      "metadata": {
        "id": "frjVQH5-1Csw"
      },
      "outputs": [],
      "source": [
        "a[0] = 5  # Change an element of the array"
      ]
    },
    {
      "cell_type": "code",
      "execution_count": null,
      "metadata": {
        "id": "nF-_LrcF1Csx",
        "outputId": "6e133853-e495-467e-b2b9-7ce67f12fcd6"
      },
      "outputs": [
        {
          "data": {
            "text/plain": [
              "array([5, 2, 3])"
            ]
          },
          "execution_count": 15,
          "metadata": {},
          "output_type": "execute_result"
        }
      ],
      "source": [
        "a"
      ]
    },
    {
      "cell_type": "code",
      "execution_count": null,
      "metadata": {
        "id": "Uz7dE55q1Csx",
        "outputId": "e685873c-5e32-4544-950e-fe87bda4f985"
      },
      "outputs": [
        {
          "data": {
            "text/plain": [
              "array([[1, 2, 3],\n",
              "       [4, 5, 6]])"
            ]
          },
          "execution_count": 16,
          "metadata": {},
          "output_type": "execute_result"
        }
      ],
      "source": [
        "b = np.array([[1,2,3],[4,5,6]])   # Create a rank 2 array\n",
        "b"
      ]
    },
    {
      "cell_type": "code",
      "execution_count": null,
      "metadata": {
        "id": "MLm-jvYx1Csx",
        "outputId": "04bc0b4d-eb21-4975-fb63-81ee604e91fc"
      },
      "outputs": [
        {
          "data": {
            "text/plain": [
              "(2, 3)"
            ]
          },
          "execution_count": 17,
          "metadata": {},
          "output_type": "execute_result"
        }
      ],
      "source": [
        "b.shape"
      ]
    },
    {
      "cell_type": "code",
      "execution_count": null,
      "metadata": {
        "id": "a3dBU53h1Csx",
        "outputId": "11976a39-b229-4df2-fc25-94c43d15ec33"
      },
      "outputs": [
        {
          "name": "stdout",
          "output_type": "stream",
          "text": [
            "1 2 4\n"
          ]
        }
      ],
      "source": [
        "print(b[0, 0], b[0, 1], b[1, 0])"
      ]
    },
    {
      "cell_type": "markdown",
      "metadata": {
        "id": "_S7VlXOx1Csx"
      },
      "source": [
        "N.B. Python follows [0-based indexing](https://en.wikipedia.org/wiki/Zero-based_numbering) (as opposed to MATLAB which follows 1-based indexing)."
      ]
    },
    {
      "cell_type": "markdown",
      "metadata": {
        "id": "qzrSmDVk1Csx"
      },
      "source": [
        "### Creating arrays"
      ]
    },
    {
      "cell_type": "markdown",
      "metadata": {
        "id": "ddCKki691Csy"
      },
      "source": [
        "We have many options here:"
      ]
    },
    {
      "cell_type": "markdown",
      "metadata": {
        "id": "_ijA8EDm1Csy"
      },
      "source": [
        "#### Set matrix types"
      ]
    },
    {
      "cell_type": "markdown",
      "metadata": {
        "id": "lUQMpT1g1Csy"
      },
      "source": [
        "Generally the first argument is simply the shape of the resulting array"
      ]
    },
    {
      "cell_type": "code",
      "execution_count": null,
      "metadata": {
        "id": "HgawfRWG1Csy",
        "outputId": "1bec29d6-33b8-4c80-da58-4b1640d13cf4"
      },
      "outputs": [
        {
          "data": {
            "text/plain": [
              "array([[0., 0.],\n",
              "       [0., 0.]])"
            ]
          },
          "execution_count": 19,
          "metadata": {},
          "output_type": "execute_result"
        }
      ],
      "source": [
        "np.zeros((2, 2))"
      ]
    },
    {
      "cell_type": "code",
      "execution_count": null,
      "metadata": {
        "id": "8a14pEKM1Csy",
        "outputId": "782be820-628a-4139-d522-a575fe4044d2"
      },
      "outputs": [
        {
          "data": {
            "text/plain": [
              "array([[1., 1.]])"
            ]
          },
          "execution_count": 20,
          "metadata": {},
          "output_type": "execute_result"
        }
      ],
      "source": [
        "np.ones((1, 2))"
      ]
    },
    {
      "cell_type": "code",
      "execution_count": null,
      "metadata": {
        "id": "kkoNq0bm1Csy",
        "outputId": "a053d9db-9c48-4358-eadd-8280df04fed3"
      },
      "outputs": [
        {
          "data": {
            "text/plain": [
              "array([[7, 7],\n",
              "       [7, 7]])"
            ]
          },
          "execution_count": 21,
          "metadata": {},
          "output_type": "execute_result"
        }
      ],
      "source": [
        "np.full((2, 2), 7)"
      ]
    },
    {
      "cell_type": "code",
      "execution_count": null,
      "metadata": {
        "id": "2OFJYOZZ1Csy",
        "outputId": "2d8c8016-fe3a-496e-91cd-50c5263119fa"
      },
      "outputs": [
        {
          "data": {
            "text/plain": [
              "array([[1., 0.],\n",
              "       [0., 1.]])"
            ]
          },
          "execution_count": 22,
          "metadata": {},
          "output_type": "execute_result"
        }
      ],
      "source": [
        "np.eye(2)"
      ]
    },
    {
      "cell_type": "code",
      "execution_count": null,
      "metadata": {
        "id": "tKwVyabx1Csy",
        "outputId": "343e7ff4-bae3-4037-b8d6-cafe6272b731"
      },
      "outputs": [
        {
          "data": {
            "text/plain": [
              "array([[0.96810102, 0.23212399],\n",
              "       [0.13957854, 0.12092593]])"
            ]
          },
          "execution_count": 23,
          "metadata": {},
          "output_type": "execute_result"
        }
      ],
      "source": [
        "np.random.random((2, 2))"
      ]
    },
    {
      "cell_type": "code",
      "execution_count": null,
      "metadata": {
        "id": "uPd21-eN1Csz",
        "outputId": "1ba6d00c-315e-43cb-cc90-1f65f2e19111"
      },
      "outputs": [
        {
          "data": {
            "text/plain": [
              "(array([[2.09291627],\n",
              "        [2.16559312],\n",
              "        [2.21652156],\n",
              "        [2.01508228]]),\n",
              " array([2.20837827, 1.95127482, 1.77133256, 1.92212814, 2.13484431,\n",
              "        2.09609668, 1.6018638 , 2.18856486, 2.17961552, 1.85312854]))"
            ]
          },
          "execution_count": 24,
          "metadata": {},
          "output_type": "execute_result"
        }
      ],
      "source": [
        "mu = 2\n",
        "sigma = .2\n",
        "np.random.normal(mu, sigma, (4,1)), np.random.normal(mu, sigma, 10)"
      ]
    },
    {
      "cell_type": "markdown",
      "metadata": {
        "id": "0zv6HYlW1Csz"
      },
      "source": [
        "#### From a list"
      ]
    },
    {
      "cell_type": "code",
      "execution_count": null,
      "metadata": {
        "id": "hyEasJEy1Csz",
        "outputId": "88ef6c47-00db-4af6-ad42-daca60a4a5b4"
      },
      "outputs": [
        {
          "data": {
            "text/plain": [
              "array([1, 4, 6, 8])"
            ]
          },
          "execution_count": 7,
          "metadata": {},
          "output_type": "execute_result"
        }
      ],
      "source": [
        "some_list = [1, 4, 6, 8]\n",
        "e = np.array(some_list)\n",
        "e"
      ]
    },
    {
      "cell_type": "code",
      "execution_count": null,
      "metadata": {
        "id": "CsOIn3y21Csz",
        "outputId": "a32ba00b-71c4-4f8d-fd2e-6f084f0a9915"
      },
      "outputs": [
        {
          "data": {
            "text/plain": [
              "array([[1., 4., 6., 8.],\n",
              "       [2., 2., 4., 4.]])"
            ]
          },
          "execution_count": 8,
          "metadata": {},
          "output_type": "execute_result"
        }
      ],
      "source": [
        "some_list = [[1, 4, 6, 8], [2, 2, 4, 4]]\n",
        "f = np.array(some_list, dtype=float)\n",
        "f"
      ]
    },
    {
      "cell_type": "markdown",
      "metadata": {
        "id": "zcy3Ic7I1Csz"
      },
      "source": [
        "#### Appending an existing array"
      ]
    },
    {
      "cell_type": "code",
      "execution_count": null,
      "metadata": {
        "id": "2jRTkhby1Csz",
        "outputId": "667e4047-84a1-48be-9315-27532f2fdb6f"
      },
      "outputs": [
        {
          "data": {
            "text/plain": [
              "array([0., 1., 2., 3., 4., 5., 6., 7., 8., 9.])"
            ]
          },
          "execution_count": 9,
          "metadata": {},
          "output_type": "execute_result"
        }
      ],
      "source": [
        "g = np.array([])\n",
        "for ii in range(10):\n",
        "    g = np.append(g, ii)\n",
        "g"
      ]
    },
    {
      "cell_type": "markdown",
      "metadata": {
        "id": "DcQC2K5M1Csz"
      },
      "source": [
        "Be careful with types though, numpy will do some inference on your behalf...it may not be what you want/intended."
      ]
    },
    {
      "cell_type": "code",
      "execution_count": null,
      "metadata": {
        "id": "Zbud0u9i1Csz",
        "outputId": "b4278423-de4c-4535-f105-8ee95128c1ef"
      },
      "outputs": [
        {
          "data": {
            "text/plain": [
              "array(['0.0', '1.0', '2.0', '3.0', '4.0', '5.0', '6.0', '7.0', '8.0',\n",
              "       '9.0', 'hello'], dtype='<U32')"
            ]
          },
          "execution_count": 10,
          "metadata": {},
          "output_type": "execute_result"
        }
      ],
      "source": [
        "np.append(g, 'hello')"
      ]
    },
    {
      "cell_type": "code",
      "execution_count": null,
      "metadata": {
        "id": "10Kl8qPe1Csz",
        "outputId": "7389ef2a-fdd2-44df-a332-868e1970411b"
      },
      "outputs": [
        {
          "data": {
            "text/plain": [
              "dtype('int32')"
            ]
          },
          "execution_count": 11,
          "metadata": {},
          "output_type": "execute_result"
        }
      ],
      "source": [
        "e.dtype"
      ]
    },
    {
      "cell_type": "code",
      "execution_count": null,
      "metadata": {
        "id": "T40k72UC1Cs0",
        "outputId": "1d71ace6-1e72-4d3e-93c8-b5e0d1817e7a"
      },
      "outputs": [
        {
          "data": {
            "text/plain": [
              "array([1., 4., 6., 8., 2.])"
            ]
          },
          "execution_count": 12,
          "metadata": {},
          "output_type": "execute_result"
        }
      ],
      "source": [
        "np.append(e, 2.0)"
      ]
    },
    {
      "cell_type": "code",
      "execution_count": null,
      "metadata": {
        "id": "tTqWyW-91Cs0",
        "outputId": "b303d863-7711-47a1-a105-ee73e51eb9af"
      },
      "outputs": [
        {
          "data": {
            "text/plain": [
              "dtype('float64')"
            ]
          },
          "execution_count": 13,
          "metadata": {},
          "output_type": "execute_result"
        }
      ],
      "source": [
        "np.append(e, 2.0).dtype"
      ]
    },
    {
      "cell_type": "markdown",
      "metadata": {
        "id": "ZldAG6vD1Cs0"
      },
      "source": [
        "### Array indexing"
      ]
    },
    {
      "cell_type": "markdown",
      "metadata": {
        "id": "LqA8gB5U1Cs0"
      },
      "source": [
        "Slicing is the most common way to index arrays. This works in a similar way to indexing python lists.\n",
        "\n",
        "There are also other options, such as integer and boolean array indexing."
      ]
    },
    {
      "cell_type": "code",
      "execution_count": null,
      "metadata": {
        "id": "DKa40SSs1Cs0",
        "outputId": "f3f2ff3c-44d1-4b0e-b8aa-07b77e939f8b"
      },
      "outputs": [
        {
          "data": {
            "text/plain": [
              "array([[ 1,  2,  3,  4],\n",
              "       [ 5,  6,  7,  8],\n",
              "       [ 9, 10, 11, 12]])"
            ]
          },
          "execution_count": 14,
          "metadata": {},
          "output_type": "execute_result"
        }
      ],
      "source": [
        "a = np.array([[1,2,3,4], [5,6,7,8], [9,10,11,12]])\n",
        "a"
      ]
    },
    {
      "cell_type": "code",
      "execution_count": null,
      "metadata": {
        "id": "npORId8q1Cs0",
        "outputId": "71cbd128-31c5-4a71-fcde-82921ce2c265"
      },
      "outputs": [
        {
          "data": {
            "text/plain": [
              "array([[2, 3],\n",
              "       [6, 7]])"
            ]
          },
          "execution_count": 33,
          "metadata": {},
          "output_type": "execute_result"
        }
      ],
      "source": [
        "b = a[:2, 1:3]\n",
        "b"
      ]
    },
    {
      "cell_type": "code",
      "execution_count": null,
      "metadata": {
        "id": "bo7cgifL1Cs1",
        "outputId": "ed67f663-0333-4a24-9b06-46a0448778af"
      },
      "outputs": [
        {
          "data": {
            "text/plain": [
              "2"
            ]
          },
          "execution_count": 34,
          "metadata": {},
          "output_type": "execute_result"
        }
      ],
      "source": [
        "a[0, 1]"
      ]
    },
    {
      "cell_type": "markdown",
      "metadata": {
        "id": "Z_L0RupZ1Cs1"
      },
      "source": [
        "A slice of an array is a view into the same data, so modifying it will modify the original array. For example: b[0, 0] is the same piece of data as a[0, 1]. Modifying b will modify a."
      ]
    },
    {
      "cell_type": "code",
      "execution_count": null,
      "metadata": {
        "id": "QQkrynnp1Cs1",
        "outputId": "2d3f79cc-412d-4c96-dea9-2e91142da430"
      },
      "outputs": [
        {
          "data": {
            "text/plain": [
              "77"
            ]
          },
          "execution_count": 35,
          "metadata": {},
          "output_type": "execute_result"
        }
      ],
      "source": [
        "b[0, 0] = 77\n",
        "a[0, 1]"
      ]
    },
    {
      "cell_type": "markdown",
      "metadata": {
        "id": "JbTe0FZK1Cs1"
      },
      "source": [
        "### Array datatypes"
      ]
    },
    {
      "cell_type": "markdown",
      "metadata": {
        "id": "zMgH2bjI1Cs1"
      },
      "source": [
        "Every numpy array is a grid of elements of the same type. Numpy provides a large set of numeric datatypes that you can use to construct arrays. Numpy tries to guess a datatype when you create an array, but functions that construct arrays usually also include an optional argument to explicitly specify the datatype. Here is an example:"
      ]
    },
    {
      "cell_type": "code",
      "execution_count": null,
      "metadata": {
        "id": "VNPGwWjz1Cs1",
        "outputId": "15d00118-61c1-40bb-dc41-ddaa62e24f0b"
      },
      "outputs": [
        {
          "data": {
            "text/plain": [
              "dtype('int32')"
            ]
          },
          "execution_count": 36,
          "metadata": {},
          "output_type": "execute_result"
        }
      ],
      "source": [
        "x = np.array([1, 2])  # Let numpy choose the datatype\n",
        "x.dtype"
      ]
    },
    {
      "cell_type": "code",
      "execution_count": null,
      "metadata": {
        "id": "ouycPwSJ1Cs1",
        "outputId": "e290b25f-663e-4423-b776-888c817c8fd5"
      },
      "outputs": [
        {
          "data": {
            "text/plain": [
              "dtype('float64')"
            ]
          },
          "execution_count": 37,
          "metadata": {},
          "output_type": "execute_result"
        }
      ],
      "source": [
        "x = np.array([1.0, 2.0])  # Let numpy choose the datatype\n",
        "x.dtype"
      ]
    },
    {
      "cell_type": "code",
      "execution_count": null,
      "metadata": {
        "id": "348qKEo71Cs1",
        "outputId": "2424d778-5d46-48c8-c37a-933888f78129"
      },
      "outputs": [
        {
          "data": {
            "text/plain": [
              "dtype('int64')"
            ]
          },
          "execution_count": 38,
          "metadata": {},
          "output_type": "execute_result"
        }
      ],
      "source": [
        "x = np.array([1, 2], dtype=np.int64)  # Force a particular datatype\n",
        "x.dtype"
      ]
    },
    {
      "cell_type": "markdown",
      "metadata": {
        "id": "KOsGxo-T1Cs1"
      },
      "source": [
        "### Array math"
      ]
    },
    {
      "cell_type": "markdown",
      "metadata": {
        "id": "pDUdpc011Cs1"
      },
      "source": [
        "Basic mathematical functions operate elementwise on arrays, and are available both as operator overloads and as functions in the numpy module:"
      ]
    },
    {
      "cell_type": "code",
      "execution_count": null,
      "metadata": {
        "id": "f0d4rUqM1Cs2",
        "outputId": "9f86f6e1-3c3b-485c-e423-0bde79427a70"
      },
      "outputs": [
        {
          "data": {
            "text/plain": [
              "array([[1., 2.],\n",
              "       [3., 4.]])"
            ]
          },
          "execution_count": 39,
          "metadata": {},
          "output_type": "execute_result"
        }
      ],
      "source": [
        "x = np.array([[1, 2], [3, 4]], dtype=np.float64)\n",
        "x"
      ]
    },
    {
      "cell_type": "code",
      "execution_count": null,
      "metadata": {
        "id": "Q8kw-DJG1Cs2",
        "outputId": "6bb5252d-6edc-4a20-9844-2a5937fd8709"
      },
      "outputs": [
        {
          "data": {
            "text/plain": [
              "array([[5., 6.],\n",
              "       [7., 8.]])"
            ]
          },
          "execution_count": 40,
          "metadata": {},
          "output_type": "execute_result"
        }
      ],
      "source": [
        "y = np.array([[5, 6], [7, 8]], dtype=np.float64)\n",
        "y"
      ]
    },
    {
      "cell_type": "markdown",
      "metadata": {
        "id": "MTfNiELp1Cs2"
      },
      "source": [
        "#### Elementwise sum, equivalent expressions:"
      ]
    },
    {
      "cell_type": "code",
      "execution_count": null,
      "metadata": {
        "id": "ZiBvS3AB1Cs2",
        "outputId": "5135601f-e70e-44d9-b9cc-a5a9e86ae34b"
      },
      "outputs": [
        {
          "data": {
            "text/plain": [
              "array([[ 6.,  8.],\n",
              "       [10., 12.]])"
            ]
          },
          "execution_count": 41,
          "metadata": {},
          "output_type": "execute_result"
        }
      ],
      "source": [
        "x + y"
      ]
    },
    {
      "cell_type": "code",
      "execution_count": null,
      "metadata": {
        "id": "LcISOSbc1Cs2",
        "outputId": "bed6b796-7805-4757-ce4e-dbc775971c2e"
      },
      "outputs": [
        {
          "data": {
            "text/plain": [
              "array([[ 6.,  8.],\n",
              "       [10., 12.]])"
            ]
          },
          "execution_count": 42,
          "metadata": {},
          "output_type": "execute_result"
        }
      ],
      "source": [
        "np.add(x, y)"
      ]
    },
    {
      "cell_type": "markdown",
      "metadata": {
        "id": "wHBYhLx41Cs2"
      },
      "source": [
        "#### Elementwise difference, equivalent expressions:"
      ]
    },
    {
      "cell_type": "code",
      "execution_count": null,
      "metadata": {
        "id": "jkDqHfMt1Cs2",
        "outputId": "cd48b3a8-7535-4ba1-92f3-21cdad7ac780"
      },
      "outputs": [
        {
          "data": {
            "text/plain": [
              "array([[-4., -4.],\n",
              "       [-4., -4.]])"
            ]
          },
          "execution_count": 43,
          "metadata": {},
          "output_type": "execute_result"
        }
      ],
      "source": [
        "x - y"
      ]
    },
    {
      "cell_type": "code",
      "execution_count": null,
      "metadata": {
        "id": "RrSwZIzX1Cs2",
        "outputId": "ad414acd-b078-4e69-db1c-99f40ccd8a07"
      },
      "outputs": [
        {
          "data": {
            "text/plain": [
              "array([[-4., -4.],\n",
              "       [-4., -4.]])"
            ]
          },
          "execution_count": 44,
          "metadata": {},
          "output_type": "execute_result"
        }
      ],
      "source": [
        "np.subtract(x, y)"
      ]
    },
    {
      "cell_type": "markdown",
      "metadata": {
        "id": "dt_wU7fm1Cs2"
      },
      "source": [
        "#### Elementwise product, equivalent expressions:"
      ]
    },
    {
      "cell_type": "code",
      "execution_count": null,
      "metadata": {
        "id": "hqfOGJqv1Cs2",
        "outputId": "4d61c706-8bc1-4497-eacb-b7dc62858b32"
      },
      "outputs": [
        {
          "data": {
            "text/plain": [
              "array([[ 5., 12.],\n",
              "       [21., 32.]])"
            ]
          },
          "execution_count": 45,
          "metadata": {},
          "output_type": "execute_result"
        }
      ],
      "source": [
        "x * y"
      ]
    },
    {
      "cell_type": "code",
      "execution_count": null,
      "metadata": {
        "id": "1XYc-l9l1Cs2",
        "outputId": "ab8e5940-e5a7-4bb1-92f1-f2cffa5d4036"
      },
      "outputs": [
        {
          "data": {
            "text/plain": [
              "array([[ 5., 12.],\n",
              "       [21., 32.]])"
            ]
          },
          "execution_count": 46,
          "metadata": {},
          "output_type": "execute_result"
        }
      ],
      "source": [
        "np.multiply(x, y)"
      ]
    },
    {
      "cell_type": "markdown",
      "metadata": {
        "id": "eLuGap561Cs2"
      },
      "source": [
        "#### Elementwise division, equivalent expressions:"
      ]
    },
    {
      "cell_type": "code",
      "execution_count": null,
      "metadata": {
        "id": "Fy175TVX1Cs3",
        "outputId": "2d199534-9899-4eaa-b136-805365e67d37"
      },
      "outputs": [
        {
          "data": {
            "text/plain": [
              "array([[0.2       , 0.33333333],\n",
              "       [0.42857143, 0.5       ]])"
            ]
          },
          "execution_count": 47,
          "metadata": {},
          "output_type": "execute_result"
        }
      ],
      "source": [
        "x / y"
      ]
    },
    {
      "cell_type": "code",
      "execution_count": null,
      "metadata": {
        "id": "tBNIsdyW1Cs3",
        "outputId": "305ce96a-477c-414f-d870-530e025619ff"
      },
      "outputs": [
        {
          "data": {
            "text/plain": [
              "array([[0.2       , 0.33333333],\n",
              "       [0.42857143, 0.5       ]])"
            ]
          },
          "execution_count": 48,
          "metadata": {},
          "output_type": "execute_result"
        }
      ],
      "source": [
        "np.divide(x, y)"
      ]
    },
    {
      "cell_type": "markdown",
      "metadata": {
        "id": "hvy-TNlE1Cs3"
      },
      "source": [
        "#### Elementwise square root"
      ]
    },
    {
      "cell_type": "code",
      "execution_count": null,
      "metadata": {
        "id": "sp8fMc-z1Cs3",
        "outputId": "b7db6c05-f875-413d-933a-71c80d0874d8"
      },
      "outputs": [
        {
          "data": {
            "text/plain": [
              "array([[1.        , 1.41421356],\n",
              "       [1.73205081, 2.        ]])"
            ]
          },
          "execution_count": 49,
          "metadata": {},
          "output_type": "execute_result"
        }
      ],
      "source": [
        "np.sqrt(x)"
      ]
    },
    {
      "cell_type": "markdown",
      "metadata": {
        "id": "X8VdnFQY1Cs3"
      },
      "source": [
        "#### Dot product and matrix multiplicaiton"
      ]
    },
    {
      "cell_type": "markdown",
      "metadata": {
        "id": "rzi_xc0M1Cs3"
      },
      "source": [
        "Note that unlike MATLAB, * is elementwise multiplication, not matrix multiplication. We instead use the `np.dot` function or `.dot` method to compute inner products of vectors, to multiply a vector by a matrix, and to multiply matrices. `dot` is available both as a function in the numpy module and as an instance method of array objects:"
      ]
    },
    {
      "cell_type": "code",
      "execution_count": null,
      "metadata": {
        "id": "z96Rk--31Cs3"
      },
      "outputs": [],
      "source": [
        "x = np.array([[1, 2], [3, 4]])\n",
        "y = np.array([[5, 6], [7, 8]])\n",
        "v = np.array([9, 10])\n",
        "w = np.array([11, 12])"
      ]
    },
    {
      "cell_type": "markdown",
      "metadata": {
        "id": "_egBv0NZ1Cs3"
      },
      "source": [
        "##### Inner product of vectors"
      ]
    },
    {
      "cell_type": "code",
      "execution_count": null,
      "metadata": {
        "id": "h1rYRFN41Cs3",
        "outputId": "de10b4a6-1370-4712-b27e-c3eece5ef392"
      },
      "outputs": [
        {
          "data": {
            "text/plain": [
              "219"
            ]
          },
          "execution_count": 51,
          "metadata": {},
          "output_type": "execute_result"
        }
      ],
      "source": [
        "np.dot(v, w)"
      ]
    },
    {
      "cell_type": "markdown",
      "metadata": {
        "id": "sNLAOFJo1Cs3"
      },
      "source": [
        "##### Matrix vector product"
      ]
    },
    {
      "cell_type": "code",
      "execution_count": null,
      "metadata": {
        "id": "Wpd_SRWg1Cs3",
        "outputId": "cc07a043-eb26-4c56-c301-783de88c23e1"
      },
      "outputs": [
        {
          "data": {
            "text/plain": [
              "array([29, 67])"
            ]
          },
          "execution_count": 52,
          "metadata": {},
          "output_type": "execute_result"
        }
      ],
      "source": [
        "x.dot(v)  # using x's method"
      ]
    },
    {
      "cell_type": "code",
      "execution_count": null,
      "metadata": {
        "id": "wupYdopb1Cs3",
        "outputId": "251cc542-4131-420c-a101-fd18ae2917bf"
      },
      "outputs": [
        {
          "data": {
            "text/plain": [
              "array([29, 67])"
            ]
          },
          "execution_count": 53,
          "metadata": {},
          "output_type": "execute_result"
        }
      ],
      "source": [
        "np.dot(x, v)  # using the numpy function"
      ]
    },
    {
      "cell_type": "markdown",
      "metadata": {
        "id": "Ol36MBce1Cs4"
      },
      "source": [
        "##### Matrix matrix product"
      ]
    },
    {
      "cell_type": "code",
      "execution_count": null,
      "metadata": {
        "id": "lYyblwBB1Cs4",
        "outputId": "d4f363f4-4bfa-4353-c8fc-91f757ab164f"
      },
      "outputs": [
        {
          "data": {
            "text/plain": [
              "array([[19, 22],\n",
              "       [43, 50]])"
            ]
          },
          "execution_count": 54,
          "metadata": {},
          "output_type": "execute_result"
        }
      ],
      "source": [
        "x.dot(y)  # using x's method"
      ]
    },
    {
      "cell_type": "code",
      "execution_count": null,
      "metadata": {
        "id": "cmzHJgqa1Cs4",
        "outputId": "c8f4a18b-7f5a-444b-be8c-92ec0f299d59"
      },
      "outputs": [
        {
          "data": {
            "text/plain": [
              "array([[19, 22],\n",
              "       [43, 50]])"
            ]
          },
          "execution_count": 55,
          "metadata": {},
          "output_type": "execute_result"
        }
      ],
      "source": [
        "np.dot(x, y)  # using the numpy function"
      ]
    },
    {
      "cell_type": "markdown",
      "metadata": {
        "id": "gc6B0qGh1Cs4"
      },
      "source": [
        "### Mathematical functions"
      ]
    },
    {
      "cell_type": "markdown",
      "metadata": {
        "id": "TEyqBDD_1Cs4"
      },
      "source": [
        "Numpy provides many useful functions for performing computations on arrays; one of the most useful is `sum`:"
      ]
    },
    {
      "cell_type": "code",
      "execution_count": null,
      "metadata": {
        "id": "nm6n2UR61Cs4",
        "outputId": "4c2b7539-22dd-4d9e-e266-c8aa25c4624b"
      },
      "outputs": [
        {
          "data": {
            "text/plain": [
              "array([[1, 2],\n",
              "       [3, 4]])"
            ]
          },
          "execution_count": 56,
          "metadata": {},
          "output_type": "execute_result"
        }
      ],
      "source": [
        "x = np.array([[1, 2], [3, 4]])\n",
        "x"
      ]
    },
    {
      "cell_type": "code",
      "execution_count": null,
      "metadata": {
        "id": "dWySMSrY1Cs4",
        "outputId": "f92fdec4-6d10-4815-a1dc-af0da73d7389"
      },
      "outputs": [
        {
          "data": {
            "text/plain": [
              "10"
            ]
          },
          "execution_count": 57,
          "metadata": {},
          "output_type": "execute_result"
        }
      ],
      "source": [
        "np.sum(x)  # Compute sum of all elements"
      ]
    },
    {
      "cell_type": "code",
      "execution_count": null,
      "metadata": {
        "id": "nUkhHeae1Cs4",
        "outputId": "3b49c28c-2e17-40bc-f276-1e3336eaf459"
      },
      "outputs": [
        {
          "data": {
            "text/plain": [
              "array([4, 6])"
            ]
          },
          "execution_count": 58,
          "metadata": {},
          "output_type": "execute_result"
        }
      ],
      "source": [
        "np.sum(x, axis=0)  # Compute sum of each column - sum *over rows* i.e. dimension 0"
      ]
    },
    {
      "cell_type": "code",
      "execution_count": null,
      "metadata": {
        "id": "XJ13Fe8Z1Cs4",
        "outputId": "40e6605c-c5e0-4dfc-eb1e-312937618840"
      },
      "outputs": [
        {
          "data": {
            "text/plain": [
              "array([3, 7])"
            ]
          },
          "execution_count": 59,
          "metadata": {},
          "output_type": "execute_result"
        }
      ],
      "source": [
        "np.sum(x, axis=1)  # Compute sum of each row - sum *over columns* i.e. dimension 1"
      ]
    },
    {
      "cell_type": "markdown",
      "metadata": {
        "id": "HQoX2it51Cs4"
      },
      "source": [
        "You can find the full list of mathematical functions provided by numpy in the [documentation](http://docs.scipy.org/doc/numpy/reference/routines.math.html).\n"
      ]
    },
    {
      "cell_type": "markdown",
      "metadata": {
        "id": "G_4Szhow1Cs4"
      },
      "source": [
        "Apart from computing mathematical functions using arrays, we frequently need to reshape or otherwise manipulate data in arrays. The simplest example of this type of operation is transposing a matrix; to transpose a matrix, simply use the `T` attribute of an array object:"
      ]
    },
    {
      "cell_type": "code",
      "execution_count": null,
      "metadata": {
        "id": "AxH4hKog1Cs5",
        "outputId": "feb2fe0e-6aa0-4bcc-8d1d-810c81e565ee"
      },
      "outputs": [
        {
          "data": {
            "text/plain": [
              "array([[0, 1],\n",
              "       [2, 3]])"
            ]
          },
          "execution_count": 60,
          "metadata": {},
          "output_type": "execute_result"
        }
      ],
      "source": [
        "x = np.arange(4).reshape((2, 2))\n",
        "x"
      ]
    },
    {
      "cell_type": "code",
      "execution_count": null,
      "metadata": {
        "id": "hJjLVRPF1Cs5",
        "outputId": "347cf098-2038-4332-9a40-65c4e79cc13b"
      },
      "outputs": [
        {
          "data": {
            "text/plain": [
              "array([[0, 2],\n",
              "       [1, 3]])"
            ]
          },
          "execution_count": 61,
          "metadata": {},
          "output_type": "execute_result"
        }
      ],
      "source": [
        "x.T"
      ]
    },
    {
      "cell_type": "code",
      "execution_count": null,
      "metadata": {
        "id": "gSLEk5TL1Cs5",
        "outputId": "2687aa6c-3ac2-4cf3-e482-bf6de475e6a0"
      },
      "outputs": [
        {
          "data": {
            "text/plain": [
              "array([[0, 2],\n",
              "       [1, 3]])"
            ]
          },
          "execution_count": 62,
          "metadata": {},
          "output_type": "execute_result"
        }
      ],
      "source": [
        "np.transpose(x) # Equivalent expression"
      ]
    },
    {
      "cell_type": "code",
      "execution_count": null,
      "metadata": {
        "id": "1tvPxr1k1Cs5",
        "outputId": "f163a5c7-16a9-4e5f-f1d5-740da5ec9e70"
      },
      "outputs": [
        {
          "data": {
            "text/plain": [
              "array([1, 2, 3])"
            ]
          },
          "execution_count": 63,
          "metadata": {},
          "output_type": "execute_result"
        }
      ],
      "source": [
        "# Note that taking the transpose of a rank 1 array (a vector) does nothing:\n",
        "v = np.array([1, 2, 3])\n",
        "v"
      ]
    },
    {
      "cell_type": "code",
      "execution_count": null,
      "metadata": {
        "id": "3StAwCEV1Cs5",
        "outputId": "e05c8843-3293-4369-b729-d2b8f19dcec4"
      },
      "outputs": [
        {
          "data": {
            "text/plain": [
              "array([1, 2, 3])"
            ]
          },
          "execution_count": 64,
          "metadata": {},
          "output_type": "execute_result"
        }
      ],
      "source": [
        "v.T"
      ]
    },
    {
      "cell_type": "code",
      "execution_count": null,
      "metadata": {
        "id": "6A8ebVc81Cs5",
        "outputId": "50d4e45d-1995-48ee-fc1c-549a8b681057"
      },
      "outputs": [
        {
          "data": {
            "text/plain": [
              "array([[0],\n",
              "       [1],\n",
              "       [2],\n",
              "       [3]])"
            ]
          },
          "execution_count": 65,
          "metadata": {},
          "output_type": "execute_result"
        }
      ],
      "source": [
        "x.reshape((4, 1))"
      ]
    },
    {
      "cell_type": "code",
      "execution_count": null,
      "metadata": {
        "id": "Ti5ttwlq1Cs5",
        "outputId": "503ce5db-261d-457f-d10a-bd0d0b992fdb"
      },
      "outputs": [
        {
          "data": {
            "text/plain": [
              "array([0, 1, 2, 3])"
            ]
          },
          "execution_count": 66,
          "metadata": {},
          "output_type": "execute_result"
        }
      ],
      "source": [
        "x.reshape((4,))"
      ]
    },
    {
      "cell_type": "code",
      "execution_count": null,
      "metadata": {
        "id": "_XKYA9fV1Cs5",
        "outputId": "a82b3faf-35f7-42be-871d-6c1dda803650"
      },
      "outputs": [
        {
          "data": {
            "text/plain": [
              "array([[[ 0,  1,  2],\n",
              "        [ 3,  4,  5],\n",
              "        [ 6,  7,  8]],\n",
              "\n",
              "       [[ 9, 10, 11],\n",
              "        [12, 13, 14],\n",
              "        [15, 16, 17]],\n",
              "\n",
              "       [[18, 19, 20],\n",
              "        [21, 22, 23],\n",
              "        [24, 25, 26]]])"
            ]
          },
          "execution_count": 67,
          "metadata": {},
          "output_type": "execute_result"
        }
      ],
      "source": [
        "y = np.arange(27).reshape((3, 3, 3))\n",
        "y"
      ]
    },
    {
      "cell_type": "code",
      "execution_count": null,
      "metadata": {
        "id": "xLjSGZmX1Cs6",
        "outputId": "e5fe10a4-6e77-4221-dfb8-9b7a575220cc"
      },
      "outputs": [
        {
          "data": {
            "text/plain": [
              "(3, 3, 3)"
            ]
          },
          "execution_count": 68,
          "metadata": {},
          "output_type": "execute_result"
        }
      ],
      "source": [
        "y.shape"
      ]
    },
    {
      "cell_type": "code",
      "execution_count": null,
      "metadata": {
        "id": "rvb_0aPs1Cs6",
        "outputId": "6ca21bf5-08db-4ca8-94b4-a72853a10008"
      },
      "outputs": [
        {
          "data": {
            "text/plain": [
              "array([[ 0,  1,  2,  3,  4,  5,  6,  7,  8],\n",
              "       [ 9, 10, 11, 12, 13, 14, 15, 16, 17],\n",
              "       [18, 19, 20, 21, 22, 23, 24, 25, 26]])"
            ]
          },
          "execution_count": 69,
          "metadata": {},
          "output_type": "execute_result"
        }
      ],
      "source": [
        "y.reshape((3, -1))"
      ]
    },
    {
      "cell_type": "code",
      "execution_count": null,
      "metadata": {
        "id": "r5Ug7qs-1Cs6",
        "outputId": "e9e5e760-df53-4969-bcc7-358d2a1f539b"
      },
      "outputs": [
        {
          "data": {
            "text/plain": [
              "(3, 9)"
            ]
          },
          "execution_count": 70,
          "metadata": {},
          "output_type": "execute_result"
        }
      ],
      "source": [
        "y.reshape((3, -1)).shape"
      ]
    },
    {
      "cell_type": "markdown",
      "metadata": {
        "id": "jgsf6z5I1Cs6"
      },
      "source": [
        "### Broadcasting"
      ]
    },
    {
      "cell_type": "markdown",
      "metadata": {
        "id": "UpYwqtZM1Cs6"
      },
      "source": [
        "Broadcasting is a powerful mechanism that allows numpy to work with arrays of different shapes when performing arithmetic operations. Frequently we have a smaller array and a larger array, and we want to use the smaller array multiple times to perform some operation on the larger array.\n",
        "\n",
        "For example, suppose that we want to add a constant vector to each row of a matrix."
      ]
    },
    {
      "cell_type": "code",
      "execution_count": null,
      "metadata": {
        "id": "H7SzIhcq1Cs6",
        "outputId": "f6d4a9d6-82f0-4cd2-ae47-96c509ac8e53"
      },
      "outputs": [
        {
          "data": {
            "text/plain": [
              "array([[ 0,  1,  2],\n",
              "       [ 3,  4,  5],\n",
              "       [ 6,  7,  8],\n",
              "       [ 9, 10, 11]])"
            ]
          },
          "execution_count": 71,
          "metadata": {},
          "output_type": "execute_result"
        }
      ],
      "source": [
        "x = np.arange(12).reshape((4, 3))\n",
        "x"
      ]
    },
    {
      "cell_type": "code",
      "execution_count": null,
      "metadata": {
        "id": "0osVOz8t1Cs6",
        "outputId": "68389304-0289-41a9-cf25-7f1106456162"
      },
      "outputs": [
        {
          "data": {
            "text/plain": [
              "array([1, 0, 1])"
            ]
          },
          "execution_count": 72,
          "metadata": {},
          "output_type": "execute_result"
        }
      ],
      "source": [
        "v = np.array([1, 0, 1])\n",
        "v"
      ]
    },
    {
      "cell_type": "code",
      "execution_count": null,
      "metadata": {
        "id": "aY7Fa7qA1Cs6",
        "outputId": "26a2d1df-4989-4fb5-b388-3efc4beec799"
      },
      "outputs": [
        {
          "data": {
            "text/plain": [
              "array([[ 1,  1,  3],\n",
              "       [ 4,  4,  6],\n",
              "       [ 7,  7,  9],\n",
              "       [10, 10, 12]])"
            ]
          },
          "execution_count": 73,
          "metadata": {},
          "output_type": "execute_result"
        }
      ],
      "source": [
        "x + v  # Add v to each row of x using broadcasting"
      ]
    },
    {
      "cell_type": "markdown",
      "metadata": {
        "id": "7_lEztNH1Cs6"
      },
      "source": [
        "`x + v` works even though `x` has shape `(4, 3)` and `v` has shape `(3,)` due to broadcasting; this line works as if v actually had shape `(4, 3)`, where each row was a copy of `v`, and the sum was performed elementwise.\n",
        "\n",
        "Broadcasting two arrays together follows these rules:\n",
        "\n",
        "* If the arrays do not have the same rank, prepend the shape of the lower rank array with 1s until both shapes have the same length.\n",
        "* The two arrays are said to be compatible in a dimension if they have the same size in the dimension, or if one of the arrays has size 1 in that dimension.\n",
        "* The arrays can be broadcast together if they are compatible in all dimensions.\n",
        "* After broadcasting, each array behaves as if it had shape equal to the elementwise maximum of shapes of the two input arrays.\n",
        "* In any dimension where one array had size 1 and the other array had size greater than 1, the first array behaves as if it were copied along that dimension."
      ]
    },
    {
      "cell_type": "markdown",
      "metadata": {
        "id": "Fco9a5EZ1Cs6"
      },
      "source": [
        "So be careful with shapes..."
      ]
    },
    {
      "cell_type": "code",
      "execution_count": null,
      "metadata": {
        "id": "_ZvH8vTy1Cs7",
        "outputId": "7e8432b6-518a-4b0f-ecd5-315f9f2e5161"
      },
      "outputs": [
        {
          "data": {
            "text/plain": [
              "array([[ 0,  3,  6,  9],\n",
              "       [ 1,  4,  7, 10],\n",
              "       [ 2,  5,  8, 11]])"
            ]
          },
          "execution_count": 74,
          "metadata": {},
          "output_type": "execute_result"
        }
      ],
      "source": [
        "y = x.T\n",
        "y"
      ]
    },
    {
      "cell_type": "code",
      "execution_count": null,
      "metadata": {
        "id": "lST7o3pp1Cs7",
        "outputId": "bc79466b-d43a-4986-c7ab-b19c81512a46"
      },
      "outputs": [
        {
          "name": "stdout",
          "output_type": "stream",
          "text": [
            "operands could not be broadcast together with shapes (3,4) (3,) \n"
          ]
        }
      ],
      "source": [
        "try:\n",
        "    y + v  # Add v to each column of y using broadcasting...?\n",
        "except ValueError as e:\n",
        "    print(e)\n",
        "except:\n",
        "    print(\"Unexpected error:\", sys.exc_info()[0])\n",
        "    raise"
      ]
    },
    {
      "cell_type": "markdown",
      "metadata": {
        "id": "UFzyJYNW1Cs7"
      },
      "source": [
        "And especially careful with vectors!"
      ]
    },
    {
      "cell_type": "code",
      "execution_count": null,
      "metadata": {
        "id": "kT4XDi5D1Cs7",
        "outputId": "2da7de9b-5326-417e-83c2-16d397828f3b"
      },
      "outputs": [
        {
          "name": "stdout",
          "output_type": "stream",
          "text": [
            "operands could not be broadcast together with shapes (3,4) (3,) \n"
          ]
        }
      ],
      "source": [
        "try:\n",
        "    y + v.T  # Add v to each column of y using broadcasting...?\n",
        "except ValueError as e:\n",
        "    print(e)\n",
        "except:\n",
        "    print(\"Unexpected error:\", sys.exc_info()[0])\n",
        "    raise"
      ]
    },
    {
      "cell_type": "code",
      "execution_count": null,
      "metadata": {
        "id": "ouH1GIH21Cs7",
        "outputId": "d2ca8a8a-3dc1-4080-dca3-e8259ebdfee3"
      },
      "outputs": [
        {
          "data": {
            "text/plain": [
              "array([[ 1,  4,  7, 10],\n",
              "       [ 1,  4,  7, 10],\n",
              "       [ 3,  6,  9, 12]])"
            ]
          },
          "execution_count": 77,
          "metadata": {},
          "output_type": "execute_result"
        }
      ],
      "source": [
        "y + v.reshape((3, 1))  # Add v to each column of y using broadcasting!"
      ]
    },
    {
      "cell_type": "code",
      "execution_count": null,
      "metadata": {
        "id": "3qXpxDRX1Cs7",
        "outputId": "bab75c1a-d3a4-46c5-8f1e-deed0d9b8070"
      },
      "outputs": [
        {
          "name": "stdout",
          "output_type": "stream",
          "text": [
            "x shape: (4, 3)\n",
            "v shape: (3,)\n",
            "y shape: (3, 4)\n"
          ]
        }
      ],
      "source": [
        "print('x shape:', x.shape)\n",
        "print('v shape:', v.shape)\n",
        "print('y shape:', y.shape)"
      ]
    },
    {
      "cell_type": "markdown",
      "metadata": {
        "id": "1wkGgL4z1Cs7"
      },
      "source": [
        "### Numpy documentation"
      ]
    },
    {
      "cell_type": "markdown",
      "metadata": {
        "id": "G4JS7LVd1Cs7"
      },
      "source": [
        "This brief overview has touched on many of the important things that you need to know about numpy, but is far from complete. Check out the [numpy reference](https://docs.scipy.org/doc/numpy-1.13.0/reference/) to find out much more about numpy."
      ]
    },
    {
      "cell_type": "markdown",
      "metadata": {
        "id": "wYre4D6I1Cs-"
      },
      "source": [
        "# Pandas introduction"
      ]
    },
    {
      "cell_type": "markdown",
      "metadata": {
        "collapsed": true,
        "id": "1R3-zXSq1Cs-"
      },
      "source": [
        "Pandas is a library for data manipulation and analysis. There are two fundamental data structures in pandas: the **Series** and **DataFrame** structures which are built on top of NumPy arrays.\n",
        "\n",
        "The following introduction is largely based on this [tutorial](http://www.gregreda.com/2013/10/26/intro-to-pandas-data-structures/). Another useful referece is the [Pandas introduction to data structures](http://pandas.pydata.org/pandas-docs/stable/dsintro.html). Pandas is well documented and you will find good information about all methods and structures in the [API reference](http://pandas.pydata.org/pandas-docs/stable/api.html)"
      ]
    },
    {
      "cell_type": "markdown",
      "metadata": {
        "id": "FGD72bZa1Cs_"
      },
      "source": [
        "### Series"
      ]
    },
    {
      "cell_type": "markdown",
      "metadata": {
        "id": "xPndbqhC1Cs_"
      },
      "source": [
        "A **Series** a one-dimensional object (similar to a vector). Each element has a corresponding *index*. By default the indices range from 0 to N, where N is the length of the Series."
      ]
    },
    {
      "cell_type": "code",
      "execution_count": null,
      "metadata": {
        "id": "DRKV9VK21Cs_",
        "outputId": "779c7847-6224-444f-856f-7fe9837f7f19"
      },
      "outputs": [
        {
          "data": {
            "text/plain": [
              "0    1.0\n",
              "1    4.2\n",
              "2    3.0\n",
              "dtype: float64"
            ]
          },
          "execution_count": 79,
          "metadata": {},
          "output_type": "execute_result"
        }
      ],
      "source": [
        "# Let's create a Series by passing in a list without specifying the indices.\n",
        "s = pd.Series([1, 4.2, 3])\n",
        "s"
      ]
    },
    {
      "cell_type": "code",
      "execution_count": null,
      "metadata": {
        "id": "KHMlBjJD1Cs_",
        "outputId": "cd58ba38-c83a-480d-edca-9354b50cf2aa"
      },
      "outputs": [
        {
          "data": {
            "text/plain": [
              "A    1.0\n",
              "B    4.2\n",
              "C    3.0\n",
              "dtype: float64"
            ]
          },
          "execution_count": 80,
          "metadata": {},
          "output_type": "execute_result"
        }
      ],
      "source": [
        "# Now, let's specify the indices explicitly\n",
        "s = pd.Series([1, 4.2, 3], index=['A', 'B', 'C'])\n",
        "s"
      ]
    },
    {
      "cell_type": "code",
      "execution_count": null,
      "metadata": {
        "id": "5gonKi0Q1Cs_",
        "outputId": "17d0f854-ff73-4bee-d309-ddbd3dc7c3cc"
      },
      "outputs": [
        {
          "data": {
            "text/plain": [
              "4.2"
            ]
          },
          "execution_count": 81,
          "metadata": {},
          "output_type": "execute_result"
        }
      ],
      "source": [
        "# Indexing the Series\n",
        "s['B']\n"
      ]
    },
    {
      "cell_type": "code",
      "execution_count": null,
      "metadata": {
        "id": "04U8qMVi1Cs_",
        "outputId": "560a87ef-5722-4db8-d74e-5f813ec5ddc1"
      },
      "outputs": [
        {
          "data": {
            "text/plain": [
              "A    1.0\n",
              "dtype: float64"
            ]
          },
          "execution_count": 82,
          "metadata": {},
          "output_type": "execute_result"
        }
      ],
      "source": [
        "# We can also index by using boolean logic\n",
        "s[s < 2]"
      ]
    },
    {
      "cell_type": "markdown",
      "metadata": {
        "id": "OzhkXjGT1Cs_"
      },
      "source": [
        "### DataFrame"
      ]
    },
    {
      "cell_type": "markdown",
      "metadata": {
        "id": "d8Ax-qXZ1CtA"
      },
      "source": [
        "A DataFrame is a tabular data structure comprised of rows and columns. You can also think of the DataFrame as a collection of Series objects that share an index."
      ]
    },
    {
      "cell_type": "markdown",
      "metadata": {
        "id": "jYuC-UUz1CtA"
      },
      "source": [
        "#### Creating DataFrame structures"
      ]
    },
    {
      "cell_type": "markdown",
      "metadata": {
        "id": "HcuWDHNn1CtA"
      },
      "source": [
        "We can create an empty DataFrame by specifying the column names. Then we can insert data row by row."
      ]
    },
    {
      "cell_type": "code",
      "execution_count": null,
      "metadata": {
        "id": "Z7VZMuFN1CtA",
        "outputId": "a57771ea-4d2f-4226-baab-5772a264ad05"
      },
      "outputs": [
        {
          "data": {
            "text/html": [
              "<div>\n",
              "<style scoped>\n",
              "    .dataframe tbody tr th:only-of-type {\n",
              "        vertical-align: middle;\n",
              "    }\n",
              "\n",
              "    .dataframe tbody tr th {\n",
              "        vertical-align: top;\n",
              "    }\n",
              "\n",
              "    .dataframe thead th {\n",
              "        text-align: right;\n",
              "    }\n",
              "</style>\n",
              "<table border=\"1\" class=\"dataframe\">\n",
              "  <thead>\n",
              "    <tr style=\"text-align: right;\">\n",
              "      <th></th>\n",
              "      <th>Gender</th>\n",
              "      <th>Age</th>\n",
              "      <th>Height</th>\n",
              "      <th>Weight</th>\n",
              "    </tr>\n",
              "  </thead>\n",
              "  <tbody>\n",
              "  </tbody>\n",
              "</table>\n",
              "</div>"
            ],
            "text/plain": [
              "Empty DataFrame\n",
              "Columns: [Gender, Age, Height, Weight]\n",
              "Index: []"
            ]
          },
          "execution_count": 83,
          "metadata": {},
          "output_type": "execute_result"
        }
      ],
      "source": [
        "df = pd.DataFrame(columns=['Gender', 'Age', 'Height', 'Weight'])\n",
        "df"
      ]
    },
    {
      "cell_type": "code",
      "execution_count": null,
      "metadata": {
        "id": "ozVnmlW81CtA",
        "outputId": "ebce331d-fed2-4e46-f5a3-5771bcdda548"
      },
      "outputs": [
        {
          "data": {
            "text/html": [
              "<div>\n",
              "<style scoped>\n",
              "    .dataframe tbody tr th:only-of-type {\n",
              "        vertical-align: middle;\n",
              "    }\n",
              "\n",
              "    .dataframe tbody tr th {\n",
              "        vertical-align: top;\n",
              "    }\n",
              "\n",
              "    .dataframe thead th {\n",
              "        text-align: right;\n",
              "    }\n",
              "</style>\n",
              "<table border=\"1\" class=\"dataframe\">\n",
              "  <thead>\n",
              "    <tr style=\"text-align: right;\">\n",
              "      <th></th>\n",
              "      <th>Gender</th>\n",
              "      <th>Age</th>\n",
              "      <th>Height</th>\n",
              "      <th>Weight</th>\n",
              "    </tr>\n",
              "  </thead>\n",
              "  <tbody>\n",
              "    <tr>\n",
              "      <th>0</th>\n",
              "      <td>Male</td>\n",
              "      <td>23</td>\n",
              "      <td>180</td>\n",
              "      <td>73</td>\n",
              "    </tr>\n",
              "    <tr>\n",
              "      <th>A</th>\n",
              "      <td>Female</td>\n",
              "      <td>27</td>\n",
              "      <td>167</td>\n",
              "      <td>59</td>\n",
              "    </tr>\n",
              "  </tbody>\n",
              "</table>\n",
              "</div>"
            ],
            "text/plain": [
              "   Gender Age Height Weight\n",
              "0    Male  23    180     73\n",
              "A  Female  27    167     59"
            ]
          },
          "execution_count": 84,
          "metadata": {},
          "output_type": "execute_result"
        }
      ],
      "source": [
        "# Now let's add an observation\n",
        "df.loc[0] = ['Male', 23, 180, 73]  # Note how we used .loc to specify the index\n",
        "df.loc['A'] = ['Female', 27, 167, 59]\n",
        "df"
      ]
    },
    {
      "cell_type": "markdown",
      "metadata": {
        "id": "l_CAVXJ11CtA"
      },
      "source": [
        "You can populate using a dictionary too which allows you to do things in a nonstandard order..."
      ]
    },
    {
      "cell_type": "code",
      "execution_count": null,
      "metadata": {
        "id": "0OTuhAkG1CtA",
        "outputId": "910ce7bf-b0ea-4383-974e-e18baa073378"
      },
      "outputs": [
        {
          "data": {
            "text/html": [
              "<div>\n",
              "<style scoped>\n",
              "    .dataframe tbody tr th:only-of-type {\n",
              "        vertical-align: middle;\n",
              "    }\n",
              "\n",
              "    .dataframe tbody tr th {\n",
              "        vertical-align: top;\n",
              "    }\n",
              "\n",
              "    .dataframe thead th {\n",
              "        text-align: right;\n",
              "    }\n",
              "</style>\n",
              "<table border=\"1\" class=\"dataframe\">\n",
              "  <thead>\n",
              "    <tr style=\"text-align: right;\">\n",
              "      <th></th>\n",
              "      <th>Gender</th>\n",
              "      <th>Age</th>\n",
              "      <th>Height</th>\n",
              "      <th>Weight</th>\n",
              "    </tr>\n",
              "  </thead>\n",
              "  <tbody>\n",
              "    <tr>\n",
              "      <th>0</th>\n",
              "      <td>Male</td>\n",
              "      <td>23</td>\n",
              "      <td>180</td>\n",
              "      <td>73</td>\n",
              "    </tr>\n",
              "    <tr>\n",
              "      <th>A</th>\n",
              "      <td>Female</td>\n",
              "      <td>27</td>\n",
              "      <td>167</td>\n",
              "      <td>59</td>\n",
              "    </tr>\n",
              "    <tr>\n",
              "      <th>i</th>\n",
              "      <td>Blue</td>\n",
              "      <td>10</td>\n",
              "      <td>-12</td>\n",
              "      <td>3kgs</td>\n",
              "    </tr>\n",
              "  </tbody>\n",
              "</table>\n",
              "</div>"
            ],
            "text/plain": [
              "   Gender Age Height Weight\n",
              "0    Male  23    180     73\n",
              "A  Female  27    167     59\n",
              "i    Blue  10    -12   3kgs"
            ]
          },
          "execution_count": 85,
          "metadata": {},
          "output_type": "execute_result"
        }
      ],
      "source": [
        "df.loc['i'] = dict(Weight='3kgs', Age=10, Gender='Blue', Height=-12)\n",
        "df"
      ]
    },
    {
      "cell_type": "markdown",
      "metadata": {
        "id": "CWgcsR2R1CtA"
      },
      "source": [
        "#### Creating DataFrame from other structures"
      ]
    },
    {
      "cell_type": "markdown",
      "metadata": {
        "id": "wmVeOBq-1CtA"
      },
      "source": [
        "You can also create a dataframe from:\n",
        "* Dict of 1D ndarrays, lists, dicts, or Series\n",
        "* 2-D numpy.ndarray\n",
        "* Structured or record ndarray\n",
        "* A Series\n",
        "* Another DataFrame\n",
        "\n",
        "For example:"
      ]
    },
    {
      "cell_type": "code",
      "execution_count": null,
      "metadata": {
        "id": "6PpofizY1CtA",
        "outputId": "92bd9281-af60-46dd-a558-097171b65812"
      },
      "outputs": [
        {
          "data": {
            "text/html": [
              "<div>\n",
              "<style scoped>\n",
              "    .dataframe tbody tr th:only-of-type {\n",
              "        vertical-align: middle;\n",
              "    }\n",
              "\n",
              "    .dataframe tbody tr th {\n",
              "        vertical-align: top;\n",
              "    }\n",
              "\n",
              "    .dataframe thead th {\n",
              "        text-align: right;\n",
              "    }\n",
              "</style>\n",
              "<table border=\"1\" class=\"dataframe\">\n",
              "  <thead>\n",
              "    <tr style=\"text-align: right;\">\n",
              "      <th></th>\n",
              "      <th>Gender</th>\n",
              "      <th>Age</th>\n",
              "      <th>Height</th>\n",
              "      <th>Weight</th>\n",
              "    </tr>\n",
              "  </thead>\n",
              "  <tbody>\n",
              "    <tr>\n",
              "      <th>0</th>\n",
              "      <td>Male</td>\n",
              "      <td>23</td>\n",
              "      <td>180</td>\n",
              "      <td>73</td>\n",
              "    </tr>\n",
              "    <tr>\n",
              "      <th>A</th>\n",
              "      <td>Female</td>\n",
              "      <td>27</td>\n",
              "      <td>167</td>\n",
              "      <td>59</td>\n",
              "    </tr>\n",
              "  </tbody>\n",
              "</table>\n",
              "</div>"
            ],
            "text/plain": [
              "   Gender  Age  Height  Weight\n",
              "0    Male   23     180      73\n",
              "A  Female   27     167      59"
            ]
          },
          "execution_count": 86,
          "metadata": {},
          "output_type": "execute_result"
        }
      ],
      "source": [
        "# Create a DataFrame from a list\n",
        "some_list = [['Male', 23, 180, 73], ['Female', 27, 167, 59]]\n",
        "df = pd.DataFrame(some_list, index=[0, 'A'], columns=['Gender', 'Age', 'Height', 'Weight'])\n",
        "df"
      ]
    },
    {
      "cell_type": "code",
      "execution_count": null,
      "metadata": {
        "id": "-jYRA9Lc1CtB",
        "outputId": "662f603d-69b2-42f6-8da3-4c367791679b"
      },
      "outputs": [
        {
          "data": {
            "text/html": [
              "<div>\n",
              "<style scoped>\n",
              "    .dataframe tbody tr th:only-of-type {\n",
              "        vertical-align: middle;\n",
              "    }\n",
              "\n",
              "    .dataframe tbody tr th {\n",
              "        vertical-align: top;\n",
              "    }\n",
              "\n",
              "    .dataframe thead th {\n",
              "        text-align: right;\n",
              "    }\n",
              "</style>\n",
              "<table border=\"1\" class=\"dataframe\">\n",
              "  <thead>\n",
              "    <tr style=\"text-align: right;\">\n",
              "      <th></th>\n",
              "      <th>Gender</th>\n",
              "      <th>Age</th>\n",
              "      <th>Height</th>\n",
              "      <th>Weight</th>\n",
              "    </tr>\n",
              "  </thead>\n",
              "  <tbody>\n",
              "    <tr>\n",
              "      <th>0</th>\n",
              "      <td>Male</td>\n",
              "      <td>23</td>\n",
              "      <td>180</td>\n",
              "      <td>73</td>\n",
              "    </tr>\n",
              "    <tr>\n",
              "      <th>A</th>\n",
              "      <td>Female</td>\n",
              "      <td>27</td>\n",
              "      <td>167</td>\n",
              "      <td>59</td>\n",
              "    </tr>\n",
              "  </tbody>\n",
              "</table>\n",
              "</div>"
            ],
            "text/plain": [
              "   Gender  Age  Height  Weight\n",
              "0    Male   23     180      73\n",
              "A  Female   27     167      59"
            ]
          },
          "execution_count": 87,
          "metadata": {},
          "output_type": "execute_result"
        }
      ],
      "source": [
        "# Create a DataFrame from a dictionary where keys are column values\n",
        "column_key_dict = {\n",
        "    'Gender': ['Male', 'Female'],\n",
        "    'Age': [23, 27],\n",
        "    'Height': [180, 167],\n",
        "    'Weight': [73, 59]\n",
        "}\n",
        "df = pd.DataFrame.from_dict(column_key_dict, orient='columns')\n",
        "df.index = [0, 'A']\n",
        "df"
      ]
    },
    {
      "cell_type": "code",
      "execution_count": null,
      "metadata": {
        "id": "qRMhW_We1CtB",
        "outputId": "144afa73-5c88-42b9-f818-e8d29f83dd68"
      },
      "outputs": [
        {
          "data": {
            "text/html": [
              "<div>\n",
              "<style scoped>\n",
              "    .dataframe tbody tr th:only-of-type {\n",
              "        vertical-align: middle;\n",
              "    }\n",
              "\n",
              "    .dataframe tbody tr th {\n",
              "        vertical-align: top;\n",
              "    }\n",
              "\n",
              "    .dataframe thead th {\n",
              "        text-align: right;\n",
              "    }\n",
              "</style>\n",
              "<table border=\"1\" class=\"dataframe\">\n",
              "  <thead>\n",
              "    <tr style=\"text-align: right;\">\n",
              "      <th></th>\n",
              "      <th>Gender</th>\n",
              "      <th>Age</th>\n",
              "      <th>Height</th>\n",
              "      <th>Weight</th>\n",
              "    </tr>\n",
              "  </thead>\n",
              "  <tbody>\n",
              "    <tr>\n",
              "      <th>0</th>\n",
              "      <td>Male</td>\n",
              "      <td>23</td>\n",
              "      <td>180</td>\n",
              "      <td>73</td>\n",
              "    </tr>\n",
              "    <tr>\n",
              "      <th>A</th>\n",
              "      <td>Female</td>\n",
              "      <td>27</td>\n",
              "      <td>167</td>\n",
              "      <td>59</td>\n",
              "    </tr>\n",
              "  </tbody>\n",
              "</table>\n",
              "</div>"
            ],
            "text/plain": [
              "   Gender  Age  Height  Weight\n",
              "0    Male   23     180      73\n",
              "A  Female   27     167      59"
            ]
          },
          "execution_count": 88,
          "metadata": {},
          "output_type": "execute_result"
        }
      ],
      "source": [
        "# Create a DataFrame from a dictionary where keys are index values\n",
        "index_key_dict = {0:['Male', 23, 180, 73], 'A':['Female', 27, 167, 59]}\n",
        "df = pd.DataFrame.from_dict(index_key_dict, orient='index')\n",
        "df.columns = ['Gender', 'Age', 'Height', 'Weight']\n",
        "df"
      ]
    },
    {
      "cell_type": "code",
      "execution_count": null,
      "metadata": {
        "id": "zcb7KDc51CtB",
        "outputId": "ee9dd0b1-9e62-4d6b-89f5-896102e757c6"
      },
      "outputs": [
        {
          "data": {
            "text/html": [
              "<div>\n",
              "<style scoped>\n",
              "    .dataframe tbody tr th:only-of-type {\n",
              "        vertical-align: middle;\n",
              "    }\n",
              "\n",
              "    .dataframe tbody tr th {\n",
              "        vertical-align: top;\n",
              "    }\n",
              "\n",
              "    .dataframe thead th {\n",
              "        text-align: right;\n",
              "    }\n",
              "</style>\n",
              "<table border=\"1\" class=\"dataframe\">\n",
              "  <thead>\n",
              "    <tr style=\"text-align: right;\">\n",
              "      <th></th>\n",
              "      <th>0</th>\n",
              "      <th>A</th>\n",
              "    </tr>\n",
              "  </thead>\n",
              "  <tbody>\n",
              "    <tr>\n",
              "      <th>Gender</th>\n",
              "      <td>Male</td>\n",
              "      <td>Female</td>\n",
              "    </tr>\n",
              "    <tr>\n",
              "      <th>Age</th>\n",
              "      <td>23</td>\n",
              "      <td>27</td>\n",
              "    </tr>\n",
              "    <tr>\n",
              "      <th>Height</th>\n",
              "      <td>180</td>\n",
              "      <td>167</td>\n",
              "    </tr>\n",
              "    <tr>\n",
              "      <th>Weight</th>\n",
              "      <td>73</td>\n",
              "      <td>59</td>\n",
              "    </tr>\n",
              "  </tbody>\n",
              "</table>\n",
              "</div>"
            ],
            "text/plain": [
              "           0       A\n",
              "Gender  Male  Female\n",
              "Age       23      27\n",
              "Height   180     167\n",
              "Weight    73      59"
            ]
          },
          "execution_count": 89,
          "metadata": {},
          "output_type": "execute_result"
        }
      ],
      "source": [
        "# Using the DataFrame call, keys are assumed to be column headers\n",
        "df = pd.DataFrame({0:['Male', 23, 180, 73], 'A':['Female', 27, 167, 59]},\n",
        "                   index=['Gender', 'Age', 'Height', 'Weight'])\n",
        "df"
      ]
    },
    {
      "cell_type": "code",
      "execution_count": null,
      "metadata": {
        "id": "ZpA22bKm1CtB"
      },
      "outputs": [],
      "source": [
        "# ...we can transpose using the `.T` method"
      ]
    },
    {
      "cell_type": "code",
      "execution_count": null,
      "metadata": {
        "id": "zV3bOiuw1CtB",
        "outputId": "7b1a8085-b9a7-4224-e48d-76015edd4af2"
      },
      "outputs": [
        {
          "data": {
            "text/html": [
              "<div>\n",
              "<style scoped>\n",
              "    .dataframe tbody tr th:only-of-type {\n",
              "        vertical-align: middle;\n",
              "    }\n",
              "\n",
              "    .dataframe tbody tr th {\n",
              "        vertical-align: top;\n",
              "    }\n",
              "\n",
              "    .dataframe thead th {\n",
              "        text-align: right;\n",
              "    }\n",
              "</style>\n",
              "<table border=\"1\" class=\"dataframe\">\n",
              "  <thead>\n",
              "    <tr style=\"text-align: right;\">\n",
              "      <th></th>\n",
              "      <th>Gender</th>\n",
              "      <th>Age</th>\n",
              "      <th>Height</th>\n",
              "      <th>Weight</th>\n",
              "    </tr>\n",
              "  </thead>\n",
              "  <tbody>\n",
              "    <tr>\n",
              "      <th>0</th>\n",
              "      <td>Male</td>\n",
              "      <td>23</td>\n",
              "      <td>180</td>\n",
              "      <td>73</td>\n",
              "    </tr>\n",
              "    <tr>\n",
              "      <th>A</th>\n",
              "      <td>Female</td>\n",
              "      <td>27</td>\n",
              "      <td>167</td>\n",
              "      <td>59</td>\n",
              "    </tr>\n",
              "  </tbody>\n",
              "</table>\n",
              "</div>"
            ],
            "text/plain": [
              "   Gender Age Height Weight\n",
              "0    Male  23    180     73\n",
              "A  Female  27    167     59"
            ]
          },
          "execution_count": 91,
          "metadata": {},
          "output_type": "execute_result"
        }
      ],
      "source": [
        "df = df.T\n",
        "df"
      ]
    },
    {
      "cell_type": "markdown",
      "metadata": {
        "id": "Ju5Gmitb1CtB"
      },
      "source": [
        "#### Loading a CSV into a DataFrame"
      ]
    },
    {
      "cell_type": "markdown",
      "metadata": {
        "id": "N1X2CT9N1CtB"
      },
      "source": [
        "Most commonly we create DataFrame structures by reading csv files. To run the following piece of code you need to download the datasets associated with the course and place them in a subdirectory called \"datasets\" under the same directory that your notebooks are located. Alternatively, you can specify the full path of the .csv file."
      ]
    },
    {
      "cell_type": "code",
      "execution_count": null,
      "metadata": {
        "id": "ydak746f1CtC",
        "outputId": "409498cf-ae58-4baa-a782-78f1253c8d60"
      },
      "outputs": [
        {
          "data": {
            "text/plain": [
              "'D:\\\\OneDrive - University of Aberdeen\\\\Aberdeen\\\\teaching\\\\21-22\\\\CS4049-IntoML&DM\\\\practicals\\\\introML\\\\datasets\\\\cpu.csv'"
            ]
          },
          "execution_count": 15,
          "metadata": {},
          "output_type": "execute_result"
        }
      ],
      "source": [
        "cpu_loc = os.path.join(os.getcwd(), 'datasets', 'cpu.csv')\n",
        "cpu_loc"
      ]
    },
    {
      "cell_type": "code",
      "execution_count": null,
      "metadata": {
        "id": "N-hgJaLP1CtC",
        "outputId": "7bb8bc74-79dc-4fb2-dc86-32477fe819fa"
      },
      "outputs": [
        {
          "data": {
            "text/html": [
              "<div>\n",
              "<style scoped>\n",
              "    .dataframe tbody tr th:only-of-type {\n",
              "        vertical-align: middle;\n",
              "    }\n",
              "\n",
              "    .dataframe tbody tr th {\n",
              "        vertical-align: top;\n",
              "    }\n",
              "\n",
              "    .dataframe thead th {\n",
              "        text-align: right;\n",
              "    }\n",
              "</style>\n",
              "<table border=\"1\" class=\"dataframe\">\n",
              "  <thead>\n",
              "    <tr style=\"text-align: right;\">\n",
              "      <th></th>\n",
              "      <th>vendor</th>\n",
              "      <th>MYCT</th>\n",
              "      <th>MMIN</th>\n",
              "      <th>MMAX</th>\n",
              "      <th>CACH</th>\n",
              "      <th>CHMIN</th>\n",
              "      <th>CHMAX</th>\n",
              "      <th>ERP</th>\n",
              "    </tr>\n",
              "  </thead>\n",
              "  <tbody>\n",
              "    <tr>\n",
              "      <th>0</th>\n",
              "      <td>adviser</td>\n",
              "      <td>125.0</td>\n",
              "      <td>256.0</td>\n",
              "      <td>6000.0</td>\n",
              "      <td>256.0</td>\n",
              "      <td>16.0</td>\n",
              "      <td>128.0</td>\n",
              "      <td>199.0</td>\n",
              "    </tr>\n",
              "    <tr>\n",
              "      <th>1</th>\n",
              "      <td>amdahl</td>\n",
              "      <td>29.0</td>\n",
              "      <td>8000.0</td>\n",
              "      <td>32000.0</td>\n",
              "      <td>32.0</td>\n",
              "      <td>8.0</td>\n",
              "      <td>32.0</td>\n",
              "      <td>253.0</td>\n",
              "    </tr>\n",
              "    <tr>\n",
              "      <th>2</th>\n",
              "      <td>amdahl</td>\n",
              "      <td>29.0</td>\n",
              "      <td>8000.0</td>\n",
              "      <td>32000.0</td>\n",
              "      <td>32.0</td>\n",
              "      <td>8.0</td>\n",
              "      <td>32.0</td>\n",
              "      <td>253.0</td>\n",
              "    </tr>\n",
              "    <tr>\n",
              "      <th>3</th>\n",
              "      <td>amdahl</td>\n",
              "      <td>29.0</td>\n",
              "      <td>8000.0</td>\n",
              "      <td>32000.0</td>\n",
              "      <td>32.0</td>\n",
              "      <td>8.0</td>\n",
              "      <td>32.0</td>\n",
              "      <td>253.0</td>\n",
              "    </tr>\n",
              "    <tr>\n",
              "      <th>4</th>\n",
              "      <td>amdahl</td>\n",
              "      <td>29.0</td>\n",
              "      <td>8000.0</td>\n",
              "      <td>16000.0</td>\n",
              "      <td>32.0</td>\n",
              "      <td>8.0</td>\n",
              "      <td>16.0</td>\n",
              "      <td>132.0</td>\n",
              "    </tr>\n",
              "  </tbody>\n",
              "</table>\n",
              "</div>"
            ],
            "text/plain": [
              "    vendor   MYCT    MMIN     MMAX   CACH  CHMIN  CHMAX    ERP\n",
              "0  adviser  125.0   256.0   6000.0  256.0   16.0  128.0  199.0\n",
              "1   amdahl   29.0  8000.0  32000.0   32.0    8.0   32.0  253.0\n",
              "2   amdahl   29.0  8000.0  32000.0   32.0    8.0   32.0  253.0\n",
              "3   amdahl   29.0  8000.0  32000.0   32.0    8.0   32.0  253.0\n",
              "4   amdahl   29.0  8000.0  16000.0   32.0    8.0   16.0  132.0"
            ]
          },
          "execution_count": 16,
          "metadata": {},
          "output_type": "execute_result"
        }
      ],
      "source": [
        "cpu = pd.read_csv(cpu_loc)\n",
        "cpu.head() # Head shows the first few elements (unless specified otherwise) of the DataFrame"
      ]
    },
    {
      "cell_type": "markdown",
      "metadata": {
        "id": "5Fk4HfhC1CtC"
      },
      "source": [
        "You should see that each observation in our dataset comprises 8 measurements (attributes)."
      ]
    },
    {
      "cell_type": "markdown",
      "metadata": {
        "id": "lq9_Oo1q1CtC"
      },
      "source": [
        "#### Basic methods for DataFrame objects\n",
        "* `head(N)`: displays the first N elements of the DataFrame\n",
        "* `tail(N)`: displays the last N elements of the DataFrame\n",
        "* `info()`:  displays basic information about the variables\n",
        "* `describe()`: displays summary statistics of the data"
      ]
    },
    {
      "cell_type": "markdown",
      "metadata": {
        "id": "NSqecJa-1CtC"
      },
      "source": [
        "Execute the following cells and observe the outputs."
      ]
    },
    {
      "cell_type": "code",
      "execution_count": null,
      "metadata": {
        "id": "FBkdRRDL1CtC",
        "outputId": "bdba3fb2-142a-4d47-8d99-54990b686a13"
      },
      "outputs": [
        {
          "data": {
            "text/html": [
              "<div>\n",
              "<style scoped>\n",
              "    .dataframe tbody tr th:only-of-type {\n",
              "        vertical-align: middle;\n",
              "    }\n",
              "\n",
              "    .dataframe tbody tr th {\n",
              "        vertical-align: top;\n",
              "    }\n",
              "\n",
              "    .dataframe thead th {\n",
              "        text-align: right;\n",
              "    }\n",
              "</style>\n",
              "<table border=\"1\" class=\"dataframe\">\n",
              "  <thead>\n",
              "    <tr style=\"text-align: right;\">\n",
              "      <th></th>\n",
              "      <th>vendor</th>\n",
              "      <th>MYCT</th>\n",
              "      <th>MMIN</th>\n",
              "      <th>MMAX</th>\n",
              "      <th>CACH</th>\n",
              "      <th>CHMIN</th>\n",
              "      <th>CHMAX</th>\n",
              "      <th>ERP</th>\n",
              "    </tr>\n",
              "  </thead>\n",
              "  <tbody>\n",
              "    <tr>\n",
              "      <th>204</th>\n",
              "      <td>sperry</td>\n",
              "      <td>124.0</td>\n",
              "      <td>1000.0</td>\n",
              "      <td>8000.0</td>\n",
              "      <td>0.0</td>\n",
              "      <td>1.0</td>\n",
              "      <td>8.0</td>\n",
              "      <td>37.0</td>\n",
              "    </tr>\n",
              "    <tr>\n",
              "      <th>205</th>\n",
              "      <td>sperry</td>\n",
              "      <td>98.0</td>\n",
              "      <td>1000.0</td>\n",
              "      <td>8000.0</td>\n",
              "      <td>32.0</td>\n",
              "      <td>2.0</td>\n",
              "      <td>8.0</td>\n",
              "      <td>50.0</td>\n",
              "    </tr>\n",
              "    <tr>\n",
              "      <th>206</th>\n",
              "      <td>sratus</td>\n",
              "      <td>125.0</td>\n",
              "      <td>2000.0</td>\n",
              "      <td>8000.0</td>\n",
              "      <td>0.0</td>\n",
              "      <td>2.0</td>\n",
              "      <td>14.0</td>\n",
              "      <td>41.0</td>\n",
              "    </tr>\n",
              "    <tr>\n",
              "      <th>207</th>\n",
              "      <td>wang</td>\n",
              "      <td>480.0</td>\n",
              "      <td>512.0</td>\n",
              "      <td>8000.0</td>\n",
              "      <td>32.0</td>\n",
              "      <td>0.0</td>\n",
              "      <td>0.0</td>\n",
              "      <td>47.0</td>\n",
              "    </tr>\n",
              "    <tr>\n",
              "      <th>208</th>\n",
              "      <td>wang</td>\n",
              "      <td>480.0</td>\n",
              "      <td>1000.0</td>\n",
              "      <td>4000.0</td>\n",
              "      <td>0.0</td>\n",
              "      <td>0.0</td>\n",
              "      <td>0.0</td>\n",
              "      <td>25.0</td>\n",
              "    </tr>\n",
              "  </tbody>\n",
              "</table>\n",
              "</div>"
            ],
            "text/plain": [
              "     vendor   MYCT    MMIN    MMAX  CACH  CHMIN  CHMAX   ERP\n",
              "204  sperry  124.0  1000.0  8000.0   0.0    1.0    8.0  37.0\n",
              "205  sperry   98.0  1000.0  8000.0  32.0    2.0    8.0  50.0\n",
              "206  sratus  125.0  2000.0  8000.0   0.0    2.0   14.0  41.0\n",
              "207    wang  480.0   512.0  8000.0  32.0    0.0    0.0  47.0\n",
              "208    wang  480.0  1000.0  4000.0   0.0    0.0    0.0  25.0"
            ]
          },
          "execution_count": 99,
          "metadata": {},
          "output_type": "execute_result"
        }
      ],
      "source": [
        "cpu.tail(5)"
      ]
    },
    {
      "cell_type": "code",
      "execution_count": null,
      "metadata": {
        "id": "732ReiW61CtC",
        "outputId": "9ac03cae-5463-4b5a-e156-a0a1704e6335"
      },
      "outputs": [
        {
          "name": "stdout",
          "output_type": "stream",
          "text": [
            "<class 'pandas.core.frame.DataFrame'>\n",
            "RangeIndex: 209 entries, 0 to 208\n",
            "Data columns (total 8 columns):\n",
            " #   Column  Non-Null Count  Dtype  \n",
            "---  ------  --------------  -----  \n",
            " 0   vendor  209 non-null    object \n",
            " 1   MYCT    209 non-null    float64\n",
            " 2   MMIN    209 non-null    float64\n",
            " 3   MMAX    209 non-null    float64\n",
            " 4   CACH    209 non-null    float64\n",
            " 5   CHMIN   209 non-null    float64\n",
            " 6   CHMAX   209 non-null    float64\n",
            " 7   ERP     209 non-null    float64\n",
            "dtypes: float64(7), object(1)\n",
            "memory usage: 13.2+ KB\n"
          ]
        }
      ],
      "source": [
        "cpu.info()"
      ]
    },
    {
      "cell_type": "code",
      "execution_count": null,
      "metadata": {
        "id": "xq-Zn1-v1CtC",
        "outputId": "dc8ed503-14a2-4db9-dd72-9532fde699be"
      },
      "outputs": [
        {
          "data": {
            "text/html": [
              "<div>\n",
              "<style scoped>\n",
              "    .dataframe tbody tr th:only-of-type {\n",
              "        vertical-align: middle;\n",
              "    }\n",
              "\n",
              "    .dataframe tbody tr th {\n",
              "        vertical-align: top;\n",
              "    }\n",
              "\n",
              "    .dataframe thead th {\n",
              "        text-align: right;\n",
              "    }\n",
              "</style>\n",
              "<table border=\"1\" class=\"dataframe\">\n",
              "  <thead>\n",
              "    <tr style=\"text-align: right;\">\n",
              "      <th></th>\n",
              "      <th>MYCT</th>\n",
              "      <th>MMIN</th>\n",
              "      <th>MMAX</th>\n",
              "      <th>CACH</th>\n",
              "      <th>CHMIN</th>\n",
              "      <th>CHMAX</th>\n",
              "      <th>ERP</th>\n",
              "    </tr>\n",
              "  </thead>\n",
              "  <tbody>\n",
              "    <tr>\n",
              "      <th>count</th>\n",
              "      <td>209.000000</td>\n",
              "      <td>209.000000</td>\n",
              "      <td>209.000000</td>\n",
              "      <td>209.000000</td>\n",
              "      <td>209.000000</td>\n",
              "      <td>209.000000</td>\n",
              "      <td>209.000000</td>\n",
              "    </tr>\n",
              "    <tr>\n",
              "      <th>mean</th>\n",
              "      <td>203.822967</td>\n",
              "      <td>2867.980861</td>\n",
              "      <td>11796.153110</td>\n",
              "      <td>25.205742</td>\n",
              "      <td>4.698565</td>\n",
              "      <td>18.267943</td>\n",
              "      <td>99.330144</td>\n",
              "    </tr>\n",
              "    <tr>\n",
              "      <th>std</th>\n",
              "      <td>260.262926</td>\n",
              "      <td>3878.742758</td>\n",
              "      <td>11726.564377</td>\n",
              "      <td>40.628722</td>\n",
              "      <td>6.816274</td>\n",
              "      <td>25.997318</td>\n",
              "      <td>154.757102</td>\n",
              "    </tr>\n",
              "    <tr>\n",
              "      <th>min</th>\n",
              "      <td>17.000000</td>\n",
              "      <td>64.000000</td>\n",
              "      <td>64.000000</td>\n",
              "      <td>0.000000</td>\n",
              "      <td>0.000000</td>\n",
              "      <td>0.000000</td>\n",
              "      <td>15.000000</td>\n",
              "    </tr>\n",
              "    <tr>\n",
              "      <th>25%</th>\n",
              "      <td>50.000000</td>\n",
              "      <td>768.000000</td>\n",
              "      <td>4000.000000</td>\n",
              "      <td>0.000000</td>\n",
              "      <td>1.000000</td>\n",
              "      <td>5.000000</td>\n",
              "      <td>28.000000</td>\n",
              "    </tr>\n",
              "    <tr>\n",
              "      <th>50%</th>\n",
              "      <td>110.000000</td>\n",
              "      <td>2000.000000</td>\n",
              "      <td>8000.000000</td>\n",
              "      <td>8.000000</td>\n",
              "      <td>2.000000</td>\n",
              "      <td>8.000000</td>\n",
              "      <td>45.000000</td>\n",
              "    </tr>\n",
              "    <tr>\n",
              "      <th>75%</th>\n",
              "      <td>225.000000</td>\n",
              "      <td>4000.000000</td>\n",
              "      <td>16000.000000</td>\n",
              "      <td>32.000000</td>\n",
              "      <td>6.000000</td>\n",
              "      <td>24.000000</td>\n",
              "      <td>101.000000</td>\n",
              "    </tr>\n",
              "    <tr>\n",
              "      <th>max</th>\n",
              "      <td>1500.000000</td>\n",
              "      <td>32000.000000</td>\n",
              "      <td>64000.000000</td>\n",
              "      <td>256.000000</td>\n",
              "      <td>52.000000</td>\n",
              "      <td>176.000000</td>\n",
              "      <td>1238.000000</td>\n",
              "    </tr>\n",
              "  </tbody>\n",
              "</table>\n",
              "</div>"
            ],
            "text/plain": [
              "              MYCT          MMIN          MMAX        CACH       CHMIN  \\\n",
              "count   209.000000    209.000000    209.000000  209.000000  209.000000   \n",
              "mean    203.822967   2867.980861  11796.153110   25.205742    4.698565   \n",
              "std     260.262926   3878.742758  11726.564377   40.628722    6.816274   \n",
              "min      17.000000     64.000000     64.000000    0.000000    0.000000   \n",
              "25%      50.000000    768.000000   4000.000000    0.000000    1.000000   \n",
              "50%     110.000000   2000.000000   8000.000000    8.000000    2.000000   \n",
              "75%     225.000000   4000.000000  16000.000000   32.000000    6.000000   \n",
              "max    1500.000000  32000.000000  64000.000000  256.000000   52.000000   \n",
              "\n",
              "            CHMAX          ERP  \n",
              "count  209.000000   209.000000  \n",
              "mean    18.267943    99.330144  \n",
              "std     25.997318   154.757102  \n",
              "min      0.000000    15.000000  \n",
              "25%      5.000000    28.000000  \n",
              "50%      8.000000    45.000000  \n",
              "75%     24.000000   101.000000  \n",
              "max    176.000000  1238.000000  "
            ]
          },
          "execution_count": 18,
          "metadata": {},
          "output_type": "execute_result"
        }
      ],
      "source": [
        "cpu.describe()"
      ]
    },
    {
      "cell_type": "markdown",
      "metadata": {
        "id": "O-aTyMSu1CtC"
      },
      "source": [
        "#### Column Selection"
      ]
    },
    {
      "cell_type": "markdown",
      "metadata": {
        "id": "NftZqdng1CtC"
      },
      "source": [
        "You can think of a DataFrame as a group of Series that share an index (in this case the column headers). This makes it easy to select specific **columns**."
      ]
    },
    {
      "cell_type": "code",
      "execution_count": null,
      "metadata": {
        "id": "nysmZGe71CtC",
        "outputId": "e2de69b5-a08d-4d45-a510-7c5b20c2050c"
      },
      "outputs": [
        {
          "data": {
            "text/plain": [
              "0     6000.0\n",
              "1    32000.0\n",
              "2    32000.0\n",
              "3    32000.0\n",
              "4    16000.0\n",
              "Name: MMAX, dtype: float64"
            ]
          },
          "execution_count": 102,
          "metadata": {},
          "output_type": "execute_result"
        }
      ],
      "source": [
        "cpu['MMAX'].head(5)"
      ]
    },
    {
      "cell_type": "code",
      "execution_count": null,
      "metadata": {
        "id": "QDyZD6ZY1CtD",
        "outputId": "78905e9b-f562-4de7-a346-99a8949502ed"
      },
      "outputs": [
        {
          "data": {
            "text/plain": [
              "pandas.core.series.Series"
            ]
          },
          "execution_count": 103,
          "metadata": {},
          "output_type": "execute_result"
        }
      ],
      "source": [
        "type(cpu['MMAX'])"
      ]
    },
    {
      "cell_type": "markdown",
      "metadata": {
        "id": "_h_8nSAu1CtD"
      },
      "source": [
        "To select multiple columns we simple need to pass a list of column names. The resulting object is another DataFrame."
      ]
    },
    {
      "cell_type": "code",
      "execution_count": null,
      "metadata": {
        "id": "ls4s6lpF1CtD",
        "outputId": "d0c7f5c4-9b9e-4040-ada5-12393ea36e01"
      },
      "outputs": [
        {
          "data": {
            "text/html": [
              "<div>\n",
              "<style scoped>\n",
              "    .dataframe tbody tr th:only-of-type {\n",
              "        vertical-align: middle;\n",
              "    }\n",
              "\n",
              "    .dataframe tbody tr th {\n",
              "        vertical-align: top;\n",
              "    }\n",
              "\n",
              "    .dataframe thead th {\n",
              "        text-align: right;\n",
              "    }\n",
              "</style>\n",
              "<table border=\"1\" class=\"dataframe\">\n",
              "  <thead>\n",
              "    <tr style=\"text-align: right;\">\n",
              "      <th></th>\n",
              "      <th>MMIN</th>\n",
              "      <th>MMAX</th>\n",
              "    </tr>\n",
              "  </thead>\n",
              "  <tbody>\n",
              "    <tr>\n",
              "      <th>0</th>\n",
              "      <td>256.0</td>\n",
              "      <td>6000.0</td>\n",
              "    </tr>\n",
              "    <tr>\n",
              "      <th>1</th>\n",
              "      <td>8000.0</td>\n",
              "      <td>32000.0</td>\n",
              "    </tr>\n",
              "    <tr>\n",
              "      <th>2</th>\n",
              "      <td>8000.0</td>\n",
              "      <td>32000.0</td>\n",
              "    </tr>\n",
              "    <tr>\n",
              "      <th>3</th>\n",
              "      <td>8000.0</td>\n",
              "      <td>32000.0</td>\n",
              "    </tr>\n",
              "    <tr>\n",
              "      <th>4</th>\n",
              "      <td>8000.0</td>\n",
              "      <td>16000.0</td>\n",
              "    </tr>\n",
              "    <tr>\n",
              "      <th>5</th>\n",
              "      <td>8000.0</td>\n",
              "      <td>32000.0</td>\n",
              "    </tr>\n",
              "    <tr>\n",
              "      <th>6</th>\n",
              "      <td>16000.0</td>\n",
              "      <td>32000.0</td>\n",
              "    </tr>\n",
              "  </tbody>\n",
              "</table>\n",
              "</div>"
            ],
            "text/plain": [
              "      MMIN     MMAX\n",
              "0    256.0   6000.0\n",
              "1   8000.0  32000.0\n",
              "2   8000.0  32000.0\n",
              "3   8000.0  32000.0\n",
              "4   8000.0  16000.0\n",
              "5   8000.0  32000.0\n",
              "6  16000.0  32000.0"
            ]
          },
          "execution_count": 104,
          "metadata": {},
          "output_type": "execute_result"
        }
      ],
      "source": [
        "cpu[['MMIN', 'MMAX']].head(7)"
      ]
    },
    {
      "cell_type": "code",
      "execution_count": null,
      "metadata": {
        "id": "TMnrskzZ1CtD",
        "outputId": "b6359dbe-294f-4a97-cb0e-cc6d5f15659c"
      },
      "outputs": [
        {
          "data": {
            "text/plain": [
              "pandas.core.frame.DataFrame"
            ]
          },
          "execution_count": 105,
          "metadata": {},
          "output_type": "execute_result"
        }
      ],
      "source": [
        "type(cpu[['MMIN', 'MMAX']].head(7)) # This is a DataFrame"
      ]
    },
    {
      "cell_type": "markdown",
      "metadata": {
        "id": "XMBYDL3P1CtD"
      },
      "source": [
        "#### Row selection"
      ]
    },
    {
      "cell_type": "markdown",
      "metadata": {
        "id": "v8TzbE-h1CtD"
      },
      "source": [
        "To select specific **observations (i.e. rows)** we need to pass in the corresponding indices. This operation is called *slicing*. The resulting structure is again a DataFrame."
      ]
    },
    {
      "cell_type": "code",
      "execution_count": null,
      "metadata": {
        "id": "JXZzy_Hw1CtD",
        "outputId": "a3db1894-3485-47c2-eff5-14c01afba8d1"
      },
      "outputs": [
        {
          "data": {
            "text/html": [
              "<div>\n",
              "<style scoped>\n",
              "    .dataframe tbody tr th:only-of-type {\n",
              "        vertical-align: middle;\n",
              "    }\n",
              "\n",
              "    .dataframe tbody tr th {\n",
              "        vertical-align: top;\n",
              "    }\n",
              "\n",
              "    .dataframe thead th {\n",
              "        text-align: right;\n",
              "    }\n",
              "</style>\n",
              "<table border=\"1\" class=\"dataframe\">\n",
              "  <thead>\n",
              "    <tr style=\"text-align: right;\">\n",
              "      <th></th>\n",
              "      <th>vendor</th>\n",
              "      <th>MYCT</th>\n",
              "      <th>MMIN</th>\n",
              "      <th>MMAX</th>\n",
              "      <th>CACH</th>\n",
              "      <th>CHMIN</th>\n",
              "      <th>CHMAX</th>\n",
              "      <th>ERP</th>\n",
              "    </tr>\n",
              "  </thead>\n",
              "  <tbody>\n",
              "    <tr>\n",
              "      <th>0</th>\n",
              "      <td>adviser</td>\n",
              "      <td>125.0</td>\n",
              "      <td>256.0</td>\n",
              "      <td>6000.0</td>\n",
              "      <td>256.0</td>\n",
              "      <td>16.0</td>\n",
              "      <td>128.0</td>\n",
              "      <td>199.0</td>\n",
              "    </tr>\n",
              "    <tr>\n",
              "      <th>1</th>\n",
              "      <td>amdahl</td>\n",
              "      <td>29.0</td>\n",
              "      <td>8000.0</td>\n",
              "      <td>32000.0</td>\n",
              "      <td>32.0</td>\n",
              "      <td>8.0</td>\n",
              "      <td>32.0</td>\n",
              "      <td>253.0</td>\n",
              "    </tr>\n",
              "    <tr>\n",
              "      <th>2</th>\n",
              "      <td>amdahl</td>\n",
              "      <td>29.0</td>\n",
              "      <td>8000.0</td>\n",
              "      <td>32000.0</td>\n",
              "      <td>32.0</td>\n",
              "      <td>8.0</td>\n",
              "      <td>32.0</td>\n",
              "      <td>253.0</td>\n",
              "    </tr>\n",
              "  </tbody>\n",
              "</table>\n",
              "</div>"
            ],
            "text/plain": [
              "    vendor   MYCT    MMIN     MMAX   CACH  CHMIN  CHMAX    ERP\n",
              "0  adviser  125.0   256.0   6000.0  256.0   16.0  128.0  199.0\n",
              "1   amdahl   29.0  8000.0  32000.0   32.0    8.0   32.0  253.0\n",
              "2   amdahl   29.0  8000.0  32000.0   32.0    8.0   32.0  253.0"
            ]
          },
          "execution_count": 19,
          "metadata": {},
          "output_type": "execute_result"
        }
      ],
      "source": [
        "cpu[0:3]"
      ]
    },
    {
      "cell_type": "code",
      "execution_count": null,
      "metadata": {
        "id": "bZGZS1V11CtD",
        "outputId": "4490bd83-4029-40ee-e0e6-670053456510"
      },
      "outputs": [
        {
          "data": {
            "text/html": [
              "<div>\n",
              "<style scoped>\n",
              "    .dataframe tbody tr th:only-of-type {\n",
              "        vertical-align: middle;\n",
              "    }\n",
              "\n",
              "    .dataframe tbody tr th {\n",
              "        vertical-align: top;\n",
              "    }\n",
              "\n",
              "    .dataframe thead th {\n",
              "        text-align: right;\n",
              "    }\n",
              "</style>\n",
              "<table border=\"1\" class=\"dataframe\">\n",
              "  <thead>\n",
              "    <tr style=\"text-align: right;\">\n",
              "      <th></th>\n",
              "      <th>vendor</th>\n",
              "      <th>MYCT</th>\n",
              "      <th>MMIN</th>\n",
              "      <th>MMAX</th>\n",
              "      <th>CACH</th>\n",
              "      <th>CHMIN</th>\n",
              "      <th>CHMAX</th>\n",
              "      <th>ERP</th>\n",
              "    </tr>\n",
              "  </thead>\n",
              "  <tbody>\n",
              "    <tr>\n",
              "      <th>0</th>\n",
              "      <td>adviser</td>\n",
              "      <td>125.0</td>\n",
              "      <td>256.0</td>\n",
              "      <td>6000.0</td>\n",
              "      <td>256.0</td>\n",
              "      <td>16.0</td>\n",
              "      <td>128.0</td>\n",
              "      <td>199.0</td>\n",
              "    </tr>\n",
              "    <tr>\n",
              "      <th>1</th>\n",
              "      <td>amdahl</td>\n",
              "      <td>29.0</td>\n",
              "      <td>8000.0</td>\n",
              "      <td>32000.0</td>\n",
              "      <td>32.0</td>\n",
              "      <td>8.0</td>\n",
              "      <td>32.0</td>\n",
              "      <td>253.0</td>\n",
              "    </tr>\n",
              "    <tr>\n",
              "      <th>2</th>\n",
              "      <td>amdahl</td>\n",
              "      <td>29.0</td>\n",
              "      <td>8000.0</td>\n",
              "      <td>32000.0</td>\n",
              "      <td>32.0</td>\n",
              "      <td>8.0</td>\n",
              "      <td>32.0</td>\n",
              "      <td>253.0</td>\n",
              "    </tr>\n",
              "  </tbody>\n",
              "</table>\n",
              "</div>"
            ],
            "text/plain": [
              "    vendor   MYCT    MMIN     MMAX   CACH  CHMIN  CHMAX    ERP\n",
              "0  adviser  125.0   256.0   6000.0  256.0   16.0  128.0  199.0\n",
              "1   amdahl   29.0  8000.0  32000.0   32.0    8.0   32.0  253.0\n",
              "2   amdahl   29.0  8000.0  32000.0   32.0    8.0   32.0  253.0"
            ]
          },
          "execution_count": 107,
          "metadata": {},
          "output_type": "execute_result"
        }
      ],
      "source": [
        "# This is equivalent to using .iloc\n",
        "cpu.iloc[0:3]"
      ]
    },
    {
      "cell_type": "markdown",
      "metadata": {
        "id": "hRt0iqOo1CtD"
      },
      "source": [
        "#### Filtering"
      ]
    },
    {
      "cell_type": "markdown",
      "metadata": {
        "id": "Cy1F9OSY1CtD"
      },
      "source": [
        "Now suppose that you want to select all the observations which have an MMAX value which is higher than 35000. It is easy to do that:"
      ]
    },
    {
      "cell_type": "code",
      "execution_count": null,
      "metadata": {
        "id": "CylLCN__1CtD",
        "outputId": "2cb1e680-a9e6-4e53-c555-d9e7a53a2d28"
      },
      "outputs": [
        {
          "data": {
            "text/html": [
              "<div>\n",
              "<style scoped>\n",
              "    .dataframe tbody tr th:only-of-type {\n",
              "        vertical-align: middle;\n",
              "    }\n",
              "\n",
              "    .dataframe tbody tr th {\n",
              "        vertical-align: top;\n",
              "    }\n",
              "\n",
              "    .dataframe thead th {\n",
              "        text-align: right;\n",
              "    }\n",
              "</style>\n",
              "<table border=\"1\" class=\"dataframe\">\n",
              "  <thead>\n",
              "    <tr style=\"text-align: right;\">\n",
              "      <th></th>\n",
              "      <th>vendor</th>\n",
              "      <th>MYCT</th>\n",
              "      <th>MMIN</th>\n",
              "      <th>MMAX</th>\n",
              "      <th>CACH</th>\n",
              "      <th>CHMIN</th>\n",
              "      <th>CHMAX</th>\n",
              "      <th>ERP</th>\n",
              "    </tr>\n",
              "  </thead>\n",
              "  <tbody>\n",
              "    <tr>\n",
              "      <th>8</th>\n",
              "      <td>amdahl</td>\n",
              "      <td>23.0</td>\n",
              "      <td>16000.0</td>\n",
              "      <td>64000.0</td>\n",
              "      <td>64.0</td>\n",
              "      <td>16.0</td>\n",
              "      <td>32.0</td>\n",
              "      <td>749.0</td>\n",
              "    </tr>\n",
              "    <tr>\n",
              "      <th>9</th>\n",
              "      <td>amdahl</td>\n",
              "      <td>23.0</td>\n",
              "      <td>32000.0</td>\n",
              "      <td>64000.0</td>\n",
              "      <td>128.0</td>\n",
              "      <td>32.0</td>\n",
              "      <td>64.0</td>\n",
              "      <td>1238.0</td>\n",
              "    </tr>\n",
              "    <tr>\n",
              "      <th>198</th>\n",
              "      <td>sperry</td>\n",
              "      <td>30.0</td>\n",
              "      <td>8000.0</td>\n",
              "      <td>64000.0</td>\n",
              "      <td>96.0</td>\n",
              "      <td>12.0</td>\n",
              "      <td>176.0</td>\n",
              "      <td>919.0</td>\n",
              "    </tr>\n",
              "    <tr>\n",
              "      <th>199</th>\n",
              "      <td>sperry</td>\n",
              "      <td>30.0</td>\n",
              "      <td>8000.0</td>\n",
              "      <td>64000.0</td>\n",
              "      <td>128.0</td>\n",
              "      <td>12.0</td>\n",
              "      <td>176.0</td>\n",
              "      <td>978.0</td>\n",
              "    </tr>\n",
              "  </tbody>\n",
              "</table>\n",
              "</div>"
            ],
            "text/plain": [
              "     vendor  MYCT     MMIN     MMAX   CACH  CHMIN  CHMAX     ERP\n",
              "8    amdahl  23.0  16000.0  64000.0   64.0   16.0   32.0   749.0\n",
              "9    amdahl  23.0  32000.0  64000.0  128.0   32.0   64.0  1238.0\n",
              "198  sperry  30.0   8000.0  64000.0   96.0   12.0  176.0   919.0\n",
              "199  sperry  30.0   8000.0  64000.0  128.0   12.0  176.0   978.0"
            ]
          },
          "execution_count": 108,
          "metadata": {},
          "output_type": "execute_result"
        }
      ],
      "source": [
        "cpu[cpu['MMAX'] > 35000]"
      ]
    },
    {
      "cell_type": "markdown",
      "metadata": {
        "id": "Knz8dX0F1CtD"
      },
      "source": [
        "Or equivalently:"
      ]
    },
    {
      "cell_type": "code",
      "execution_count": null,
      "metadata": {
        "id": "uurP9XXR1CtD",
        "outputId": "041f8466-f7ba-47ac-ac31-fe04fb25a7d2"
      },
      "outputs": [
        {
          "data": {
            "text/html": [
              "<div>\n",
              "<style scoped>\n",
              "    .dataframe tbody tr th:only-of-type {\n",
              "        vertical-align: middle;\n",
              "    }\n",
              "\n",
              "    .dataframe tbody tr th {\n",
              "        vertical-align: top;\n",
              "    }\n",
              "\n",
              "    .dataframe thead th {\n",
              "        text-align: right;\n",
              "    }\n",
              "</style>\n",
              "<table border=\"1\" class=\"dataframe\">\n",
              "  <thead>\n",
              "    <tr style=\"text-align: right;\">\n",
              "      <th></th>\n",
              "      <th>vendor</th>\n",
              "      <th>MYCT</th>\n",
              "      <th>MMIN</th>\n",
              "      <th>MMAX</th>\n",
              "      <th>CACH</th>\n",
              "      <th>CHMIN</th>\n",
              "      <th>CHMAX</th>\n",
              "      <th>ERP</th>\n",
              "    </tr>\n",
              "  </thead>\n",
              "  <tbody>\n",
              "    <tr>\n",
              "      <th>8</th>\n",
              "      <td>amdahl</td>\n",
              "      <td>23.0</td>\n",
              "      <td>16000.0</td>\n",
              "      <td>64000.0</td>\n",
              "      <td>64.0</td>\n",
              "      <td>16.0</td>\n",
              "      <td>32.0</td>\n",
              "      <td>749.0</td>\n",
              "    </tr>\n",
              "    <tr>\n",
              "      <th>9</th>\n",
              "      <td>amdahl</td>\n",
              "      <td>23.0</td>\n",
              "      <td>32000.0</td>\n",
              "      <td>64000.0</td>\n",
              "      <td>128.0</td>\n",
              "      <td>32.0</td>\n",
              "      <td>64.0</td>\n",
              "      <td>1238.0</td>\n",
              "    </tr>\n",
              "    <tr>\n",
              "      <th>198</th>\n",
              "      <td>sperry</td>\n",
              "      <td>30.0</td>\n",
              "      <td>8000.0</td>\n",
              "      <td>64000.0</td>\n",
              "      <td>96.0</td>\n",
              "      <td>12.0</td>\n",
              "      <td>176.0</td>\n",
              "      <td>919.0</td>\n",
              "    </tr>\n",
              "    <tr>\n",
              "      <th>199</th>\n",
              "      <td>sperry</td>\n",
              "      <td>30.0</td>\n",
              "      <td>8000.0</td>\n",
              "      <td>64000.0</td>\n",
              "      <td>128.0</td>\n",
              "      <td>12.0</td>\n",
              "      <td>176.0</td>\n",
              "      <td>978.0</td>\n",
              "    </tr>\n",
              "  </tbody>\n",
              "</table>\n",
              "</div>"
            ],
            "text/plain": [
              "     vendor  MYCT     MMIN     MMAX   CACH  CHMIN  CHMAX     ERP\n",
              "8    amdahl  23.0  16000.0  64000.0   64.0   16.0   32.0   749.0\n",
              "9    amdahl  23.0  32000.0  64000.0  128.0   32.0   64.0  1238.0\n",
              "198  sperry  30.0   8000.0  64000.0   96.0   12.0  176.0   919.0\n",
              "199  sperry  30.0   8000.0  64000.0  128.0   12.0  176.0   978.0"
            ]
          },
          "execution_count": 109,
          "metadata": {},
          "output_type": "execute_result"
        }
      ],
      "source": [
        "cpu[cpu.MMAX > 35000]"
      ]
    },
    {
      "cell_type": "markdown",
      "metadata": {
        "id": "sq9Gy_H11CtE"
      },
      "source": [
        "You can also filter the data by using multiple attributes:"
      ]
    },
    {
      "cell_type": "code",
      "execution_count": null,
      "metadata": {
        "id": "YdgSKLfb1CtE",
        "outputId": "efb0b647-cb65-4dce-80ad-93908ff2c935"
      },
      "outputs": [
        {
          "data": {
            "text/html": [
              "<div>\n",
              "<style scoped>\n",
              "    .dataframe tbody tr th:only-of-type {\n",
              "        vertical-align: middle;\n",
              "    }\n",
              "\n",
              "    .dataframe tbody tr th {\n",
              "        vertical-align: top;\n",
              "    }\n",
              "\n",
              "    .dataframe thead th {\n",
              "        text-align: right;\n",
              "    }\n",
              "</style>\n",
              "<table border=\"1\" class=\"dataframe\">\n",
              "  <thead>\n",
              "    <tr style=\"text-align: right;\">\n",
              "      <th></th>\n",
              "      <th>vendor</th>\n",
              "      <th>MYCT</th>\n",
              "      <th>MMIN</th>\n",
              "      <th>MMAX</th>\n",
              "      <th>CACH</th>\n",
              "      <th>CHMIN</th>\n",
              "      <th>CHMAX</th>\n",
              "      <th>ERP</th>\n",
              "    </tr>\n",
              "  </thead>\n",
              "  <tbody>\n",
              "    <tr>\n",
              "      <th>9</th>\n",
              "      <td>amdahl</td>\n",
              "      <td>23.0</td>\n",
              "      <td>32000.0</td>\n",
              "      <td>64000.0</td>\n",
              "      <td>128.0</td>\n",
              "      <td>32.0</td>\n",
              "      <td>64.0</td>\n",
              "      <td>1238.0</td>\n",
              "    </tr>\n",
              "  </tbody>\n",
              "</table>\n",
              "</div>"
            ],
            "text/plain": [
              "   vendor  MYCT     MMIN     MMAX   CACH  CHMIN  CHMAX     ERP\n",
              "9  amdahl  23.0  32000.0  64000.0  128.0   32.0   64.0  1238.0"
            ]
          },
          "execution_count": 110,
          "metadata": {},
          "output_type": "execute_result"
        }
      ],
      "source": [
        "cpu[(cpu.MMAX > 35000) & (cpu.MMIN > 16000)]"
      ]
    },
    {
      "cell_type": "markdown",
      "metadata": {
        "id": "pnibtfJt1CtE"
      },
      "source": [
        "We saw before how we can select rows by passing the index numbers. This most of the time works but very often our indices are not in linear ascending order.\n",
        "\n",
        "There are two basic methods of indexing DataFrame structures:\n",
        "* `loc`: works on labels in the index\n",
        "* `iloc`: works on the position in the index (so it only takes integers)\n",
        "\n",
        "The following example should clarify the difference between label-based indexing (`loc`) and positional indexing (`iloc`)\n"
      ]
    },
    {
      "cell_type": "code",
      "execution_count": null,
      "metadata": {
        "id": "wP3TMBso1CtE",
        "outputId": "9a63a6ce-a95f-4f7d-f16a-d1db6dea848c"
      },
      "outputs": [
        {
          "data": {
            "text/html": [
              "<div>\n",
              "<style scoped>\n",
              "    .dataframe tbody tr th:only-of-type {\n",
              "        vertical-align: middle;\n",
              "    }\n",
              "\n",
              "    .dataframe tbody tr th {\n",
              "        vertical-align: top;\n",
              "    }\n",
              "\n",
              "    .dataframe thead th {\n",
              "        text-align: right;\n",
              "    }\n",
              "</style>\n",
              "<table border=\"1\" class=\"dataframe\">\n",
              "  <thead>\n",
              "    <tr style=\"text-align: right;\">\n",
              "      <th></th>\n",
              "      <th>vendor</th>\n",
              "      <th>MYCT</th>\n",
              "      <th>MMIN</th>\n",
              "      <th>MMAX</th>\n",
              "      <th>CACH</th>\n",
              "      <th>CHMIN</th>\n",
              "      <th>CHMAX</th>\n",
              "      <th>ERP</th>\n",
              "    </tr>\n",
              "  </thead>\n",
              "  <tbody>\n",
              "    <tr>\n",
              "      <th>8</th>\n",
              "      <td>amdahl</td>\n",
              "      <td>23.0</td>\n",
              "      <td>16000.0</td>\n",
              "      <td>64000.0</td>\n",
              "      <td>64.0</td>\n",
              "      <td>16.0</td>\n",
              "      <td>32.0</td>\n",
              "      <td>749.0</td>\n",
              "    </tr>\n",
              "    <tr>\n",
              "      <th>9</th>\n",
              "      <td>amdahl</td>\n",
              "      <td>23.0</td>\n",
              "      <td>32000.0</td>\n",
              "      <td>64000.0</td>\n",
              "      <td>128.0</td>\n",
              "      <td>32.0</td>\n",
              "      <td>64.0</td>\n",
              "      <td>1238.0</td>\n",
              "    </tr>\n",
              "    <tr>\n",
              "      <th>198</th>\n",
              "      <td>sperry</td>\n",
              "      <td>30.0</td>\n",
              "      <td>8000.0</td>\n",
              "      <td>64000.0</td>\n",
              "      <td>96.0</td>\n",
              "      <td>12.0</td>\n",
              "      <td>176.0</td>\n",
              "      <td>919.0</td>\n",
              "    </tr>\n",
              "    <tr>\n",
              "      <th>199</th>\n",
              "      <td>sperry</td>\n",
              "      <td>30.0</td>\n",
              "      <td>8000.0</td>\n",
              "      <td>64000.0</td>\n",
              "      <td>128.0</td>\n",
              "      <td>12.0</td>\n",
              "      <td>176.0</td>\n",
              "      <td>978.0</td>\n",
              "    </tr>\n",
              "  </tbody>\n",
              "</table>\n",
              "</div>"
            ],
            "text/plain": [
              "     vendor  MYCT     MMIN     MMAX   CACH  CHMIN  CHMAX     ERP\n",
              "8    amdahl  23.0  16000.0  64000.0   64.0   16.0   32.0   749.0\n",
              "9    amdahl  23.0  32000.0  64000.0  128.0   32.0   64.0  1238.0\n",
              "198  sperry  30.0   8000.0  64000.0   96.0   12.0  176.0   919.0\n",
              "199  sperry  30.0   8000.0  64000.0  128.0   12.0  176.0   978.0"
            ]
          },
          "execution_count": 111,
          "metadata": {},
          "output_type": "execute_result"
        }
      ],
      "source": [
        "# First let's create a new dataframe\n",
        "cpu_new = cpu[cpu['MMAX'] > 35000]\n",
        "cpu_new"
      ]
    },
    {
      "cell_type": "code",
      "execution_count": null,
      "metadata": {
        "id": "TMys_lU71CtE",
        "outputId": "dbfe7709-2181-4bf2-b75e-7776400ecdc4"
      },
      "outputs": [
        {
          "data": {
            "text/html": [
              "<div>\n",
              "<style scoped>\n",
              "    .dataframe tbody tr th:only-of-type {\n",
              "        vertical-align: middle;\n",
              "    }\n",
              "\n",
              "    .dataframe tbody tr th {\n",
              "        vertical-align: top;\n",
              "    }\n",
              "\n",
              "    .dataframe thead th {\n",
              "        text-align: right;\n",
              "    }\n",
              "</style>\n",
              "<table border=\"1\" class=\"dataframe\">\n",
              "  <thead>\n",
              "    <tr style=\"text-align: right;\">\n",
              "      <th></th>\n",
              "      <th>vendor</th>\n",
              "      <th>MYCT</th>\n",
              "      <th>MMIN</th>\n",
              "      <th>MMAX</th>\n",
              "      <th>CACH</th>\n",
              "      <th>CHMIN</th>\n",
              "      <th>CHMAX</th>\n",
              "      <th>ERP</th>\n",
              "    </tr>\n",
              "  </thead>\n",
              "  <tbody>\n",
              "    <tr>\n",
              "      <th>8</th>\n",
              "      <td>amdahl</td>\n",
              "      <td>23.0</td>\n",
              "      <td>16000.0</td>\n",
              "      <td>64000.0</td>\n",
              "      <td>64.0</td>\n",
              "      <td>16.0</td>\n",
              "      <td>32.0</td>\n",
              "      <td>749.0</td>\n",
              "    </tr>\n",
              "    <tr>\n",
              "      <th>9</th>\n",
              "      <td>amdahl</td>\n",
              "      <td>23.0</td>\n",
              "      <td>32000.0</td>\n",
              "      <td>64000.0</td>\n",
              "      <td>128.0</td>\n",
              "      <td>32.0</td>\n",
              "      <td>64.0</td>\n",
              "      <td>1238.0</td>\n",
              "    </tr>\n",
              "  </tbody>\n",
              "</table>\n",
              "</div>"
            ],
            "text/plain": [
              "   vendor  MYCT     MMIN     MMAX   CACH  CHMIN  CHMAX     ERP\n",
              "8  amdahl  23.0  16000.0  64000.0   64.0   16.0   32.0   749.0\n",
              "9  amdahl  23.0  32000.0  64000.0  128.0   32.0   64.0  1238.0"
            ]
          },
          "execution_count": 112,
          "metadata": {},
          "output_type": "execute_result"
        }
      ],
      "source": [
        "cpu_new.loc[8:10] # Looks for the rows which are labelled 8 and 9"
      ]
    },
    {
      "cell_type": "code",
      "execution_count": null,
      "metadata": {
        "id": "8fMiDfy-1CtE",
        "outputId": "efb66785-e7a0-4e88-bf56-3c9ec509d895"
      },
      "outputs": [
        {
          "data": {
            "text/html": [
              "<div>\n",
              "<style scoped>\n",
              "    .dataframe tbody tr th:only-of-type {\n",
              "        vertical-align: middle;\n",
              "    }\n",
              "\n",
              "    .dataframe tbody tr th {\n",
              "        vertical-align: top;\n",
              "    }\n",
              "\n",
              "    .dataframe thead th {\n",
              "        text-align: right;\n",
              "    }\n",
              "</style>\n",
              "<table border=\"1\" class=\"dataframe\">\n",
              "  <thead>\n",
              "    <tr style=\"text-align: right;\">\n",
              "      <th></th>\n",
              "      <th>vendor</th>\n",
              "      <th>MYCT</th>\n",
              "      <th>MMIN</th>\n",
              "      <th>MMAX</th>\n",
              "      <th>CACH</th>\n",
              "      <th>CHMIN</th>\n",
              "      <th>CHMAX</th>\n",
              "      <th>ERP</th>\n",
              "    </tr>\n",
              "  </thead>\n",
              "  <tbody>\n",
              "    <tr>\n",
              "      <th>8</th>\n",
              "      <td>amdahl</td>\n",
              "      <td>23.0</td>\n",
              "      <td>16000.0</td>\n",
              "      <td>64000.0</td>\n",
              "      <td>64.0</td>\n",
              "      <td>16.0</td>\n",
              "      <td>32.0</td>\n",
              "      <td>749.0</td>\n",
              "    </tr>\n",
              "    <tr>\n",
              "      <th>9</th>\n",
              "      <td>amdahl</td>\n",
              "      <td>23.0</td>\n",
              "      <td>32000.0</td>\n",
              "      <td>64000.0</td>\n",
              "      <td>128.0</td>\n",
              "      <td>32.0</td>\n",
              "      <td>64.0</td>\n",
              "      <td>1238.0</td>\n",
              "    </tr>\n",
              "  </tbody>\n",
              "</table>\n",
              "</div>"
            ],
            "text/plain": [
              "   vendor  MYCT     MMIN     MMAX   CACH  CHMIN  CHMAX     ERP\n",
              "8  amdahl  23.0  16000.0  64000.0   64.0   16.0   32.0   749.0\n",
              "9  amdahl  23.0  32000.0  64000.0  128.0   32.0   64.0  1238.0"
            ]
          },
          "execution_count": 113,
          "metadata": {},
          "output_type": "execute_result"
        }
      ],
      "source": [
        "cpu_new.iloc[0:2] # Look for the first and second rows (this yields the same result as before)"
      ]
    },
    {
      "cell_type": "code",
      "execution_count": null,
      "metadata": {
        "id": "BcmPTIk71CtE",
        "outputId": "e5f78375-a97d-4c9f-f6ab-ab52985d2149"
      },
      "outputs": [
        {
          "data": {
            "text/html": [
              "<div>\n",
              "<style scoped>\n",
              "    .dataframe tbody tr th:only-of-type {\n",
              "        vertical-align: middle;\n",
              "    }\n",
              "\n",
              "    .dataframe tbody tr th {\n",
              "        vertical-align: top;\n",
              "    }\n",
              "\n",
              "    .dataframe thead th {\n",
              "        text-align: right;\n",
              "    }\n",
              "</style>\n",
              "<table border=\"1\" class=\"dataframe\">\n",
              "  <thead>\n",
              "    <tr style=\"text-align: right;\">\n",
              "      <th></th>\n",
              "      <th>vendor</th>\n",
              "      <th>MYCT</th>\n",
              "      <th>MMIN</th>\n",
              "      <th>MMAX</th>\n",
              "      <th>CACH</th>\n",
              "      <th>CHMIN</th>\n",
              "      <th>CHMAX</th>\n",
              "      <th>ERP</th>\n",
              "    </tr>\n",
              "  </thead>\n",
              "  <tbody>\n",
              "  </tbody>\n",
              "</table>\n",
              "</div>"
            ],
            "text/plain": [
              "Empty DataFrame\n",
              "Columns: [vendor, MYCT, MMIN, MMAX, CACH, CHMIN, CHMAX, ERP]\n",
              "Index: []"
            ]
          },
          "execution_count": 114,
          "metadata": {},
          "output_type": "execute_result"
        }
      ],
      "source": [
        "# If we try the following we will get an empty DataFrame because there are no rows with labels 0 and 1.\n",
        "cpu_new.loc[0:2]"
      ]
    },
    {
      "cell_type": "code",
      "execution_count": null,
      "metadata": {
        "id": "OkSKVTzk1CtE",
        "outputId": "35096adc-6d97-48ab-e9a3-3674f57540a2"
      },
      "outputs": [
        {
          "data": {
            "text/plain": [
              "pandas.core.frame.DataFrame"
            ]
          },
          "execution_count": 115,
          "metadata": {},
          "output_type": "execute_result"
        }
      ],
      "source": [
        "# The result is another DataFrame\n",
        "type(cpu[0:2])"
      ]
    },
    {
      "cell_type": "markdown",
      "metadata": {
        "id": "-45UyOce1CtE"
      },
      "source": [
        "A very common scenario will be the following. We want to select specific observations and columns of a DataFrame and convert to a NumPy array so that we can use it for feature extraction, classification etc. This can be achieved by using the `values` method."
      ]
    },
    {
      "cell_type": "code",
      "execution_count": null,
      "metadata": {
        "id": "82YmjvMM1CtE",
        "outputId": "9b907957-585e-436b-e910-08e1553f57b2"
      },
      "outputs": [
        {
          "data": {
            "text/plain": [
              "array([[  256.,  6000.],\n",
              "       [ 8000., 32000.],\n",
              "       [ 8000., 32000.],\n",
              "       [ 8000., 32000.],\n",
              "       [ 8000., 16000.],\n",
              "       [ 8000., 32000.],\n",
              "       [16000., 32000.],\n",
              "       [16000., 32000.],\n",
              "       [16000., 64000.],\n",
              "       [32000., 64000.]])"
            ]
          },
          "execution_count": 116,
          "metadata": {},
          "output_type": "execute_result"
        }
      ],
      "source": [
        "# Select the first 10 observations and the \"MMIN\" and \"MMAX\" columns only and convert to numpy array.\n",
        "cpu[:10][['MMIN', 'MMAX']].values"
      ]
    },
    {
      "cell_type": "markdown",
      "metadata": {
        "id": "lSczElNN1CtF"
      },
      "source": [
        "You can confirm that by using the `values` method the resulting object is a NumPy array."
      ]
    },
    {
      "cell_type": "markdown",
      "metadata": {
        "id": "en7GKZ1P1CtF"
      },
      "source": [
        "#### Indexing - selecting rows and columns"
      ]
    },
    {
      "cell_type": "markdown",
      "metadata": {
        "id": "eh2cibLs1CtF"
      },
      "source": [
        "*WARNING* - indexing is probably the most difficult part of pandas to get used to. If you get stuck [refer to the documentation on indexing](https://pandas.pydata.org/pandas-docs/stable/indexing.html)."
      ]
    },
    {
      "cell_type": "markdown",
      "metadata": {
        "id": "sENj_enp1CtF"
      },
      "source": [
        "Summary of DataFrame methods for indexing:\n",
        "* iloc - ignore index labels, index like numpy with integer positions\n",
        "* loc - use index labels"
      ]
    },
    {
      "cell_type": "markdown",
      "metadata": {
        "id": "OS0o_jBJ1CtF"
      },
      "source": [
        "To illustrate, observe what happens when we reorder the rows of our dataframe."
      ]
    },
    {
      "cell_type": "code",
      "execution_count": null,
      "metadata": {
        "id": "_GCRDiuo1CtF"
      },
      "outputs": [],
      "source": [
        "cpu.sort_values('ERP', inplace=True)"
      ]
    },
    {
      "cell_type": "code",
      "execution_count": null,
      "metadata": {
        "id": "AM0fLew21CtF",
        "outputId": "869067c0-f4ee-4080-b5d6-cb4cf8ad83f1"
      },
      "outputs": [
        {
          "data": {
            "text/html": [
              "<div>\n",
              "<style scoped>\n",
              "    .dataframe tbody tr th:only-of-type {\n",
              "        vertical-align: middle;\n",
              "    }\n",
              "\n",
              "    .dataframe tbody tr th {\n",
              "        vertical-align: top;\n",
              "    }\n",
              "\n",
              "    .dataframe thead th {\n",
              "        text-align: right;\n",
              "    }\n",
              "</style>\n",
              "<table border=\"1\" class=\"dataframe\">\n",
              "  <thead>\n",
              "    <tr style=\"text-align: right;\">\n",
              "      <th></th>\n",
              "      <th>vendor</th>\n",
              "      <th>MYCT</th>\n",
              "      <th>MMIN</th>\n",
              "      <th>MMAX</th>\n",
              "      <th>CACH</th>\n",
              "      <th>CHMIN</th>\n",
              "      <th>CHMAX</th>\n",
              "      <th>ERP</th>\n",
              "    </tr>\n",
              "  </thead>\n",
              "  <tbody>\n",
              "    <tr>\n",
              "      <th>99</th>\n",
              "      <td>ibm</td>\n",
              "      <td>480.0</td>\n",
              "      <td>96.0</td>\n",
              "      <td>512.0</td>\n",
              "      <td>0.0</td>\n",
              "      <td>1.0</td>\n",
              "      <td>1.0</td>\n",
              "      <td>15.0</td>\n",
              "    </tr>\n",
              "    <tr>\n",
              "      <th>14</th>\n",
              "      <td>bti</td>\n",
              "      <td>350.0</td>\n",
              "      <td>64.0</td>\n",
              "      <td>64.0</td>\n",
              "      <td>0.0</td>\n",
              "      <td>1.0</td>\n",
              "      <td>4.0</td>\n",
              "      <td>15.0</td>\n",
              "    </tr>\n",
              "    <tr>\n",
              "      <th>108</th>\n",
              "      <td>ibm</td>\n",
              "      <td>900.0</td>\n",
              "      <td>512.0</td>\n",
              "      <td>1000.0</td>\n",
              "      <td>0.0</td>\n",
              "      <td>1.0</td>\n",
              "      <td>2.0</td>\n",
              "      <td>17.0</td>\n",
              "    </tr>\n",
              "    <tr>\n",
              "      <th>122</th>\n",
              "      <td>ibm</td>\n",
              "      <td>1500.0</td>\n",
              "      <td>768.0</td>\n",
              "      <td>1000.0</td>\n",
              "      <td>0.0</td>\n",
              "      <td>0.0</td>\n",
              "      <td>0.0</td>\n",
              "      <td>18.0</td>\n",
              "    </tr>\n",
              "    <tr>\n",
              "      <th>107</th>\n",
              "      <td>ibm</td>\n",
              "      <td>900.0</td>\n",
              "      <td>1000.0</td>\n",
              "      <td>1000.0</td>\n",
              "      <td>0.0</td>\n",
              "      <td>1.0</td>\n",
              "      <td>2.0</td>\n",
              "      <td>18.0</td>\n",
              "    </tr>\n",
              "    <tr>\n",
              "      <th>102</th>\n",
              "      <td>ibm</td>\n",
              "      <td>1100.0</td>\n",
              "      <td>512.0</td>\n",
              "      <td>1500.0</td>\n",
              "      <td>0.0</td>\n",
              "      <td>1.0</td>\n",
              "      <td>1.0</td>\n",
              "      <td>18.0</td>\n",
              "    </tr>\n",
              "    <tr>\n",
              "      <th>46</th>\n",
              "      <td>dec</td>\n",
              "      <td>810.0</td>\n",
              "      <td>512.0</td>\n",
              "      <td>512.0</td>\n",
              "      <td>8.0</td>\n",
              "      <td>1.0</td>\n",
              "      <td>1.0</td>\n",
              "      <td>18.0</td>\n",
              "    </tr>\n",
              "    <tr>\n",
              "      <th>78</th>\n",
              "      <td>harris</td>\n",
              "      <td>300.0</td>\n",
              "      <td>192.0</td>\n",
              "      <td>768.0</td>\n",
              "      <td>6.0</td>\n",
              "      <td>6.0</td>\n",
              "      <td>24.0</td>\n",
              "      <td>18.0</td>\n",
              "    </tr>\n",
              "    <tr>\n",
              "      <th>66</th>\n",
              "      <td>hp</td>\n",
              "      <td>90.0</td>\n",
              "      <td>256.0</td>\n",
              "      <td>1000.0</td>\n",
              "      <td>0.0</td>\n",
              "      <td>3.0</td>\n",
              "      <td>10.0</td>\n",
              "      <td>18.0</td>\n",
              "    </tr>\n",
              "    <tr>\n",
              "      <th>62</th>\n",
              "      <td>four-phase</td>\n",
              "      <td>125.0</td>\n",
              "      <td>512.0</td>\n",
              "      <td>1000.0</td>\n",
              "      <td>0.0</td>\n",
              "      <td>8.0</td>\n",
              "      <td>20.0</td>\n",
              "      <td>19.0</td>\n",
              "    </tr>\n",
              "  </tbody>\n",
              "</table>\n",
              "</div>"
            ],
            "text/plain": [
              "         vendor    MYCT    MMIN    MMAX  CACH  CHMIN  CHMAX   ERP\n",
              "99          ibm   480.0    96.0   512.0   0.0    1.0    1.0  15.0\n",
              "14          bti   350.0    64.0    64.0   0.0    1.0    4.0  15.0\n",
              "108         ibm   900.0   512.0  1000.0   0.0    1.0    2.0  17.0\n",
              "122         ibm  1500.0   768.0  1000.0   0.0    0.0    0.0  18.0\n",
              "107         ibm   900.0  1000.0  1000.0   0.0    1.0    2.0  18.0\n",
              "102         ibm  1100.0   512.0  1500.0   0.0    1.0    1.0  18.0\n",
              "46          dec   810.0   512.0   512.0   8.0    1.0    1.0  18.0\n",
              "78       harris   300.0   192.0   768.0   6.0    6.0   24.0  18.0\n",
              "66           hp    90.0   256.0  1000.0   0.0    3.0   10.0  18.0\n",
              "62   four-phase   125.0   512.0  1000.0   0.0    8.0   20.0  19.0"
            ]
          },
          "execution_count": 118,
          "metadata": {},
          "output_type": "execute_result"
        }
      ],
      "source": [
        "cpu.iloc[:10]"
      ]
    },
    {
      "cell_type": "code",
      "execution_count": null,
      "metadata": {
        "id": "TjUbQgW41CtF",
        "outputId": "9b92e71e-e671-40df-d8f2-a7af8be36351"
      },
      "outputs": [
        {
          "data": {
            "text/html": [
              "<div>\n",
              "<style scoped>\n",
              "    .dataframe tbody tr th:only-of-type {\n",
              "        vertical-align: middle;\n",
              "    }\n",
              "\n",
              "    .dataframe tbody tr th {\n",
              "        vertical-align: top;\n",
              "    }\n",
              "\n",
              "    .dataframe thead th {\n",
              "        text-align: right;\n",
              "    }\n",
              "</style>\n",
              "<table border=\"1\" class=\"dataframe\">\n",
              "  <thead>\n",
              "    <tr style=\"text-align: right;\">\n",
              "      <th></th>\n",
              "      <th>vendor</th>\n",
              "      <th>MYCT</th>\n",
              "      <th>MMIN</th>\n",
              "      <th>MMAX</th>\n",
              "      <th>CACH</th>\n",
              "      <th>CHMIN</th>\n",
              "      <th>CHMAX</th>\n",
              "      <th>ERP</th>\n",
              "    </tr>\n",
              "  </thead>\n",
              "  <tbody>\n",
              "    <tr>\n",
              "      <th>99</th>\n",
              "      <td>ibm</td>\n",
              "      <td>480.0</td>\n",
              "      <td>96.0</td>\n",
              "      <td>512.0</td>\n",
              "      <td>0.0</td>\n",
              "      <td>1.0</td>\n",
              "      <td>1.0</td>\n",
              "      <td>15.0</td>\n",
              "    </tr>\n",
              "    <tr>\n",
              "      <th>14</th>\n",
              "      <td>bti</td>\n",
              "      <td>350.0</td>\n",
              "      <td>64.0</td>\n",
              "      <td>64.0</td>\n",
              "      <td>0.0</td>\n",
              "      <td>1.0</td>\n",
              "      <td>4.0</td>\n",
              "      <td>15.0</td>\n",
              "    </tr>\n",
              "    <tr>\n",
              "      <th>108</th>\n",
              "      <td>ibm</td>\n",
              "      <td>900.0</td>\n",
              "      <td>512.0</td>\n",
              "      <td>1000.0</td>\n",
              "      <td>0.0</td>\n",
              "      <td>1.0</td>\n",
              "      <td>2.0</td>\n",
              "      <td>17.0</td>\n",
              "    </tr>\n",
              "    <tr>\n",
              "      <th>122</th>\n",
              "      <td>ibm</td>\n",
              "      <td>1500.0</td>\n",
              "      <td>768.0</td>\n",
              "      <td>1000.0</td>\n",
              "      <td>0.0</td>\n",
              "      <td>0.0</td>\n",
              "      <td>0.0</td>\n",
              "      <td>18.0</td>\n",
              "    </tr>\n",
              "    <tr>\n",
              "      <th>107</th>\n",
              "      <td>ibm</td>\n",
              "      <td>900.0</td>\n",
              "      <td>1000.0</td>\n",
              "      <td>1000.0</td>\n",
              "      <td>0.0</td>\n",
              "      <td>1.0</td>\n",
              "      <td>2.0</td>\n",
              "      <td>18.0</td>\n",
              "    </tr>\n",
              "    <tr>\n",
              "      <th>102</th>\n",
              "      <td>ibm</td>\n",
              "      <td>1100.0</td>\n",
              "      <td>512.0</td>\n",
              "      <td>1500.0</td>\n",
              "      <td>0.0</td>\n",
              "      <td>1.0</td>\n",
              "      <td>1.0</td>\n",
              "      <td>18.0</td>\n",
              "    </tr>\n",
              "    <tr>\n",
              "      <th>46</th>\n",
              "      <td>dec</td>\n",
              "      <td>810.0</td>\n",
              "      <td>512.0</td>\n",
              "      <td>512.0</td>\n",
              "      <td>8.0</td>\n",
              "      <td>1.0</td>\n",
              "      <td>1.0</td>\n",
              "      <td>18.0</td>\n",
              "    </tr>\n",
              "    <tr>\n",
              "      <th>78</th>\n",
              "      <td>harris</td>\n",
              "      <td>300.0</td>\n",
              "      <td>192.0</td>\n",
              "      <td>768.0</td>\n",
              "      <td>6.0</td>\n",
              "      <td>6.0</td>\n",
              "      <td>24.0</td>\n",
              "      <td>18.0</td>\n",
              "    </tr>\n",
              "    <tr>\n",
              "      <th>66</th>\n",
              "      <td>hp</td>\n",
              "      <td>90.0</td>\n",
              "      <td>256.0</td>\n",
              "      <td>1000.0</td>\n",
              "      <td>0.0</td>\n",
              "      <td>3.0</td>\n",
              "      <td>10.0</td>\n",
              "      <td>18.0</td>\n",
              "    </tr>\n",
              "    <tr>\n",
              "      <th>62</th>\n",
              "      <td>four-phase</td>\n",
              "      <td>125.0</td>\n",
              "      <td>512.0</td>\n",
              "      <td>1000.0</td>\n",
              "      <td>0.0</td>\n",
              "      <td>8.0</td>\n",
              "      <td>20.0</td>\n",
              "      <td>19.0</td>\n",
              "    </tr>\n",
              "    <tr>\n",
              "      <th>51</th>\n",
              "      <td>dg</td>\n",
              "      <td>700.0</td>\n",
              "      <td>256.0</td>\n",
              "      <td>2000.0</td>\n",
              "      <td>0.0</td>\n",
              "      <td>1.0</td>\n",
              "      <td>1.0</td>\n",
              "      <td>19.0</td>\n",
              "    </tr>\n",
              "    <tr>\n",
              "      <th>181</th>\n",
              "      <td>siemens</td>\n",
              "      <td>240.0</td>\n",
              "      <td>512.0</td>\n",
              "      <td>1000.0</td>\n",
              "      <td>8.0</td>\n",
              "      <td>1.0</td>\n",
              "      <td>3.0</td>\n",
              "      <td>19.0</td>\n",
              "    </tr>\n",
              "    <tr>\n",
              "      <th>157</th>\n",
              "      <td>ncr</td>\n",
              "      <td>112.0</td>\n",
              "      <td>1000.0</td>\n",
              "      <td>1000.0</td>\n",
              "      <td>0.0</td>\n",
              "      <td>1.0</td>\n",
              "      <td>4.0</td>\n",
              "      <td>19.0</td>\n",
              "    </tr>\n",
              "    <tr>\n",
              "      <th>83</th>\n",
              "      <td>honeywell</td>\n",
              "      <td>330.0</td>\n",
              "      <td>1000.0</td>\n",
              "      <td>2000.0</td>\n",
              "      <td>0.0</td>\n",
              "      <td>1.0</td>\n",
              "      <td>2.0</td>\n",
              "      <td>20.0</td>\n",
              "    </tr>\n",
              "    <tr>\n",
              "      <th>124</th>\n",
              "      <td>ibm</td>\n",
              "      <td>800.0</td>\n",
              "      <td>768.0</td>\n",
              "      <td>2000.0</td>\n",
              "      <td>0.0</td>\n",
              "      <td>0.0</td>\n",
              "      <td>0.0</td>\n",
              "      <td>20.0</td>\n",
              "    </tr>\n",
              "    <tr>\n",
              "      <th>103</th>\n",
              "      <td>ibm</td>\n",
              "      <td>1100.0</td>\n",
              "      <td>768.0</td>\n",
              "      <td>2000.0</td>\n",
              "      <td>0.0</td>\n",
              "      <td>1.0</td>\n",
              "      <td>1.0</td>\n",
              "      <td>20.0</td>\n",
              "    </tr>\n",
              "    <tr>\n",
              "      <th>72</th>\n",
              "      <td>hp</td>\n",
              "      <td>175.0</td>\n",
              "      <td>256.0</td>\n",
              "      <td>2000.0</td>\n",
              "      <td>0.0</td>\n",
              "      <td>3.0</td>\n",
              "      <td>24.0</td>\n",
              "      <td>20.0</td>\n",
              "    </tr>\n",
              "    <tr>\n",
              "      <th>67</th>\n",
              "      <td>hp</td>\n",
              "      <td>105.0</td>\n",
              "      <td>256.0</td>\n",
              "      <td>2000.0</td>\n",
              "      <td>0.0</td>\n",
              "      <td>3.0</td>\n",
              "      <td>10.0</td>\n",
              "      <td>20.0</td>\n",
              "    </tr>\n",
              "    <tr>\n",
              "      <th>104</th>\n",
              "      <td>ibm</td>\n",
              "      <td>600.0</td>\n",
              "      <td>768.0</td>\n",
              "      <td>2000.0</td>\n",
              "      <td>0.0</td>\n",
              "      <td>1.0</td>\n",
              "      <td>1.0</td>\n",
              "      <td>20.0</td>\n",
              "    </tr>\n",
              "    <tr>\n",
              "      <th>123</th>\n",
              "      <td>ibm</td>\n",
              "      <td>1500.0</td>\n",
              "      <td>768.0</td>\n",
              "      <td>2000.0</td>\n",
              "      <td>0.0</td>\n",
              "      <td>0.0</td>\n",
              "      <td>0.0</td>\n",
              "      <td>20.0</td>\n",
              "    </tr>\n",
              "    <tr>\n",
              "      <th>177</th>\n",
              "      <td>prime</td>\n",
              "      <td>160.0</td>\n",
              "      <td>512.0</td>\n",
              "      <td>2000.0</td>\n",
              "      <td>2.0</td>\n",
              "      <td>3.0</td>\n",
              "      <td>8.0</td>\n",
              "      <td>20.0</td>\n",
              "    </tr>\n",
              "    <tr>\n",
              "      <th>100</th>\n",
              "      <td>ibm</td>\n",
              "      <td>203.0</td>\n",
              "      <td>1000.0</td>\n",
              "      <td>2000.0</td>\n",
              "      <td>0.0</td>\n",
              "      <td>1.0</td>\n",
              "      <td>5.0</td>\n",
              "      <td>21.0</td>\n",
              "    </tr>\n",
              "    <tr>\n",
              "      <th>25</th>\n",
              "      <td>c.r.d</td>\n",
              "      <td>320.0</td>\n",
              "      <td>512.0</td>\n",
              "      <td>2000.0</td>\n",
              "      <td>4.0</td>\n",
              "      <td>1.0</td>\n",
              "      <td>3.0</td>\n",
              "      <td>21.0</td>\n",
              "    </tr>\n",
              "    <tr>\n",
              "      <th>158</th>\n",
              "      <td>ncr</td>\n",
              "      <td>84.0</td>\n",
              "      <td>1000.0</td>\n",
              "      <td>2000.0</td>\n",
              "      <td>0.0</td>\n",
              "      <td>1.0</td>\n",
              "      <td>6.0</td>\n",
              "      <td>21.0</td>\n",
              "    </tr>\n",
              "    <tr>\n",
              "      <th>170</th>\n",
              "      <td>nixdorf</td>\n",
              "      <td>200.0</td>\n",
              "      <td>1000.0</td>\n",
              "      <td>2000.0</td>\n",
              "      <td>0.0</td>\n",
              "      <td>1.0</td>\n",
              "      <td>2.0</td>\n",
              "      <td>21.0</td>\n",
              "    </tr>\n",
              "    <tr>\n",
              "      <th>27</th>\n",
              "      <td>c.r.d</td>\n",
              "      <td>320.0</td>\n",
              "      <td>256.0</td>\n",
              "      <td>3000.0</td>\n",
              "      <td>4.0</td>\n",
              "      <td>1.0</td>\n",
              "      <td>3.0</td>\n",
              "      <td>22.0</td>\n",
              "    </tr>\n",
              "    <tr>\n",
              "      <th>18</th>\n",
              "      <td>burroughs</td>\n",
              "      <td>143.0</td>\n",
              "      <td>1000.0</td>\n",
              "      <td>2000.0</td>\n",
              "      <td>0.0</td>\n",
              "      <td>5.0</td>\n",
              "      <td>16.0</td>\n",
              "      <td>22.0</td>\n",
              "    </tr>\n",
              "    <tr>\n",
              "      <th>182</th>\n",
              "      <td>siemens</td>\n",
              "      <td>240.0</td>\n",
              "      <td>512.0</td>\n",
              "      <td>2000.0</td>\n",
              "      <td>8.0</td>\n",
              "      <td>1.0</td>\n",
              "      <td>5.0</td>\n",
              "      <td>22.0</td>\n",
              "    </tr>\n",
              "    <tr>\n",
              "      <th>80</th>\n",
              "      <td>honeywell</td>\n",
              "      <td>330.0</td>\n",
              "      <td>1000.0</td>\n",
              "      <td>3000.0</td>\n",
              "      <td>0.0</td>\n",
              "      <td>2.0</td>\n",
              "      <td>4.0</td>\n",
              "      <td>23.0</td>\n",
              "    </tr>\n",
              "    <tr>\n",
              "      <th>10</th>\n",
              "      <td>apollo</td>\n",
              "      <td>400.0</td>\n",
              "      <td>1000.0</td>\n",
              "      <td>3000.0</td>\n",
              "      <td>0.0</td>\n",
              "      <td>1.0</td>\n",
              "      <td>2.0</td>\n",
              "      <td>23.0</td>\n",
              "    </tr>\n",
              "  </tbody>\n",
              "</table>\n",
              "</div>"
            ],
            "text/plain": [
              "         vendor    MYCT    MMIN    MMAX  CACH  CHMIN  CHMAX   ERP\n",
              "99          ibm   480.0    96.0   512.0   0.0    1.0    1.0  15.0\n",
              "14          bti   350.0    64.0    64.0   0.0    1.0    4.0  15.0\n",
              "108         ibm   900.0   512.0  1000.0   0.0    1.0    2.0  17.0\n",
              "122         ibm  1500.0   768.0  1000.0   0.0    0.0    0.0  18.0\n",
              "107         ibm   900.0  1000.0  1000.0   0.0    1.0    2.0  18.0\n",
              "102         ibm  1100.0   512.0  1500.0   0.0    1.0    1.0  18.0\n",
              "46          dec   810.0   512.0   512.0   8.0    1.0    1.0  18.0\n",
              "78       harris   300.0   192.0   768.0   6.0    6.0   24.0  18.0\n",
              "66           hp    90.0   256.0  1000.0   0.0    3.0   10.0  18.0\n",
              "62   four-phase   125.0   512.0  1000.0   0.0    8.0   20.0  19.0\n",
              "51           dg   700.0   256.0  2000.0   0.0    1.0    1.0  19.0\n",
              "181     siemens   240.0   512.0  1000.0   8.0    1.0    3.0  19.0\n",
              "157         ncr   112.0  1000.0  1000.0   0.0    1.0    4.0  19.0\n",
              "83    honeywell   330.0  1000.0  2000.0   0.0    1.0    2.0  20.0\n",
              "124         ibm   800.0   768.0  2000.0   0.0    0.0    0.0  20.0\n",
              "103         ibm  1100.0   768.0  2000.0   0.0    1.0    1.0  20.0\n",
              "72           hp   175.0   256.0  2000.0   0.0    3.0   24.0  20.0\n",
              "67           hp   105.0   256.0  2000.0   0.0    3.0   10.0  20.0\n",
              "104         ibm   600.0   768.0  2000.0   0.0    1.0    1.0  20.0\n",
              "123         ibm  1500.0   768.0  2000.0   0.0    0.0    0.0  20.0\n",
              "177       prime   160.0   512.0  2000.0   2.0    3.0    8.0  20.0\n",
              "100         ibm   203.0  1000.0  2000.0   0.0    1.0    5.0  21.0\n",
              "25        c.r.d   320.0   512.0  2000.0   4.0    1.0    3.0  21.0\n",
              "158         ncr    84.0  1000.0  2000.0   0.0    1.0    6.0  21.0\n",
              "170     nixdorf   200.0  1000.0  2000.0   0.0    1.0    2.0  21.0\n",
              "27        c.r.d   320.0   256.0  3000.0   4.0    1.0    3.0  22.0\n",
              "18    burroughs   143.0  1000.0  2000.0   0.0    5.0   16.0  22.0\n",
              "182     siemens   240.0   512.0  2000.0   8.0    1.0    5.0  22.0\n",
              "80    honeywell   330.0  1000.0  3000.0   0.0    2.0    4.0  23.0\n",
              "10       apollo   400.0  1000.0  3000.0   0.0    1.0    2.0  23.0"
            ]
          },
          "execution_count": 119,
          "metadata": {},
          "output_type": "execute_result"
        }
      ],
      "source": [
        "cpu.loc[:10]"
      ]
    },
    {
      "cell_type": "markdown",
      "metadata": {
        "id": "J9q3Xccd1CtF"
      },
      "source": [
        "Observe what happens if we change the label of one of the now first index"
      ]
    },
    {
      "cell_type": "code",
      "execution_count": null,
      "metadata": {
        "id": "AdVWOldx1CtF"
      },
      "outputs": [],
      "source": [
        "cpu = cpu.rename(index={cpu.index[0]: 'A'})"
      ]
    },
    {
      "cell_type": "code",
      "execution_count": null,
      "metadata": {
        "id": "p4S9DD3d1CtF",
        "outputId": "87a4da0e-d3b5-461d-b5ee-09994dd42c74"
      },
      "outputs": [
        {
          "data": {
            "text/html": [
              "<div>\n",
              "<style scoped>\n",
              "    .dataframe tbody tr th:only-of-type {\n",
              "        vertical-align: middle;\n",
              "    }\n",
              "\n",
              "    .dataframe tbody tr th {\n",
              "        vertical-align: top;\n",
              "    }\n",
              "\n",
              "    .dataframe thead th {\n",
              "        text-align: right;\n",
              "    }\n",
              "</style>\n",
              "<table border=\"1\" class=\"dataframe\">\n",
              "  <thead>\n",
              "    <tr style=\"text-align: right;\">\n",
              "      <th></th>\n",
              "      <th>vendor</th>\n",
              "      <th>MYCT</th>\n",
              "      <th>MMIN</th>\n",
              "      <th>MMAX</th>\n",
              "      <th>CACH</th>\n",
              "      <th>CHMIN</th>\n",
              "      <th>CHMAX</th>\n",
              "      <th>ERP</th>\n",
              "    </tr>\n",
              "  </thead>\n",
              "  <tbody>\n",
              "    <tr>\n",
              "      <th>A</th>\n",
              "      <td>ibm</td>\n",
              "      <td>480.0</td>\n",
              "      <td>96.0</td>\n",
              "      <td>512.0</td>\n",
              "      <td>0.0</td>\n",
              "      <td>1.0</td>\n",
              "      <td>1.0</td>\n",
              "      <td>15.0</td>\n",
              "    </tr>\n",
              "    <tr>\n",
              "      <th>14</th>\n",
              "      <td>bti</td>\n",
              "      <td>350.0</td>\n",
              "      <td>64.0</td>\n",
              "      <td>64.0</td>\n",
              "      <td>0.0</td>\n",
              "      <td>1.0</td>\n",
              "      <td>4.0</td>\n",
              "      <td>15.0</td>\n",
              "    </tr>\n",
              "    <tr>\n",
              "      <th>108</th>\n",
              "      <td>ibm</td>\n",
              "      <td>900.0</td>\n",
              "      <td>512.0</td>\n",
              "      <td>1000.0</td>\n",
              "      <td>0.0</td>\n",
              "      <td>1.0</td>\n",
              "      <td>2.0</td>\n",
              "      <td>17.0</td>\n",
              "    </tr>\n",
              "    <tr>\n",
              "      <th>122</th>\n",
              "      <td>ibm</td>\n",
              "      <td>1500.0</td>\n",
              "      <td>768.0</td>\n",
              "      <td>1000.0</td>\n",
              "      <td>0.0</td>\n",
              "      <td>0.0</td>\n",
              "      <td>0.0</td>\n",
              "      <td>18.0</td>\n",
              "    </tr>\n",
              "    <tr>\n",
              "      <th>107</th>\n",
              "      <td>ibm</td>\n",
              "      <td>900.0</td>\n",
              "      <td>1000.0</td>\n",
              "      <td>1000.0</td>\n",
              "      <td>0.0</td>\n",
              "      <td>1.0</td>\n",
              "      <td>2.0</td>\n",
              "      <td>18.0</td>\n",
              "    </tr>\n",
              "    <tr>\n",
              "      <th>102</th>\n",
              "      <td>ibm</td>\n",
              "      <td>1100.0</td>\n",
              "      <td>512.0</td>\n",
              "      <td>1500.0</td>\n",
              "      <td>0.0</td>\n",
              "      <td>1.0</td>\n",
              "      <td>1.0</td>\n",
              "      <td>18.0</td>\n",
              "    </tr>\n",
              "    <tr>\n",
              "      <th>46</th>\n",
              "      <td>dec</td>\n",
              "      <td>810.0</td>\n",
              "      <td>512.0</td>\n",
              "      <td>512.0</td>\n",
              "      <td>8.0</td>\n",
              "      <td>1.0</td>\n",
              "      <td>1.0</td>\n",
              "      <td>18.0</td>\n",
              "    </tr>\n",
              "    <tr>\n",
              "      <th>78</th>\n",
              "      <td>harris</td>\n",
              "      <td>300.0</td>\n",
              "      <td>192.0</td>\n",
              "      <td>768.0</td>\n",
              "      <td>6.0</td>\n",
              "      <td>6.0</td>\n",
              "      <td>24.0</td>\n",
              "      <td>18.0</td>\n",
              "    </tr>\n",
              "    <tr>\n",
              "      <th>66</th>\n",
              "      <td>hp</td>\n",
              "      <td>90.0</td>\n",
              "      <td>256.0</td>\n",
              "      <td>1000.0</td>\n",
              "      <td>0.0</td>\n",
              "      <td>3.0</td>\n",
              "      <td>10.0</td>\n",
              "      <td>18.0</td>\n",
              "    </tr>\n",
              "    <tr>\n",
              "      <th>62</th>\n",
              "      <td>four-phase</td>\n",
              "      <td>125.0</td>\n",
              "      <td>512.0</td>\n",
              "      <td>1000.0</td>\n",
              "      <td>0.0</td>\n",
              "      <td>8.0</td>\n",
              "      <td>20.0</td>\n",
              "      <td>19.0</td>\n",
              "    </tr>\n",
              "  </tbody>\n",
              "</table>\n",
              "</div>"
            ],
            "text/plain": [
              "         vendor    MYCT    MMIN    MMAX  CACH  CHMIN  CHMAX   ERP\n",
              "A           ibm   480.0    96.0   512.0   0.0    1.0    1.0  15.0\n",
              "14          bti   350.0    64.0    64.0   0.0    1.0    4.0  15.0\n",
              "108         ibm   900.0   512.0  1000.0   0.0    1.0    2.0  17.0\n",
              "122         ibm  1500.0   768.0  1000.0   0.0    0.0    0.0  18.0\n",
              "107         ibm   900.0  1000.0  1000.0   0.0    1.0    2.0  18.0\n",
              "102         ibm  1100.0   512.0  1500.0   0.0    1.0    1.0  18.0\n",
              "46          dec   810.0   512.0   512.0   8.0    1.0    1.0  18.0\n",
              "78       harris   300.0   192.0   768.0   6.0    6.0   24.0  18.0\n",
              "66           hp    90.0   256.0  1000.0   0.0    3.0   10.0  18.0\n",
              "62   four-phase   125.0   512.0  1000.0   0.0    8.0   20.0  19.0"
            ]
          },
          "execution_count": 121,
          "metadata": {},
          "output_type": "execute_result"
        }
      ],
      "source": [
        "cpu.iloc[:10]"
      ]
    },
    {
      "cell_type": "code",
      "execution_count": null,
      "metadata": {
        "id": "WB9k9TuJ1CtF",
        "outputId": "b249b0a4-bb72-431d-c0e5-573a04e21cf1"
      },
      "outputs": [
        {
          "name": "stdout",
          "output_type": "stream",
          "text": [
            "cannot do slice indexing on <class 'pandas.core.indexes.base.Index'> with these indexers [10] of <class 'int'>\n"
          ]
        }
      ],
      "source": [
        "try:\n",
        "    cpu.loc[:10]\n",
        "except TypeError as e:\n",
        "    print(e)"
      ]
    },
    {
      "cell_type": "markdown",
      "metadata": {
        "id": "TXmTG1Cv1CtF"
      },
      "source": [
        "For more, check out [Advanced Indexing](https://pandas.pydata.org/pandas-docs/stable/advanced.html#advanced)"
      ]
    },
    {
      "cell_type": "markdown",
      "metadata": {
        "id": "v5NIVQML1CtF"
      },
      "source": [
        "# Matplotlib introduction"
      ]
    },
    {
      "cell_type": "markdown",
      "metadata": {
        "id": "nvq-4vGR1CtF"
      },
      "source": [
        "Matplotlib is a 2D python plotting library with a similar interface to MATLAB's plot engine. The library is fully compatible with NumPy which means that we can -and most of the times will- pass numpy arrays as input arguments to the various plotting functions.\n",
        "\n",
        "There are many [resources](http://matplotlib.org/resources/index.html) for learning how to use Matplotlib. The following examples demonstrate only some basic plotting functions. When you are looking for a particular feature which you don't know yet how to implement a web search can prove very useful."
      ]
    },
    {
      "cell_type": "code",
      "execution_count": null,
      "metadata": {
        "id": "gw3V8F7S1CtF",
        "outputId": "22c08d00-8ac3-4812-a3b6-4f74861efbc2"
      },
      "outputs": [
        {
          "data": {
            "image/png": "[encoded data removed]",
            "text/plain": [
              "<Figure size 576x360 with 1 Axes>"
            ]
          },
          "metadata": {
            "needs_background": "light"
          },
          "output_type": "display_data"
        }
      ],
      "source": [
        "# The first example creates a sine and a cosine and plots them.\n",
        "X = np.linspace(-np.pi, np.pi, 256,endpoint=True) # Evenly spaced numbers over the specified interval\n",
        "C, S = np.cos(X), np.sin(X) # Create a sine (S) and a cosine (C)\n",
        "\n",
        "plt.figure(figsize=(8,5)) # Instantiates figure with a specified size\n",
        "plt.plot(X,C, label='Cosine')\n",
        "plt.plot(X,S, label='Sine')\n",
        "plt.legend() # Displays legend\n",
        "plt.show()"
      ]
    },
    {
      "cell_type": "code",
      "execution_count": null,
      "metadata": {
        "scrolled": false,
        "id": "tp2pklaP1CtG",
        "outputId": "313609f9-4cf8-4019-d4e2-e9839b2835c0"
      },
      "outputs": [
        {
          "data": {
            "image/png": "[encoded data removed]",
            "text/plain": [
              "<Figure size 504x504 with 4 Axes>"
            ]
          },
          "metadata": {
            "needs_background": "light"
          },
          "output_type": "display_data"
        }
      ],
      "source": [
        "# Create 4 subplots and plot cosines with different colours, linestyels and linewidths.\n",
        "X = np.linspace(-np.pi, np.pi, 256,endpoint=True) # Evenly spaced numbers over the specified interval\n",
        "C1, C2, C3, C4 = np.cos(X), np.cos(X+0.5), np.cos(X+1.), np.cos(X+1.5)\n",
        "\n",
        "fig, ax = plt.subplots(figsize=(7,7))\n",
        "plt.subplot(2,2,1)\n",
        "plt.plot(X, C1)\n",
        "plt.title('C1')\n",
        "plt.xticks([]) # Removes xticks\n",
        "plt.subplot(2,2,2)\n",
        "plt.plot(X, C2, color='green',  linestyle='-.')\n",
        "plt.title('C2')\n",
        "plt.xticks([]) # Removes xticks\n",
        "plt.yticks([]) # Removes yticks\n",
        "plt.subplot(2,2,3)\n",
        "plt.plot(X, C3, color='k', linestyle='--')\n",
        "plt.title('C3')\n",
        "plt.subplot(2,2,4)\n",
        "plt.plot(X, C4, color='m', linewidth = 5.)\n",
        "plt.title('C4')\n",
        "plt.yticks([]) # Removes yticks\n",
        "plt.show()"
      ]
    },
    {
      "cell_type": "markdown",
      "metadata": {
        "id": "ll1KqcGQ1CtG"
      },
      "source": [
        "Another way to reference subplots is using the Axes objects. This code acheives the same thing as above but, instead of using the package api functions, it uses the Axes object methods:"
      ]
    },
    {
      "cell_type": "code",
      "execution_count": null,
      "metadata": {
        "id": "ScPjQ2681CtG",
        "outputId": "6c634212-a106-46a0-85c6-1544f1927f87"
      },
      "outputs": [
        {
          "data": {
            "image/png": "[encoded data removed]",
            "text/plain": [
              "<Figure size 504x504 with 4 Axes>"
            ]
          },
          "metadata": {
            "needs_background": "light"
          },
          "output_type": "display_data"
        }
      ],
      "source": [
        "fig, ax = plt.subplots(2, 2, figsize=(7,7), sharex=True, sharey=True)\n",
        "# ax is a 2 x 2 numpy array at this point containing the Axes objects\n",
        "ax = ax.flatten()  # this simply flattens the array such that we can reference by a single index\n",
        "ax[0].plot(X, C1)\n",
        "ax[0].set_title('C1')\n",
        "ax[1].plot(X, C2, color='green',  linestyle='-.')\n",
        "ax[1].set_title('C2')\n",
        "ax[2].plot(X, C3, color='k', linestyle='--')\n",
        "ax[2].set_title('C3')\n",
        "ax[3].plot(X, C4, color='m', linewidth = 5.)\n",
        "ax[3].set_title('C4')\n",
        "plt.show()"
      ]
    },
    {
      "cell_type": "markdown",
      "metadata": {
        "id": "JYIFHhNP1CtG"
      },
      "source": [
        "**N.B. Because we created the subplots up front and stated the axes should be the same, matplotlib intelligently labels the axes for us**"
      ]
    },
    {
      "cell_type": "code",
      "execution_count": null,
      "metadata": {
        "id": "9np1V_s11CtG",
        "outputId": "9187b9e6-7121-419c-daff-7e49c87fbe87"
      },
      "outputs": [
        {
          "data": {
            "image/png": "[encoded data removed]",
            "text/plain": [
              "<Figure size 432x288 with 1 Axes>"
            ]
          },
          "metadata": {
            "needs_background": "light"
          },
          "output_type": "display_data"
        }
      ],
      "source": [
        "# Plot a histogram and add some text\n",
        "mu, sigma = 100, 15\n",
        "x = mu + sigma * np.random.randn(100) # Generate data from a normal distribution with mean mu and variance sigma\n",
        "\n",
        "# the histogram of the data\n",
        "n, bins, patches = plt.hist(x, 100, facecolor='g', alpha=0.75)\n",
        "\n",
        "plt.xlabel('Smarts')\n",
        "plt.ylabel('Probability')\n",
        "plt.title('Histogram of IQ')\n",
        "plt.text(60, .025, r'$\\mu=100,\\ \\sigma=15$') # Adds some text by using TeX\n",
        "plt.axis([40, 160, 0, 0.03]) # Sets the axes limits\n",
        "plt.grid(True) # Enables grid\n",
        "plt.show()"
      ]
    },
    {
      "cell_type": "markdown",
      "metadata": {
        "id": "NC7z7fbR1CtG"
      },
      "source": [
        "# Seaborn"
      ]
    },
    {
      "cell_type": "markdown",
      "metadata": {
        "id": "mX0JKDWw1CtG"
      },
      "source": [
        "[Seaborn](https://seaborn.github.io/index.html) is a visualisation library built on top of matplotlib which offers some aesthetic enhancement and, more importantly, provides some high-level functions for  \"exploring and understanding data\". Seaborn is also tightly integrated with pandas and provides support for both numpy and pandas data structures."
      ]
    },
    {
      "cell_type": "markdown",
      "metadata": {
        "id": "bnCUiPFu1CtG"
      },
      "source": [
        "### Aesthetics"
      ]
    },
    {
      "cell_type": "markdown",
      "metadata": {
        "id": "jGJrgpu_1CtG"
      },
      "source": [
        "Firstly note that when you import and use seaborn, it may change the aesthetics of all matplotlib plots you make subsequently. If you only ever want to use matplotlib defaults, you can import seaborn like this: `import seaborn.apionly as sns`.\n",
        "\n",
        "To reset to matplotlib defaults, use: `sns.reset_defaults()`"
      ]
    },
    {
      "cell_type": "markdown",
      "metadata": {
        "id": "Kb2FqeW51CtG"
      },
      "source": [
        "There's some really useful stuff you can do with seaborn, especially with respect to setting default sizings with respect to the context in which you're producing plots. With one function, seaborn can make plots appropriate for posters, papers, notebooks, or talks. For further information see the [seaborn documentation on aesthetics](https://seaborn.pydata.org/tutorial/aesthetics.html)"
      ]
    },
    {
      "cell_type": "markdown",
      "metadata": {
        "id": "fyVSEWIh1CtG"
      },
      "source": [
        "### Seaborn implemented functions [Optional]\n",
        "The Seaborn website has many great examples. Below we show a few taken directly from the website. These are just to give you a flavour of the kinds of things that Seaborn can do. You can use it as reference later; by no means should you learn this code by heart! You should definitely not worry if some of the following commands do not make sense just yet."
      ]
    },
    {
      "cell_type": "code",
      "execution_count": null,
      "metadata": {
        "id": "NpbRyhHI1CtG",
        "outputId": "eef0e216-4e34-4a15-dd06-c0939aa86758"
      },
      "outputs": [
        {
          "data": {
            "image/png": "[encoded data removed]",
            "text/plain": [
              "<Figure size 720x360 with 2 Axes>"
            ]
          },
          "metadata": {},
          "output_type": "display_data"
        },
        {
          "data": {
            "image/png": "[encoded data removed]",
            "text/plain": [
              "<Figure size 720x360 with 2 Axes>"
            ]
          },
          "metadata": {},
          "output_type": "display_data"
        },
        {
          "data": {
            "image/png": "[encoded data removed]",
            "text/plain": [
              "<Figure size 720x360 with 2 Axes>"
            ]
          },
          "metadata": {},
          "output_type": "display_data"
        },
        {
          "data": {
            "image/png": "[encoded data removed]",
            "text/plain": [
              "<Figure size 720x360 with 2 Axes>"
            ]
          },
          "metadata": {},
          "output_type": "display_data"
        }
      ],
      "source": [
        "# Load the example titanic dataset\n",
        "df = sns.load_dataset(\"titanic\")\n",
        "# Make a custom palette with gendered colors\n",
        "pal = dict(male=\"#6495ED\", female=\"#F08080\")\n",
        "\n",
        "with sns.axes_style(style=\"darkgrid\"):\n",
        "    for context in ['notebook', 'paper', 'poster', 'talk']:\n",
        "        with sns.plotting_context(context):\n",
        "            # Show the survival proability as a function of age and sex\n",
        "            g = sns.lmplot(x=\"age\", y=\"survived\", col=\"sex\", hue=\"sex\", data=df,\n",
        "                           palette=pal, y_jitter=.02, logistic=True)\n",
        "            g.set(xlim=(0, 80), ylim=(-.05, 1.05))\n",
        "            plt.show()"
      ]
    },
    {
      "cell_type": "code",
      "execution_count": null,
      "metadata": {
        "id": "oGFqadnd1CtG",
        "outputId": "9aab669c-dc09-4dd4-89b9-e5e6d2149c3a"
      },
      "outputs": [
        {
          "data": {
            "image/png": "[encoded data removed]",
            "text/plain": [
              "<Figure size 504x504 with 4 Axes>"
            ]
          },
          "metadata": {},
          "output_type": "display_data"
        }
      ],
      "source": [
        "# using a with statement means style defaults are not overridden\n",
        "with sns.axes_style(style=\"white\", rc=dict(palette=\"muted\", color_codes=True)):\n",
        "    rs = np.random.RandomState(10)\n",
        "\n",
        "    # Set up the matplotlib figure\n",
        "    f, axes = plt.subplots(2, 2, figsize=(7, 7), sharex=True)\n",
        "    sns.despine(left=True)\n",
        "\n",
        "    # Generate a random univariate dataset\n",
        "    d = rs.normal(size=100)\n",
        "\n",
        "    # Plot a simple histogram with binsize determined automatically\n",
        "    sns.distplot(d, kde=False, color=\"b\", ax=axes[0, 0])\n",
        "\n",
        "    # Plot a kernel density estimate and rug plot\n",
        "    sns.distplot(d, hist=False, rug=True, color=\"r\", ax=axes[0, 1])\n",
        "\n",
        "    # Plot a filled kernel density estimate\n",
        "    sns.distplot(d, hist=False, color=\"g\", kde_kws={\"shade\": True}, ax=axes[1, 0])\n",
        "\n",
        "    # Plot a historgram and kernel density estimate\n",
        "    sns.distplot(d, color=\"m\", ax=axes[1, 1])\n",
        "\n",
        "    plt.setp(axes, yticks=[])\n",
        "    plt.tight_layout()\n",
        "    plt.show()"
      ]
    },
    {
      "cell_type": "code",
      "execution_count": null,
      "metadata": {
        "id": "h5sAvkr11CtG",
        "outputId": "3e8f8554-7516-4303-e24e-dcb10ccf4dcb"
      },
      "outputs": [
        {
          "name": "stderr",
          "output_type": "stream",
          "text": [
            "d:\\Users\\Mingjun\\anaconda3\\lib\\site-packages\\seaborn\\axisgrid.py:2264: UserWarning: The `size` parameter has been renamed to `height`; please update your code.\n",
            "  warnings.warn(msg, UserWarning)\n"
          ]
        },
        {
          "data": {
            "image/png": "[encoded data removed]",
            "text/plain": [
              "<Figure size 504x504 with 3 Axes>"
            ]
          },
          "metadata": {},
          "output_type": "display_data"
        }
      ],
      "source": [
        "with sns.axes_style(style=\"white\"):\n",
        "\n",
        "    # Generate a random correlated bivariate dataset\n",
        "    rs = np.random.RandomState(5)\n",
        "    mean = [0, 0]\n",
        "    cov = [(1, .5), (.5, 1)]\n",
        "    x1, x2 = rs.multivariate_normal(mean, cov, 500).T\n",
        "    x1 = pd.Series(x1, name=\"$X_1$\")\n",
        "    x2 = pd.Series(x2, name=\"$X_2$\")\n",
        "\n",
        "    # Show the joint distribution using kernel density estimation\n",
        "    g = sns.jointplot(x1, x2, kind=\"kde\", size=7, space=0)\n",
        "    plt.show()"
      ]
    },
    {
      "cell_type": "code",
      "execution_count": null,
      "metadata": {
        "id": "vvPm-CRT1CtG",
        "outputId": "dda92792-d0ea-4601-e7a5-2c6bfd5cb353"
      },
      "outputs": [
        {
          "data": {
            "image/png": "[encoded data removed]",
            "text/plain": [
              "<Figure size 432x288 with 1 Axes>"
            ]
          },
          "metadata": {},
          "output_type": "display_data"
        }
      ],
      "source": [
        "with sns.axes_style(style=\"whitegrid\", rc=dict(palette=\"pastel\", color_codes=True)):\n",
        "    # Load the example tips dataset\n",
        "    tips = sns.load_dataset(\"tips\")\n",
        "\n",
        "    # Draw a nested violinplot and split the violins for easier comparison\n",
        "    sns.violinplot(x=\"day\", y=\"total_bill\", hue=\"sex\", data=tips, split=True,\n",
        "                   inner=\"quart\", palette={\"Male\": \"b\", \"Female\": \"y\"})\n",
        "    sns.despine(left=True)\n",
        "    plt.show()"
      ]
    },
    {
      "cell_type": "code",
      "execution_count": null,
      "metadata": {
        "id": "S4yQbKY41CtH",
        "outputId": "0f6db13d-0ff1-48f7-c8e3-5f7a675e9cf2"
      },
      "outputs": [
        {
          "data": {
            "image/png": "[encoded data removed]",
            "text/plain": [
              "<Figure size 432x288 with 2 Axes>"
            ]
          },
          "metadata": {},
          "output_type": "display_data"
        }
      ],
      "source": [
        "sns.set()\n",
        "\n",
        "# Load the example flights dataset and convert to long-form\n",
        "flights_long = sns.load_dataset(\"flights\")\n",
        "flights = flights_long.pivot(\"month\", \"year\", \"passengers\")\n",
        "\n",
        "# Draw a heatmap with the numeric values in each cell\n",
        "sns.heatmap(flights, annot=True, fmt=\"d\", linewidths=.5)\n",
        "plt.show()"
      ]
    },
    {
      "cell_type": "code",
      "execution_count": null,
      "metadata": {
        "id": "cgE_FGIu1CtH",
        "outputId": "1859df0e-7952-45d8-ca03-81132c2aa578"
      },
      "outputs": [
        {
          "data": {
            "image/png": "[encoded data removed]",
            "text/plain": [
              "<Figure size 432x432 with 4 Axes>"
            ]
          },
          "metadata": {},
          "output_type": "display_data"
        }
      ],
      "source": [
        "sns.set(style=\"darkgrid\")\n",
        "\n",
        "tips = sns.load_dataset(\"tips\")\n",
        "g = sns.FacetGrid(tips, row=\"sex\", col=\"time\", margin_titles=True)\n",
        "bins = np.linspace(0, 60, 13)\n",
        "g.map(plt.hist, \"total_bill\", color=\"steelblue\", bins=bins, lw=0)\n",
        "plt.show()"
      ]
    },
    {
      "cell_type": "code",
      "execution_count": null,
      "metadata": {
        "id": "Spvxlpv51CtH",
        "outputId": "e92b647f-85f8-4902-b03f-c61172ab89fa"
      },
      "outputs": [
        {
          "name": "stderr",
          "output_type": "stream",
          "text": [
            "d:\\Users\\Mingjun\\anaconda3\\lib\\site-packages\\seaborn\\axisgrid.py:243: UserWarning: The `size` parameter has been renamed to `height`; please update your code.\n",
            "  warnings.warn(msg, UserWarning)\n"
          ]
        },
        {
          "data": {
            "image/png": "[encoded data removed]",
            "text/plain": [
              "<Figure size 540x432 with 20 Axes>"
            ]
          },
          "metadata": {},
          "output_type": "display_data"
        }
      ],
      "source": [
        "sns.set(style=\"ticks\")\n",
        "\n",
        "# Create a dataset with many short random walks\n",
        "rs = np.random.RandomState(4)\n",
        "pos = rs.randint(-1, 2, (20, 5)).cumsum(axis=1)\n",
        "pos -= pos[:, 0, np.newaxis]\n",
        "step = np.tile(range(5), 20)\n",
        "walk = np.repeat(range(20), 5)\n",
        "df = pd.DataFrame(np.c_[pos.flat, step, walk],\n",
        "                  columns=[\"position\", \"step\", \"walk\"])\n",
        "\n",
        "# Initialize a grid of plots with an Axes for each walk\n",
        "grid = sns.FacetGrid(df, col=\"walk\", hue=\"walk\", col_wrap=5, size=1.5)\n",
        "\n",
        "# Draw a horizontal line to show the starting point\n",
        "grid.map(plt.axhline, y=0, ls=\":\", c=\".5\")\n",
        "\n",
        "# Draw a line plot to show the trajectory of each random walk\n",
        "grid.map(plt.plot, \"step\", \"position\", marker=\"o\", ms=4)\n",
        "\n",
        "# Adjust the tick positions and labels\n",
        "grid.set(xticks=np.arange(5), yticks=[-3, 3],\n",
        "         xlim=(-.5, 4.5), ylim=(-3.5, 3.5))\n",
        "\n",
        "# Adjust the arrangement of the plots\n",
        "grid.fig.tight_layout(w_pad=1)\n",
        "plt.show()"
      ]
    },
    {
      "cell_type": "markdown",
      "metadata": {
        "id": "J8ZjTp141CtH"
      },
      "source": [
        "# Exercises"
      ]
    },
    {
      "cell_type": "markdown",
      "metadata": {
        "id": "AnzKe-pp1CtH"
      },
      "source": [
        "## Numpy exercises"
      ]
    },
    {
      "cell_type": "markdown",
      "metadata": {
        "id": "zPyQORHb1CtH"
      },
      "source": [
        "The following short exercises test your understanding of simple numpy functions and objects. Make sure you can complete them and feel free to reference the official [documentation](http://docs.scipy.org/doc/) should you need it."
      ]
    },
    {
      "cell_type": "markdown",
      "metadata": {
        "id": "0LkXTSwi1CtH"
      },
      "source": [
        "#### ========== Question 1 ==========\n",
        "Print your numpy version."
      ]
    },
    {
      "cell_type": "code",
      "execution_count": null,
      "metadata": {
        "id": "UJXSc7301CtH"
      },
      "outputs": [],
      "source": [
        "# Your code goes here"
      ]
    },
    {
      "cell_type": "markdown",
      "metadata": {
        "id": "JJuBf4A01CtH"
      },
      "source": [
        "#### ========== Question 2 ==========\n",
        "Create a zero vector of size 5."
      ]
    },
    {
      "cell_type": "code",
      "execution_count": null,
      "metadata": {
        "id": "kdjb8WKl1CtH"
      },
      "outputs": [],
      "source": [
        "# Your code goes here"
      ]
    },
    {
      "cell_type": "markdown",
      "metadata": {
        "id": "8ZOPAqwj1CtH"
      },
      "source": [
        "#### ========== Question 3 ==========\n",
        "Create a zero vector of size 5 of type integer. Set the third element to 1."
      ]
    },
    {
      "cell_type": "code",
      "execution_count": null,
      "metadata": {
        "id": "8Jfk08Fs1CtH"
      },
      "outputs": [],
      "source": [
        "# Your code goes here"
      ]
    },
    {
      "cell_type": "markdown",
      "metadata": {
        "id": "lW2766di1CtI"
      },
      "source": [
        "#### ========== Question 4 ==========\n",
        "Create a vector ranging from 0 to 9."
      ]
    },
    {
      "cell_type": "code",
      "execution_count": null,
      "metadata": {
        "id": "lTPu9_IS1CtI"
      },
      "outputs": [],
      "source": [
        "# Your code goes here"
      ]
    },
    {
      "cell_type": "markdown",
      "metadata": {
        "id": "Ay2eDDGc1CtI"
      },
      "source": [
        "#### ========== Question 5 ==========\n",
        "Create a vector ranging from 10 to 29."
      ]
    },
    {
      "cell_type": "code",
      "execution_count": null,
      "metadata": {
        "id": "ZH4JfXzn1CtI"
      },
      "outputs": [],
      "source": [
        "# Your code goes here"
      ]
    },
    {
      "cell_type": "markdown",
      "metadata": {
        "id": "_oVGQQG71CtI"
      },
      "source": [
        "#### ========== Question 6 ==========\n",
        "Create a vector ranging from 0 to 9 and reverse it."
      ]
    },
    {
      "cell_type": "code",
      "execution_count": null,
      "metadata": {
        "id": "ul9d58mL1CtI"
      },
      "outputs": [],
      "source": [
        "# Your code goes here"
      ]
    },
    {
      "cell_type": "markdown",
      "metadata": {
        "id": "0o-wbVWq1CtI"
      },
      "source": [
        "#### ========== Question 7 ==========\n",
        "Create a 5 x 3 zero matrix."
      ]
    },
    {
      "cell_type": "code",
      "execution_count": null,
      "metadata": {
        "id": "Ayr2NToi1CtI"
      },
      "outputs": [],
      "source": [
        "# Your code goes here"
      ]
    },
    {
      "cell_type": "markdown",
      "metadata": {
        "id": "uwUwOLx41CtI"
      },
      "source": [
        "#### ========== Question 8 ==========\n",
        "Create this matrix...without copy pasting it ;)\n",
        "```\n",
        "array([[0, 3, 6],\n",
        "       [1, 4, 7],\n",
        "       [2, 5, 8]])\n",
        "```"
      ]
    },
    {
      "cell_type": "code",
      "execution_count": null,
      "metadata": {
        "id": "x3LlVRyv1CtI"
      },
      "outputs": [],
      "source": [
        "# Your code goes here"
      ]
    },
    {
      "cell_type": "markdown",
      "metadata": {
        "id": "xDDvQJo01CtI"
      },
      "source": [
        "#### ========== Question 9 ==========\n",
        "Create a 3 X 3 identity matrix."
      ]
    },
    {
      "cell_type": "code",
      "execution_count": null,
      "metadata": {
        "id": "7znT5jGD1CtI"
      },
      "outputs": [],
      "source": [
        "# Your code goes here"
      ]
    },
    {
      "cell_type": "markdown",
      "metadata": {
        "id": "YtFWozZQ1CtI"
      },
      "source": [
        "#### ========== Question 10 ==========\n",
        "Create a 2 X 2 X 2 array with random values (drawn from a normal distribution)."
      ]
    },
    {
      "cell_type": "code",
      "execution_count": null,
      "metadata": {
        "id": "38Ym_EM21CtJ"
      },
      "outputs": [],
      "source": [
        "# Your code goes here"
      ]
    },
    {
      "cell_type": "markdown",
      "metadata": {
        "id": "XNTN-inw1CtJ"
      },
      "source": [
        "#### ========== Question 11a ==========\n",
        "Create a 5 x 4 array with random values and find the minimum and maximum values."
      ]
    },
    {
      "cell_type": "code",
      "execution_count": null,
      "metadata": {
        "id": "2j91Xzn31CtJ"
      },
      "outputs": [],
      "source": [
        "# Your code goes here"
      ]
    },
    {
      "cell_type": "markdown",
      "metadata": {
        "id": "eWXKti4Q1CtJ"
      },
      "source": [
        "#### ========== Question 11b ==========\n",
        "Return the *index* (i.e. the location within the matrix) of the max or min values"
      ]
    },
    {
      "cell_type": "code",
      "execution_count": null,
      "metadata": {
        "id": "hlTvkZuw1CtJ"
      },
      "outputs": [],
      "source": [
        "# Your code goes here"
      ]
    },
    {
      "cell_type": "markdown",
      "metadata": {
        "id": "VNcHMz6c1CtJ"
      },
      "source": [
        "#### ========== Question 12 ==========\n",
        "Find the mean value of the array in 11."
      ]
    },
    {
      "cell_type": "code",
      "execution_count": null,
      "metadata": {
        "id": "pOKQ6WUM1CtJ"
      },
      "outputs": [],
      "source": [
        "# Your code goes here"
      ]
    },
    {
      "cell_type": "markdown",
      "metadata": {
        "id": "7vc9zqjp1CtJ"
      },
      "source": [
        "#### ========== Question 13 ==========\n",
        "Find the row means of the array in 11."
      ]
    },
    {
      "cell_type": "code",
      "execution_count": null,
      "metadata": {
        "id": "s2ny_rXA1CtJ"
      },
      "outputs": [],
      "source": [
        "# Your code goes here"
      ]
    },
    {
      "cell_type": "markdown",
      "metadata": {
        "id": "okAosHeC1CtJ"
      },
      "source": [
        "#### ========== Question 14 ==========\n",
        "Find the column means of the array in 11."
      ]
    },
    {
      "cell_type": "code",
      "execution_count": null,
      "metadata": {
        "id": "SiNAlYXC1CtJ"
      },
      "outputs": [],
      "source": [
        "# Your code goes here"
      ]
    },
    {
      "cell_type": "markdown",
      "metadata": {
        "id": "_vVhraZi1CtK"
      },
      "source": [
        "#### ========== Question 15 ==========\n",
        "Create a list with elements 2.2, 3.5, 0, 4, 0. and convert into numpy array. Find the indices of non-zero elements."
      ]
    },
    {
      "cell_type": "code",
      "execution_count": null,
      "metadata": {
        "id": "OCDGq-3E1CtK"
      },
      "outputs": [],
      "source": [
        "# Your code goes here"
      ]
    },
    {
      "cell_type": "markdown",
      "metadata": {
        "id": "cqkbMLXP1CtK"
      },
      "source": [
        "#### ========== Question 16 ==========\n",
        "Crate two normally distributed random matrices of shape (5, 4) and (4, 2). Print their matrix product."
      ]
    },
    {
      "cell_type": "code",
      "execution_count": null,
      "metadata": {
        "id": "sgVktxWe1CtK"
      },
      "outputs": [],
      "source": [
        "# Your code goes here"
      ]
    },
    {
      "cell_type": "markdown",
      "metadata": {
        "id": "NfK6t2SP1CtK"
      },
      "source": [
        "#### ========== Question 17 ==========\n",
        "Crate a random matrix of shape (5, 3) and a random vector of size 3. Use broadcasting to add the two arrays."
      ]
    },
    {
      "cell_type": "code",
      "execution_count": null,
      "metadata": {
        "id": "24NslWNC1CtK"
      },
      "outputs": [],
      "source": [
        "# Your code goes here"
      ]
    },
    {
      "cell_type": "markdown",
      "metadata": {
        "id": "mBwc4VYX1CtK"
      },
      "source": [
        "## Pandas exercises"
      ]
    },
    {
      "cell_type": "markdown",
      "metadata": {
        "id": "ofg6zW9r1CtK"
      },
      "source": [
        "#### ========== Question 18 ==========\n",
        "Load the `credit` dataset and display the dataset basic information."
      ]
    },
    {
      "cell_type": "code",
      "execution_count": null,
      "metadata": {
        "id": "OWU_DtwK1CtK"
      },
      "outputs": [],
      "source": [
        "# Your code goes here"
      ]
    },
    {
      "cell_type": "markdown",
      "metadata": {
        "id": "1QpKHcmg1CtK"
      },
      "source": [
        "#### ========== Question 19 ==========\n",
        "Display the summary statistics of the attributes of the dataset."
      ]
    },
    {
      "cell_type": "code",
      "execution_count": null,
      "metadata": {
        "id": "wMr2QePi1CtK"
      },
      "outputs": [],
      "source": [
        "# Your code goes here"
      ]
    },
    {
      "cell_type": "markdown",
      "metadata": {
        "id": "UN96WCrI1CtK"
      },
      "source": [
        "#### ========== Question 20 ==========\n",
        "Display the last 6 instances of the dataset."
      ]
    },
    {
      "cell_type": "code",
      "execution_count": null,
      "metadata": {
        "id": "pK2kmF671CtK"
      },
      "outputs": [],
      "source": [
        "# Your code goes here"
      ]
    },
    {
      "cell_type": "markdown",
      "metadata": {
        "id": "T-2Z5cQZ1CtK"
      },
      "source": [
        "#### ========== Question 21 ==========\n",
        "Print the 5th observation"
      ]
    },
    {
      "cell_type": "code",
      "execution_count": null,
      "metadata": {
        "id": "65ODnUy71CtK"
      },
      "outputs": [],
      "source": [
        "# Your code goes here"
      ]
    },
    {
      "cell_type": "markdown",
      "metadata": {
        "id": "vlG3FyW-1CtK"
      },
      "source": [
        "#### ========== Question 22 ==========\n",
        "Print the standard deviation of the attribute `CreditAmount` by using the numpy method `std`. You can verify you get the correct result by inspecting the statistics table from Question 19."
      ]
    },
    {
      "cell_type": "code",
      "execution_count": null,
      "metadata": {
        "id": "hjAH7zM11CtK"
      },
      "outputs": [],
      "source": [
        "# Your code goes here"
      ]
    },
    {
      "cell_type": "markdown",
      "metadata": {
        "id": "AWUcYQxo1CtK"
      },
      "source": [
        "## Matplotlib exercises"
      ]
    },
    {
      "cell_type": "markdown",
      "metadata": {
        "id": "WKKXMXsh1CtK"
      },
      "source": [
        "#### ========== Question 23 ==========\n",
        "Initialise an empty figure of size (8,6). Create a scatter plot of the observations in the `credit` dataset for the attributes `Duration` and `Age` (age should be shown on the xaxis). Use black coloured markers. Label the axes accordingly by using red colour for the xaxis and green for the yaxis. Finally, add a title of your choice by using a font size of 20."
      ]
    },
    {
      "cell_type": "code",
      "execution_count": null,
      "metadata": {
        "id": "1-Axsi1z1CtK"
      },
      "outputs": [],
      "source": [
        "# Your code goes here"
      ]
    },
    {
      "cell_type": "markdown",
      "metadata": {
        "id": "hGTRIMf41CtL"
      },
      "source": [
        "#### ========== Question 24 ==========\n",
        "You should note above that there is an outlier (i.e. an observation that is very distant to the other observations). Now you think that there must be something wrong with that observation (why?) and as a next step you should remove it from both the age and duration variables and a make a scatter plot of the new data."
      ]
    },
    {
      "cell_type": "code",
      "execution_count": null,
      "metadata": {
        "id": "oDQF05PW1CtL"
      },
      "outputs": [],
      "source": [
        "# Your code goes here"
      ]
    }
  ],
  "metadata": {
    "anaconda-cloud": {},
    "kernelspec": {
      "display_name": "Python 3",
      "language": "python",
      "name": "python3"
    },
    "language_info": {
      "codemirror_mode": {
        "name": "ipython",
        "version": 3
      },
      "file_extension": ".py",
      "mimetype": "text/x-python",
      "name": "python",
      "nbconvert_exporter": "python",
      "pygments_lexer": "ipython3",
      "version": "3.8.3"
    },
    "colab": {
      "provenance": [],
      "toc_visible": true
    }
  },
  "nbformat": 4,
  "nbformat_minor": 0
}